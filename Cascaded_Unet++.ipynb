{
  "nbformat": 4,
  "nbformat_minor": 0,
  "metadata": {
    "accelerator": "GPU",
    "colab": {
      "provenance": [],
      "machine_shape": "hm"
    },
    "kernelspec": {
      "display_name": "Python 3",
      "name": "python3"
    },
    "language_info": {
      "name": "python"
    }
  },
  "cells": [
    {
      "cell_type": "markdown",
      "metadata": {
        "id": "505RgIz6SHwv"
      },
      "source": [
        "U-NET++"
      ]
    },
    {
      "cell_type": "code",
      "metadata": {
        "id": "pAbsEVXLN3pq"
      },
      "source": [
        "def specifity(im1, im2, empty_score=1.0):\n",
        "    im1 = np.asarray(im1>0.5).astype(np.bool)\n",
        "    im2 = np.asarray(im2>0.5).astype(np.bool)\n",
        "\n",
        "\n",
        "    if im1.shape != im2.shape:\n",
        "        raise ValueError(\"Shape mismatch: im1 and im2 must have the same shape.\")\n",
        "\n",
        "    im_sum = im1.sum() + im2.sum()\n",
        "    if im_sum == 0:\n",
        "        return empty_score\n",
        "\n",
        "    TP = np.logical_and(im1, im2)\n",
        "    TN = np.logical_or(im1, im2)\n",
        "\n",
        "    return TN.sum() / (1-im2.sum())"
      ],
      "execution_count": null,
      "outputs": []
    },
    {
      "cell_type": "code",
      "metadata": {
        "colab": {
          "base_uri": "https://localhost:8080/"
        },
        "id": "QOjuc4bgPG9r",
        "outputId": "ca44f8e1-a514-453d-d574-b39b009b3a78"
      },
      "source": [
        "specificity(seg_tam_test[225,0,:,:], pred_tam[225,0,:,:])"
      ],
      "execution_count": null,
      "outputs": [
        {
          "output_type": "execute_result",
          "data": {
            "text/plain": [
              "<tf.Tensor: shape=(), dtype=float32, numpy=0.9938604>"
            ]
          },
          "metadata": {
            "tags": []
          },
          "execution_count": 72
        }
      ]
    },
    {
      "cell_type": "code",
      "metadata": {
        "colab": {
          "base_uri": "https://localhost:8080/"
        },
        "id": "iNH2SC5HOUnJ",
        "outputId": "324c156f-9c92-4d13-e5c3-022fe1545c8a"
      },
      "source": [
        "sum=0\n",
        "for i in range(0,len(seg_tam_test)):\n",
        "  sp = specificity(seg_tam_test[i,0,:,:], pred_tam[i,0,:,:])\n",
        "  sum= sp+sum\n",
        "mean=sum/len(seg_tam_test)\n",
        "print(mean)"
      ],
      "execution_count": null,
      "outputs": [
        {
          "output_type": "stream",
          "text": [
            "tf.Tensor(0.9982595, shape=(), dtype=float32)\n"
          ],
          "name": "stdout"
        }
      ]
    },
    {
      "cell_type": "code",
      "metadata": {
        "id": "XJ7PYj15F-qS"
      },
      "source": [
        "import skimage.io as io\n",
        "import matplotlib.pyplot as plt\n",
        "import numpy as np\n",
        "import glob\n",
        "import cv2"
      ],
      "execution_count": null,
      "outputs": []
    },
    {
      "cell_type": "code",
      "metadata": {
        "colab": {
          "base_uri": "https://localhost:8080/"
        },
        "id": "UbGuaz7Rxr0e",
        "outputId": "28d8f32a-05c4-44fc-959c-d4e00af0571e"
      },
      "source": [
        "!pip install simpleitk"
      ],
      "execution_count": null,
      "outputs": [
        {
          "output_type": "stream",
          "text": [
            "Collecting simpleitk\n",
            "\u001b[?25l  Downloading https://files.pythonhosted.org/packages/9c/6b/85df5eb3a8059b23a53a9f224476e75473f9bcc0a8583ed1a9c34619f372/SimpleITK-2.0.2-cp37-cp37m-manylinux2010_x86_64.whl (47.4MB)\n",
            "\u001b[K     |████████████████████████████████| 47.4MB 109kB/s \n",
            "\u001b[?25hInstalling collected packages: simpleitk\n",
            "Successfully installed simpleitk-2.0.2\n"
          ],
          "name": "stdout"
        }
      ]
    },
    {
      "cell_type": "code",
      "metadata": {
        "id": "1I1QdOz5eTb8"
      },
      "source": [
        "import numpy as np\n",
        "import random as r\n",
        "import glob\n",
        "\n",
        "def train_array(path,end):\n",
        "    files = glob.glob(path+end,recursive=True)\n",
        "    img_liste = []\n",
        "    r.seed(9)\n",
        "    r.shuffle(files)\n",
        "    for file in files:\n",
        "        img = io.imread(file, plugin='simpleitk')\n",
        "        img = (img-img.mean())/ img.std()\n",
        "        img = img.astype(np.float32)\n",
        "\n",
        "        for slice in range(0,150):\n",
        "            img_s = img[slice,:,:]\n",
        "            img_s = cv2.resize(img_s, (240,240))\n",
        "            img_s = np.expand_dims(img_s,axis=0)\n",
        "            img_liste.append(img_s)\n",
        "\n",
        "    return np.array(img_liste)"
      ],
      "execution_count": null,
      "outputs": []
    },
    {
      "cell_type": "code",
      "metadata": {
        "id": "uC3GToFIsfsJ"
      },
      "source": [
        "flair = train_array('/content/drive/MyDrive/MICCAI_BraTS2020_TestingData/','**/*flair.nii.gz')"
      ],
      "execution_count": null,
      "outputs": []
    },
    {
      "cell_type": "code",
      "metadata": {
        "id": "8UsMJoBENGzS"
      },
      "source": [
        "t1ce = train_array('/content/drive/MyDrive/project/Unet_Brain_tumor_segmentation/MICCAI_BraTS2020_TrainingData/','**/*t1ce_nb4.nii.gz')"
      ],
      "execution_count": null,
      "outputs": []
    },
    {
      "cell_type": "code",
      "metadata": {
        "id": "dR3EIvu-NNX3"
      },
      "source": [
        "t1ce_test = train_array('/content/drive/MyDrive/MICCAI_BraTS2020_TestingData/','**/*t1ce_nb4.nii.gz')"
      ],
      "execution_count": null,
      "outputs": []
    },
    {
      "cell_type": "code",
      "metadata": {
        "id": "sMKlOQ2DDjqF"
      },
      "source": [
        "import numpy as np\n",
        "import random as r\n",
        "\n",
        "def seg_array(path,end,label):\n",
        "    files = glob.glob(path+end,recursive=True)\n",
        "    img_liste = []\n",
        "    r.seed(9)\n",
        "    r.shuffle(files)\n",
        "    for file in files:\n",
        "        img = io.imread(file, plugin='simpleitk')\n",
        "\n",
        "        if label == 1:\n",
        "          img[img != 0] = 1 #tam tümör\n",
        "        elif label == 2:\n",
        "          img[img != 1] = 0 #nekroz\n",
        "        elif label == 3:\n",
        "          img[img == 2] = 0\n",
        "          img[img != 0] = 1 #ödemsiz tümör\n",
        "        elif label == 4:\n",
        "          img[img != 4] = 0\n",
        "          img[img == 4] = 1 #genişleyen tümör\n",
        "\n",
        "        img=img.astype(np.float32)\n",
        "\n",
        "        for slice in range(0,150):\n",
        "            img_s = img[slice,:,:]\n",
        "            img_s = cv2.resize(img_s, (240,240))\n",
        "            img_s = np.expand_dims(img_s,axis=0)\n",
        "            img_liste.append(img_s)\n",
        "\n",
        "    return np.array(img_liste)"
      ],
      "execution_count": null,
      "outputs": []
    },
    {
      "cell_type": "code",
      "metadata": {
        "id": "o9nVB0nzJ2cm"
      },
      "source": [
        "seg_tam = seg_array('/content/drive/MyDrive/project/Unet_Brain_tumor_segmentation/MICCAI_BraTS2020_TrainingData/','**/*seg.nii.gz',1)"
      ],
      "execution_count": null,
      "outputs": []
    },
    {
      "cell_type": "code",
      "metadata": {
        "id": "KbjVkIrpHS0j"
      },
      "source": [
        "seg_tam_test = seg_array('/content/drive/MyDrive/MICCAI_BraTS2020_TestingData/','**/*seg.nii.gz',1)"
      ],
      "execution_count": null,
      "outputs": []
    },
    {
      "cell_type": "code",
      "metadata": {
        "id": "jOEo1F16tKXC"
      },
      "source": [
        "seg_nekroz = seg_array('/content/drive/MyDrive/MICCAI_BraTS2020_TrainingData/','**/*seg.nii.gz',2)"
      ],
      "execution_count": null,
      "outputs": []
    },
    {
      "cell_type": "code",
      "metadata": {
        "id": "wfWC8FhycuB5"
      },
      "source": [
        "seg_nekroz_test = seg_array('/content/drive/MyDrive/MICCAI_BraTS2020_TestingData/','**/*seg.nii.gz',2)"
      ],
      "execution_count": null,
      "outputs": []
    },
    {
      "cell_type": "code",
      "metadata": {
        "id": "htFfFdk2bL2T"
      },
      "source": [
        "seg_ödemsiz = seg_array('/content/drive/MyDrive/project/Unet_Brain_tumor_segmentation/MICCAI_BraTS2020_TrainingData/','**/*seg.nii.gz',3)"
      ],
      "execution_count": null,
      "outputs": []
    },
    {
      "cell_type": "code",
      "metadata": {
        "id": "eCe3xyPC-jQn"
      },
      "source": [
        "seg_ödemsiz_test = seg_array('/content/drive/MyDrive/MICCAI_BraTS2020_TestingData/','**/*seg.nii.gz',3)"
      ],
      "execution_count": null,
      "outputs": []
    },
    {
      "cell_type": "code",
      "metadata": {
        "id": "W5081XKRqYLJ"
      },
      "source": [
        "seg_geniş = seg_array('/content/drive/MyDrive/project/Unet_Brain_tumor_segmentation/MICCAI_BraTS2020_TrainingData/','**/*seg.nii.gz',4)"
      ],
      "execution_count": null,
      "outputs": []
    },
    {
      "cell_type": "code",
      "metadata": {
        "id": "Z3ApKC2pGOMO"
      },
      "source": [
        "seg_geniş_test = seg_array('/content/drive/MyDrive/MICCAI_BraTS2020_TestingData/','**/*seg.nii.gz',4)"
      ],
      "execution_count": null,
      "outputs": []
    },
    {
      "cell_type": "code",
      "metadata": {
        "colab": {
          "base_uri": "https://localhost:8080/"
        },
        "id": "BOw8VCDf3JG6",
        "outputId": "de882575-6680-4458-be1b-ca9ffad3b722"
      },
      "source": [
        "!unzip /content/drive/MyDrive/t1ce_ödemsiz.zip"
      ],
      "execution_count": null,
      "outputs": [
        {
          "output_type": "stream",
          "text": [
            "Archive:  /content/drive/MyDrive/t1ce_ödemsiz.zip\n",
            "  inflating: t1ce_ödemsiz.npy       \n",
            "  inflating: t1ce_ödemsiz_test.npy  \n"
          ],
          "name": "stdout"
        }
      ]
    },
    {
      "cell_type": "code",
      "metadata": {
        "colab": {
          "base_uri": "https://localhost:8080/"
        },
        "id": "NhBL8DUx3JG7",
        "outputId": "634355de-6ab4-4b3e-a53a-7d9acc553caa"
      },
      "source": [
        "!unzip /content/drive/MyDrive/x_test.zip"
      ],
      "execution_count": null,
      "outputs": [
        {
          "output_type": "stream",
          "text": [
            "Archive:  /content/drive/MyDrive/x_test.zip\n",
            "  inflating: x_test.npy              \n"
          ],
          "name": "stdout"
        }
      ]
    },
    {
      "cell_type": "code",
      "metadata": {
        "id": "hR2vGQsa3JG8"
      },
      "source": [
        "t1ce_ödemsiz = np.load ('t1ce_ödemsiz.npy')"
      ],
      "execution_count": null,
      "outputs": []
    },
    {
      "cell_type": "code",
      "metadata": {
        "id": "q_AEL1iL3JG8"
      },
      "source": [
        "x_test = np.load ('x_test.npy')"
      ],
      "execution_count": null,
      "outputs": []
    },
    {
      "cell_type": "code",
      "metadata": {
        "id": "PhcrQCtyqy6B"
      },
      "source": [
        "seg_orj = seg_array('/content/drive/MyDrive/project/Unet_Brain_tumor_segmentation/MICCAI_BraTS2020_TrainingData/','**/*seg.nii.gz',0)"
      ],
      "execution_count": null,
      "outputs": []
    },
    {
      "cell_type": "code",
      "metadata": {
        "id": "IY2qJlbgCV1s"
      },
      "source": [
        "seg_orj = seg_array('/content/drive/MyDrive/MICCAI_BraTS2020_TestingData/','**/*seg.nii.gz',0)"
      ],
      "execution_count": null,
      "outputs": []
    },
    {
      "cell_type": "code",
      "metadata": {
        "colab": {
          "base_uri": "https://localhost:8080/"
        },
        "id": "Q0JhbrqFvIZc",
        "outputId": "78912539-139c-4c6a-d06f-58fefb713a90"
      },
      "source": [
        "!unzip /content/drive/MyDrive/x_train.zip"
      ],
      "execution_count": null,
      "outputs": [
        {
          "output_type": "stream",
          "text": [
            "Archive:  /content/drive/MyDrive/x_train.zip\n",
            "  inflating: x_train.npy             \n"
          ],
          "name": "stdout"
        }
      ]
    },
    {
      "cell_type": "code",
      "metadata": {
        "colab": {
          "base_uri": "https://localhost:8080/"
        },
        "id": "TV92pczWvC5z",
        "outputId": "2644f315-2b8e-4477-9592-b957aeb46eec"
      },
      "source": [
        "!unzip /content/drive/MyDrive/x_test.zip"
      ],
      "execution_count": null,
      "outputs": [
        {
          "output_type": "stream",
          "text": [
            "Archive:  /content/drive/MyDrive/x_test.zip\n",
            "  inflating: x_test.npy              \n"
          ],
          "name": "stdout"
        }
      ]
    },
    {
      "cell_type": "code",
      "metadata": {
        "id": "zHg0GAtnwKZ-"
      },
      "source": [
        "x_train = np.load ('x_train.npy')"
      ],
      "execution_count": null,
      "outputs": []
    },
    {
      "cell_type": "code",
      "metadata": {
        "id": "f86YP96LtKTe"
      },
      "source": [
        "x_test = np.load ('x_test.npy')"
      ],
      "execution_count": null,
      "outputs": []
    },
    {
      "cell_type": "code",
      "metadata": {
        "id": "xRMqHKy-3s5_"
      },
      "source": [
        "from keras.models import Model\n",
        "from keras.layers import Dense, Dropout, Activation, Flatten\n",
        "from keras.layers import concatenate, Conv2D, MaxPooling2D, Conv2DTranspose\n",
        "from keras.layers import Input, merge, UpSampling2D,BatchNormalization\n",
        "from keras.callbacks import ModelCheckpoint\n",
        "from keras.optimizers import Adam\n",
        "from keras.preprocessing.image import ImageDataGenerator\n",
        "from keras import backend as K\n",
        "import tensorflow as tf\n",
        "\n",
        "\n",
        "def dice_coef(y_true, y_pred):\n",
        "    smooth = 0.005\n",
        "    y_true_f = K.flatten(y_true)\n",
        "    y_pred_f = K.flatten(y_pred)\n",
        "    intersection = K.sum(y_true_f * y_pred_f)\n",
        "    return (2. * intersection + smooth) / (K.sum(y_true_f) + K.sum(y_pred_f) + smooth)\n",
        "\n",
        "\n",
        "def dice_coef_loss(y_true, y_pred):\n",
        "    return 1-dice_coef(y_true, y_pred)\n",
        "\n",
        "K.set_image_data_format('channels_first')\n",
        "\n",
        "def unet_plusplus_model1():\n",
        "\n",
        "    inputs = Input((2, 240 , 240))\n",
        "\n",
        "    conv1 = Conv2D(64, (3, 3), activation='relu', padding='same') (inputs)\n",
        "    batch1 = BatchNormalization(axis=1)(conv1)\n",
        "    conv1 = Conv2D(64, (3, 3), activation='relu', padding='same') (batch1)\n",
        "    batch1 = BatchNormalization(axis=1)(conv1)\n",
        "    pool1 = MaxPooling2D((2, 2)) (batch1)\n",
        "\n",
        "    conv2 = Conv2D(128, (3, 3), activation='relu', padding='same') (pool1)\n",
        "    batch2 = BatchNormalization(axis=1)(conv2)\n",
        "    conv2 = Conv2D(128, (3, 3), activation='relu', padding='same') (batch2)\n",
        "    batch2 = BatchNormalization(axis=1)(conv2)\n",
        "    pool2 = MaxPooling2D((2, 2)) (batch2)\n",
        "\n",
        "    up3 = Conv2DTranspose(64, (2, 2), strides=(2, 2), padding='same') (conv2)\n",
        "    up3 = concatenate([up3, conv1], axis=1)\n",
        "    conv3 = Conv2D(64, (3, 3), activation='relu', padding='same') (up3)\n",
        "    batch3 = BatchNormalization(axis=1)(conv3)\n",
        "    conv3 = Conv2D(64, (3, 3), activation='relu', padding='same') (batch3)\n",
        "    batch3 = BatchNormalization(axis=1)(conv3)\n",
        "\n",
        "    conv4 = Conv2D(256, (3, 3), activation='relu', padding='same') (pool2)\n",
        "    batch4 = BatchNormalization(axis=1)(conv4)\n",
        "    conv4 = Conv2D(256, (3, 3), activation='relu', padding='same') (batch4)\n",
        "    batch4 = BatchNormalization(axis=1)(conv4)\n",
        "    pool3 = MaxPooling2D(pool_size=(2, 2)) (batch4)\n",
        "\n",
        "    up5 = Conv2DTranspose(128, (2, 2), strides=(2, 2), padding='same') (conv4)\n",
        "    up5 = concatenate([up5, conv2], axis=1)\n",
        "    conv5 = Conv2D(128, (3, 3), activation='relu', padding='same') (up5)\n",
        "    batch5 = BatchNormalization(axis=1)(conv5)\n",
        "    conv5 = Conv2D(128, (3, 3), activation='relu', padding='same') (batch5)\n",
        "    batch5 = BatchNormalization(axis=1)(conv5)\n",
        "\n",
        "    up6 = Conv2DTranspose(64, (2, 2), strides=(2, 2), padding='same') (conv5)\n",
        "    up6 = concatenate([up6, conv1, conv3], axis=1)\n",
        "    conv6 = Conv2D(64, (3, 3), activation='relu', padding='same') (up6)\n",
        "    batch6 = BatchNormalization(axis=1)(conv6)\n",
        "    conv6 = Conv2D(64, (3, 3), activation='relu', padding='same') (batch6)\n",
        "    batch6 = BatchNormalization(axis=1)(conv6)\n",
        "\n",
        "    conv7 = Conv2D(512, (3, 3), activation='relu', padding='same') (pool3)\n",
        "    batch7 = BatchNormalization(axis=1)(conv7)\n",
        "    conv7 = Conv2D(512, (3, 3), activation='relu', padding='same') (batch7)\n",
        "    batch7 = BatchNormalization(axis=1)(conv7)\n",
        "    pool4 = MaxPooling2D(pool_size=(2, 2))(conv7)\n",
        "\n",
        "\n",
        "    up8 = Conv2DTranspose(256, (2, 2), strides=(2, 2), padding='same') (conv7)\n",
        "    up8 = concatenate([up8, conv4], axis=1)\n",
        "    conv8 = Conv2D(256, (3, 3), activation='relu', padding='same') (up8)\n",
        "    batch8 = BatchNormalization(axis=1)(conv8)\n",
        "    conv8 = Conv2D(256, (3, 3), activation='relu', padding='same') (batch8)\n",
        "    batch8 = BatchNormalization(axis=1)(conv8)\n",
        "\n",
        "    up9 = Conv2DTranspose(128, (2, 2), strides=(2, 2), padding='same') (conv8)\n",
        "    up9 = concatenate([up9, conv2, conv5], axis=1)\n",
        "    conv9 = Conv2D(128, (3, 3), activation='relu', padding='same') (up9)\n",
        "    batch9 = BatchNormalization(axis=1)(conv9)\n",
        "    conv9 = Conv2D(128, (3, 3), activation='relu', padding='same') (batch9)\n",
        "    batch9 = BatchNormalization(axis=1)(conv9)\n",
        "\n",
        "    up10 = Conv2DTranspose(64, (2, 2), strides=(2, 2), padding='same') (conv9)\n",
        "    up10 = concatenate([up10, conv1, conv3, conv6], axis=1)\n",
        "    conv10 = Conv2D(64, (3, 3), activation='relu', padding='same') (up10)\n",
        "    batch10 = BatchNormalization(axis=1)(conv10)\n",
        "    conv10 = Conv2D(64, (3, 3), activation='relu', padding='same') (batch10)\n",
        "    batch10 = BatchNormalization(axis=1)(conv10)\n",
        "\n",
        "    conv11 = Conv2D(1024, (3, 3), activation='relu', padding='same') (pool4)\n",
        "    batch11 = BatchNormalization(axis=1)(conv11)\n",
        "    conv11 = Conv2D(1024, (3, 3), activation='relu', padding='same') (batch11)\n",
        "    batch11 = BatchNormalization(axis=1)(conv11)\n",
        "\n",
        "    up12 = Conv2DTranspose(512, (2, 2), strides=(2, 2), padding='same') (conv11)\n",
        "    up12 = concatenate([up12, conv7], axis=1)\n",
        "    conv12 = Conv2D(512, (3, 3), activation='relu', padding='same') (up12)\n",
        "    batch12 = BatchNormalization(axis=1)(conv12)\n",
        "    conv12 = Conv2D(512, (3, 3), activation='relu', padding='same') (batch12)\n",
        "    batch12 = BatchNormalization(axis=1)(conv12)\n",
        "\n",
        "    up13 = Conv2DTranspose(256, (2, 2), strides=(2, 2), padding='same') (conv12)\n",
        "    up13 = concatenate([up13, conv4, conv8], axis=1)\n",
        "    conv13 = Conv2D(256, (3, 3), activation='relu', padding='same') (up13)\n",
        "    batch13 = BatchNormalization(axis=1)(conv13)\n",
        "    conv13 = Conv2D(256, (3, 3), activation='relu', padding='same') (batch13)\n",
        "    batch13 = BatchNormalization(axis=1)(conv13)\n",
        "\n",
        "    up14 = Conv2DTranspose(128, (2, 2), strides=(2, 2), padding='same') (conv13)\n",
        "    up14 = concatenate([up14, conv2, conv5, conv9], axis=1)\n",
        "    conv14 = Conv2D(128, (3, 3), activation='relu', padding='same') (up14)\n",
        "    batch14 = BatchNormalization(axis=1)(conv14)\n",
        "    conv14 = Conv2D(128, (3, 3), activation='relu', padding='same') (batch14)\n",
        "    batch14 = BatchNormalization(axis=1)(conv14)\n",
        "\n",
        "    up15 = Conv2DTranspose(64, (2, 2), strides=(2, 2), padding='same') (conv14)\n",
        "    up15 = concatenate([up15, conv1, conv3, conv6, conv10], axis=1)\n",
        "    conv15 = Conv2D(64, (3, 3), activation='relu', padding='same') (up15)\n",
        "    batch15 = BatchNormalization(axis=1)(conv15)\n",
        "    conv15 = Conv2D(64, (3, 3), activation='relu', padding='same') (batch15)\n",
        "    batch15 = BatchNormalization(axis=1)(conv15)\n",
        "\n",
        "    nestnet_output_1 = Conv2D(1, (1, 1), activation='sigmoid', name='output_1', padding='same')(conv3)\n",
        "    nestnet_output_2 = Conv2D(1, (1, 1), activation='sigmoid', name='output_2', padding='same')(conv6)\n",
        "    nestnet_output_3 = Conv2D(1, (1, 1), activation='sigmoid', name='output_3', padding='same')(conv10)\n",
        "    nestnet_output_4 = Conv2D(1, (1, 1), activation='sigmoid', name='output_4', padding='same')(conv15)\n",
        "\n",
        "\n",
        "    model = Model(inputs=inputs, outputs=[nestnet_output_4])\n",
        "\n",
        "    return model"
      ],
      "execution_count": null,
      "outputs": []
    },
    {
      "cell_type": "code",
      "metadata": {
        "id": "NubHdjgxXN1x"
      },
      "source": [
        "from keras.models import Model\n",
        "from keras.layers import Dense, Dropout, Activation, Flatten\n",
        "from keras.layers import concatenate, Conv2D, MaxPooling2D, Conv2DTranspose\n",
        "from keras.layers import Input, merge, UpSampling2D,BatchNormalization\n",
        "from keras.callbacks import ModelCheckpoint\n",
        "from keras.optimizers import Adam\n",
        "from keras.preprocessing.image import ImageDataGenerator\n",
        "from keras import backend as K\n",
        "import tensorflow as tf\n",
        "\n",
        "\n",
        "def dice_coef(y_true, y_pred):\n",
        "    smooth = 0.005\n",
        "    y_true_f = K.flatten(y_true)\n",
        "    y_pred_f = K.flatten(y_pred)\n",
        "    intersection = K.sum(y_true_f * y_pred_f)\n",
        "    return (2. * intersection + smooth) / (K.sum(y_true_f) + K.sum(y_pred_f) + smooth)\n",
        "\n",
        "\n",
        "def dice_coef_loss(y_true, y_pred):\n",
        "    return 1-dice_coef(y_true, y_pred)\n",
        "\n",
        "K.set_image_data_format('channels_first')\n",
        "\n",
        "def unet_model1():\n",
        "\n",
        "    inputs = Input((1, 240 , 240))\n",
        "\n",
        "    conv1 = Conv2D(64, (3, 3), activation='relu', padding='same') (inputs)\n",
        "    batch1 = BatchNormalization(axis=1)(conv1)\n",
        "    conv1 = Conv2D(64, (3, 3), activation='relu', padding='same') (batch1)\n",
        "    batch1 = BatchNormalization(axis=1)(conv1)\n",
        "    pool1 = MaxPooling2D((2, 2)) (batch1)\n",
        "\n",
        "    conv2 = Conv2D(128, (3, 3), activation='relu', padding='same') (pool1)\n",
        "    batch2 = BatchNormalization(axis=1)(conv2)\n",
        "    conv2 = Conv2D(128, (3, 3), activation='relu', padding='same') (batch2)\n",
        "    batch2 = BatchNormalization(axis=1)(conv2)\n",
        "    pool2 = MaxPooling2D((2, 2)) (batch2)\n",
        "\n",
        "    conv3 = Conv2D(256, (3, 3), activation='relu', padding='same') (pool2)\n",
        "    batch3 = BatchNormalization(axis=1)(conv3)\n",
        "    conv3 = Conv2D(256, (3, 3), activation='relu', padding='same') (batch3)\n",
        "    batch3 = BatchNormalization(axis=1)(conv3)\n",
        "    pool3 = MaxPooling2D((2, 2)) (batch3)\n",
        "\n",
        "    conv4 = Conv2D(512, (3, 3), activation='relu', padding='same') (pool3)\n",
        "    batch4 = BatchNormalization(axis=1)(conv4)\n",
        "    conv4 = Conv2D(512, (3, 3), activation='relu', padding='same') (batch4)\n",
        "    batch4 = BatchNormalization(axis=1)(conv4)\n",
        "    pool4 = MaxPooling2D(pool_size=(2, 2)) (batch4)\n",
        "\n",
        "    conv5 = Conv2D(1024, (3, 3), activation='relu', padding='same') (pool4)\n",
        "    batch5 = BatchNormalization(axis=1)(conv5)\n",
        "    conv5 = Conv2D(1024, (3, 3), activation='relu', padding='same') (batch5)\n",
        "    batch5 = BatchNormalization(axis=1)(conv5)\n",
        "\n",
        "    up6 = Conv2DTranspose(512, (2, 2), strides=(2, 2), padding='same') (batch5)\n",
        "    up6 = concatenate([up6, conv4], axis=1)\n",
        "    conv6 = Conv2D(512, (3, 3), activation='relu', padding='same') (up6)\n",
        "    batch6 = BatchNormalization(axis=1)(conv6)\n",
        "    conv6 = Conv2D(512, (3, 3), activation='relu', padding='same') (batch6)\n",
        "    batch6 = BatchNormalization(axis=1)(conv6)\n",
        "\n",
        "    up7 = Conv2DTranspose(256, (2, 2), strides=(2, 2), padding='same') (batch6)\n",
        "    up7 = concatenate([up7, conv3], axis=1)\n",
        "    conv7 = Conv2D(256, (3, 3), activation='relu', padding='same') (up7)\n",
        "    batch7 = BatchNormalization(axis=1)(conv7)\n",
        "    conv7 = Conv2D(256, (3, 3), activation='relu', padding='same') (batch7)\n",
        "    batch7 = BatchNormalization(axis=1)(conv7)\n",
        "\n",
        "    up8 = Conv2DTranspose(128, (2, 2), strides=(2, 2), padding='same') (batch7)\n",
        "    up8 = concatenate([up8, conv2], axis=1)\n",
        "    conv8 = Conv2D(128, (3, 3), activation='relu', padding='same') (up8)\n",
        "    batch8 = BatchNormalization(axis=1)(conv8)\n",
        "    conv8 = Conv2D(128, (3, 3), activation='relu', padding='same') (batch8)\n",
        "    batch8 = BatchNormalization(axis=1)(conv8)\n",
        "\n",
        "    up9 = Conv2DTranspose(64, (2, 2), strides=(2, 2), padding='same') (batch8)\n",
        "    up9 = concatenate([up9, conv1], axis=1)\n",
        "    conv9 = Conv2D(64, (3, 3), activation='relu', padding='same') (up9)\n",
        "    batch9 = BatchNormalization(axis=1)(conv9)\n",
        "    conv9 = Conv2D(64, (3, 3), activation='relu', padding='same') (batch9)\n",
        "    batch9 = BatchNormalization(axis=1)(conv9)\n",
        "\n",
        "    conv10 = Conv2D(1, (1, 1), activation='sigmoid')(batch9)\n",
        "\n",
        "    model = Model(inputs=[inputs], outputs=[conv10])\n",
        "\n",
        "    model.compile(optimizer=Adam(lr=1e-4), loss=dice_coef_loss, metrics=[dice_coef])\n",
        "\n",
        "    return model"
      ],
      "execution_count": null,
      "outputs": []
    },
    {
      "cell_type": "code",
      "metadata": {
        "colab": {
          "base_uri": "https://localhost:8080/",
          "height": 180
        },
        "id": "oimkxabvvs3K",
        "outputId": "f4028975-84fe-41cf-c163-428e6f0a3993"
      },
      "source": [
        "model = unet_model1()\n",
        "model.summary()"
      ],
      "execution_count": null,
      "outputs": [
        {
          "output_type": "error",
          "ename": "NameError",
          "evalue": "ignored",
          "traceback": [
            "\u001b[0;31m---------------------------------------------------------------------------\u001b[0m",
            "\u001b[0;31mNameError\u001b[0m                                 Traceback (most recent call last)",
            "\u001b[0;32m<ipython-input-24-8899e1a193d7>\u001b[0m in \u001b[0;36m<module>\u001b[0;34m()\u001b[0m\n\u001b[0;32m----> 1\u001b[0;31m \u001b[0mmodel\u001b[0m \u001b[0;34m=\u001b[0m \u001b[0munet_model1\u001b[0m\u001b[0;34m(\u001b[0m\u001b[0;34m)\u001b[0m\u001b[0;34m\u001b[0m\u001b[0;34m\u001b[0m\u001b[0m\n\u001b[0m\u001b[1;32m      2\u001b[0m \u001b[0mmodel\u001b[0m\u001b[0;34m.\u001b[0m\u001b[0msummary\u001b[0m\u001b[0;34m(\u001b[0m\u001b[0;34m)\u001b[0m\u001b[0;34m\u001b[0m\u001b[0;34m\u001b[0m\u001b[0m\n",
            "\u001b[0;31mNameError\u001b[0m: name 'unet_model1' is not defined"
          ]
        }
      ]
    },
    {
      "cell_type": "code",
      "metadata": {
        "id": "pktlCQfwUvcX",
        "colab": {
          "base_uri": "https://localhost:8080/"
        },
        "outputId": "9f695b34-8937-48c8-d893-8aedab127d1a"
      },
      "source": [
        "model.compile(optimizer=Adam(lr=1e-4), loss=dice_coef_loss, metrics=[dice_coef])"
      ],
      "execution_count": null,
      "outputs": [
        {
          "output_type": "stream",
          "text": [
            "/usr/local/lib/python3.7/dist-packages/tensorflow/python/keras/optimizer_v2/optimizer_v2.py:375: UserWarning: The `lr` argument is deprecated, use `learning_rate` instead.\n",
            "  \"The `lr` argument is deprecated, use `learning_rate` instead.\")\n"
          ],
          "name": "stderr"
        }
      ]
    },
    {
      "cell_type": "code",
      "metadata": {
        "colab": {
          "base_uri": "https://localhost:8080/"
        },
        "id": "ANGCyYfeQMzd",
        "outputId": "169bea95-bbc1-4995-c7a7-48748976d796"
      },
      "source": [
        "history = model.fit(t1ce_ödemsiz, seg_geniş,\n",
        "          validation_data = (t1ce_ödemsiz_test,seg_geniş_test),\n",
        "          epochs = 30,\n",
        "          batch_size = 3,\n",
        "          shuffle = True)"
      ],
      "execution_count": null,
      "outputs": [
        {
          "output_type": "stream",
          "text": [
            "Epoch 1/30\n",
            "7894/7894 [==============================] - 838s 101ms/step - loss: 0.6937 - dice_coef: 0.3063 - val_loss: 0.7628 - val_dice_coef: 0.2372\n",
            "Epoch 2/30\n",
            "7894/7894 [==============================] - 794s 101ms/step - loss: 0.4644 - dice_coef: 0.5356 - val_loss: 0.7599 - val_dice_coef: 0.2400\n",
            "Epoch 3/30\n",
            "7894/7894 [==============================] - 793s 100ms/step - loss: 0.4153 - dice_coef: 0.5847 - val_loss: 0.2730 - val_dice_coef: 0.7270\n",
            "Epoch 4/30\n",
            "7894/7894 [==============================] - 793s 100ms/step - loss: 0.1945 - dice_coef: 0.8055 - val_loss: 0.2784 - val_dice_coef: 0.7216\n",
            "Epoch 5/30\n",
            "7894/7894 [==============================] - 793s 100ms/step - loss: 0.2310 - dice_coef: 0.7690 - val_loss: 0.2606 - val_dice_coef: 0.7394\n",
            "Epoch 6/30\n",
            "7894/7894 [==============================] - 793s 100ms/step - loss: 0.1559 - dice_coef: 0.8441 - val_loss: 0.2496 - val_dice_coef: 0.7504\n",
            "Epoch 7/30\n",
            "7894/7894 [==============================] - 793s 100ms/step - loss: 0.2165 - dice_coef: 0.7835 - val_loss: 0.2526 - val_dice_coef: 0.7475\n",
            "Epoch 8/30\n",
            "7894/7894 [==============================] - 793s 100ms/step - loss: 0.1397 - dice_coef: 0.8603 - val_loss: 0.2390 - val_dice_coef: 0.7610\n",
            "Epoch 9/30\n",
            "7894/7894 [==============================] - 793s 100ms/step - loss: 0.1637 - dice_coef: 0.8363 - val_loss: 0.8388 - val_dice_coef: 0.1612\n",
            "Epoch 10/30\n",
            "7894/7894 [==============================] - 793s 100ms/step - loss: 0.1604 - dice_coef: 0.8396 - val_loss: 0.2369 - val_dice_coef: 0.7632\n",
            "Epoch 11/30\n",
            "7894/7894 [==============================] - 795s 101ms/step - loss: 0.1529 - dice_coef: 0.8471 - val_loss: 0.2292 - val_dice_coef: 0.7708\n",
            "Epoch 12/30\n",
            "7894/7894 [==============================] - 795s 101ms/step - loss: 0.1268 - dice_coef: 0.8732 - val_loss: 0.2237 - val_dice_coef: 0.7763\n",
            "Epoch 13/30\n",
            "7894/7894 [==============================] - 794s 101ms/step - loss: 0.1314 - dice_coef: 0.8686 - val_loss: 0.2302 - val_dice_coef: 0.7699\n",
            "Epoch 14/30\n",
            "7894/7894 [==============================] - 794s 101ms/step - loss: 0.1301 - dice_coef: 0.8699 - val_loss: 0.2503 - val_dice_coef: 0.7498\n",
            "Epoch 15/30\n",
            "7894/7894 [==============================] - 796s 101ms/step - loss: 0.1266 - dice_coef: 0.8734 - val_loss: 0.2476 - val_dice_coef: 0.7524\n",
            "Epoch 16/30\n",
            "7894/7894 [==============================] - 793s 101ms/step - loss: 0.1269 - dice_coef: 0.8731 - val_loss: 0.2336 - val_dice_coef: 0.7664\n",
            "Epoch 17/30\n",
            "1878/7894 [======>.......................] - ETA: 9:24 - loss: 0.1206 - dice_coef: 0.8794"
          ],
          "name": "stdout"
        }
      ]
    },
    {
      "cell_type": "code",
      "metadata": {
        "id": "E5v5omwDxzQk"
      },
      "source": [
        "print(history.history.keys())\n",
        "# summarize history for accuracy\n",
        "plt.plot(history.history['dice_coef'])\n",
        "plt.plot(history.history['val_dice_coef'])\n",
        "plt.title('model dice coef')\n",
        "plt.ylabel('dice coef')\n",
        "plt.xlabel('epoch')\n",
        "plt.legend(['train', 'test'], loc='upper left')\n",
        "plt.show()\n",
        "# summarize history for loss\n",
        "plt.plot(history.history['loss'])\n",
        "plt.plot(history.history['val_loss'])\n",
        "plt.title('model loss')\n",
        "plt.ylabel('loss')\n",
        "plt.xlabel('epoch')\n",
        "plt.legend(['train', 'test'], loc='upper left')\n",
        "plt.show()"
      ],
      "execution_count": null,
      "outputs": []
    },
    {
      "cell_type": "code",
      "metadata": {
        "id": "zCen5MSS3-n-"
      },
      "source": [
        "model_tam = unet_plusplus_model1()"
      ],
      "execution_count": null,
      "outputs": []
    },
    {
      "cell_type": "code",
      "metadata": {
        "id": "6BCK6HuV4DpF"
      },
      "source": [
        "model_tam.load_weights('/content/drive/MyDrive/model_unetplusplusson.h5')"
      ],
      "execution_count": null,
      "outputs": []
    },
    {
      "cell_type": "code",
      "metadata": {
        "id": "wzz5UGv8gYJM"
      },
      "source": [
        "from keras.models import Model\n",
        "from keras.layers import Dense, Dropout, Activation, Flatten\n",
        "from keras.layers import concatenate, Conv2D, MaxPooling2D, Conv2DTranspose\n",
        "from keras.layers import Input, merge, UpSampling2D,BatchNormalization\n",
        "from keras.callbacks import ModelCheckpoint\n",
        "from keras.optimizers import Adam\n",
        "from keras.preprocessing.image import ImageDataGenerator\n",
        "from keras import backend as K\n",
        "import tensorflow as tf\n",
        "\n",
        "\n",
        "def dice_coef(y_true, y_pred):\n",
        "    smooth = 0.005\n",
        "    y_true_f = K.flatten(y_true)\n",
        "    y_pred_f = K.flatten(y_pred)\n",
        "    intersection = K.sum(y_true_f * y_pred_f)\n",
        "    return (2. * intersection + smooth) / (K.sum(y_true_f) + K.sum(y_pred_f) + smooth)\n",
        "\n",
        "\n",
        "def dice_coef_loss(y_true, y_pred):\n",
        "    return 1-dice_coef(y_true, y_pred)\n",
        "\n",
        "K.set_image_data_format('channels_first')\n",
        "\n",
        "def unet_plusplus_model():\n",
        "\n",
        "    inputs = Input((1, 240 , 240))\n",
        "\n",
        "    conv1 = Conv2D(64, (3, 3), activation='relu', padding='same') (inputs)\n",
        "    batch1 = BatchNormalization(axis=1)(conv1)\n",
        "    conv1 = Conv2D(64, (3, 3), activation='relu', padding='same') (batch1)\n",
        "    batch1 = BatchNormalization(axis=1)(conv1)\n",
        "    pool1 = MaxPooling2D((2, 2)) (batch1)\n",
        "\n",
        "    conv2 = Conv2D(128, (3, 3), activation='relu', padding='same') (pool1)\n",
        "    batch2 = BatchNormalization(axis=1)(conv2)\n",
        "    conv2 = Conv2D(128, (3, 3), activation='relu', padding='same') (batch2)\n",
        "    batch2 = BatchNormalization(axis=1)(conv2)\n",
        "    pool2 = MaxPooling2D((2, 2)) (batch2)\n",
        "\n",
        "    up3 = Conv2DTranspose(64, (2, 2), strides=(2, 2), padding='same') (conv2)\n",
        "    up3 = concatenate([up3, conv1], axis=1)\n",
        "    conv3 = Conv2D(64, (3, 3), activation='relu', padding='same') (up3)\n",
        "    batch3 = BatchNormalization(axis=1)(conv3)\n",
        "    conv3 = Conv2D(64, (3, 3), activation='relu', padding='same') (batch3)\n",
        "    batch3 = BatchNormalization(axis=1)(conv3)\n",
        "\n",
        "    conv4 = Conv2D(256, (3, 3), activation='relu', padding='same') (pool2)\n",
        "    batch4 = BatchNormalization(axis=1)(conv4)\n",
        "    conv4 = Conv2D(256, (3, 3), activation='relu', padding='same') (batch4)\n",
        "    batch4 = BatchNormalization(axis=1)(conv4)\n",
        "    pool3 = MaxPooling2D(pool_size=(2, 2)) (batch4)\n",
        "\n",
        "    up5 = Conv2DTranspose(128, (2, 2), strides=(2, 2), padding='same') (conv4)\n",
        "    up5 = concatenate([up5, conv2], axis=1)\n",
        "    conv5 = Conv2D(128, (3, 3), activation='relu', padding='same') (up5)\n",
        "    batch5 = BatchNormalization(axis=1)(conv5)\n",
        "    conv5 = Conv2D(128, (3, 3), activation='relu', padding='same') (batch5)\n",
        "    batch5 = BatchNormalization(axis=1)(conv5)\n",
        "\n",
        "    up6 = Conv2DTranspose(64, (2, 2), strides=(2, 2), padding='same') (conv5)\n",
        "    up6 = concatenate([up6, conv1, conv3], axis=1)\n",
        "    conv6 = Conv2D(64, (3, 3), activation='relu', padding='same') (up6)\n",
        "    batch6 = BatchNormalization(axis=1)(conv6)\n",
        "    conv6 = Conv2D(64, (3, 3), activation='relu', padding='same') (batch6)\n",
        "    batch6 = BatchNormalization(axis=1)(conv6)\n",
        "\n",
        "    conv7 = Conv2D(512, (3, 3), activation='relu', padding='same') (pool3)\n",
        "    batch7 = BatchNormalization(axis=1)(conv7)\n",
        "    conv7 = Conv2D(512, (3, 3), activation='relu', padding='same') (batch7)\n",
        "    batch7 = BatchNormalization(axis=1)(conv7)\n",
        "    pool4 = MaxPooling2D(pool_size=(2, 2))(conv7)\n",
        "\n",
        "\n",
        "    up8 = Conv2DTranspose(256, (2, 2), strides=(2, 2), padding='same') (conv7)\n",
        "    up8 = concatenate([up8, conv4], axis=1)\n",
        "    conv8 = Conv2D(256, (3, 3), activation='relu', padding='same') (up8)\n",
        "    batch8 = BatchNormalization(axis=1)(conv8)\n",
        "    conv8 = Conv2D(256, (3, 3), activation='relu', padding='same') (batch8)\n",
        "    batch8 = BatchNormalization(axis=1)(conv8)\n",
        "\n",
        "    up9 = Conv2DTranspose(128, (2, 2), strides=(2, 2), padding='same') (conv8)\n",
        "    up9 = concatenate([up9, conv2, conv5], axis=1)\n",
        "    conv9 = Conv2D(128, (3, 3), activation='relu', padding='same') (up9)\n",
        "    batch9 = BatchNormalization(axis=1)(conv9)\n",
        "    conv9 = Conv2D(128, (3, 3), activation='relu', padding='same') (batch9)\n",
        "    batch9 = BatchNormalization(axis=1)(conv9)\n",
        "\n",
        "    up10 = Conv2DTranspose(64, (2, 2), strides=(2, 2), padding='same') (conv9)\n",
        "    up10 = concatenate([up10, conv1, conv3, conv6], axis=1)\n",
        "    conv10 = Conv2D(64, (3, 3), activation='relu', padding='same') (up10)\n",
        "    batch10 = BatchNormalization(axis=1)(conv10)\n",
        "    conv10 = Conv2D(64, (3, 3), activation='relu', padding='same') (batch10)\n",
        "    batch10 = BatchNormalization(axis=1)(conv10)\n",
        "\n",
        "    conv11 = Conv2D(1024, (3, 3), activation='relu', padding='same') (pool4)\n",
        "    batch11 = BatchNormalization(axis=1)(conv11)\n",
        "    conv11 = Conv2D(1024, (3, 3), activation='relu', padding='same') (batch11)\n",
        "    batch11 = BatchNormalization(axis=1)(conv11)\n",
        "\n",
        "    up12 = Conv2DTranspose(512, (2, 2), strides=(2, 2), padding='same') (conv11)\n",
        "    up12 = concatenate([up12, conv7], axis=1)\n",
        "    conv12 = Conv2D(512, (3, 3), activation='relu', padding='same') (up12)\n",
        "    batch12 = BatchNormalization(axis=1)(conv12)\n",
        "    conv12 = Conv2D(512, (3, 3), activation='relu', padding='same') (batch12)\n",
        "    batch12 = BatchNormalization(axis=1)(conv12)\n",
        "\n",
        "    up13 = Conv2DTranspose(256, (2, 2), strides=(2, 2), padding='same') (conv12)\n",
        "    up13 = concatenate([up13, conv4, conv8], axis=1)\n",
        "    conv13 = Conv2D(256, (3, 3), activation='relu', padding='same') (up13)\n",
        "    batch13 = BatchNormalization(axis=1)(conv13)\n",
        "    conv13 = Conv2D(256, (3, 3), activation='relu', padding='same') (batch13)\n",
        "    batch13 = BatchNormalization(axis=1)(conv13)\n",
        "\n",
        "    up14 = Conv2DTranspose(128, (2, 2), strides=(2, 2), padding='same') (conv13)\n",
        "    up14 = concatenate([up14, conv2, conv5, conv9], axis=1)\n",
        "    conv14 = Conv2D(128, (3, 3), activation='relu', padding='same') (up14)\n",
        "    batch14 = BatchNormalization(axis=1)(conv14)\n",
        "    conv14 = Conv2D(128, (3, 3), activation='relu', padding='same') (batch14)\n",
        "    batch14 = BatchNormalization(axis=1)(conv14)\n",
        "\n",
        "    up15 = Conv2DTranspose(64, (2, 2), strides=(2, 2), padding='same') (conv14)\n",
        "    up15 = concatenate([up15, conv1, conv3, conv6, conv10], axis=1)\n",
        "    conv15 = Conv2D(64, (3, 3), activation='relu', padding='same') (up15)\n",
        "    batch15 = BatchNormalization(axis=1)(conv15)\n",
        "    conv15 = Conv2D(64, (3, 3), activation='relu', padding='same') (batch15)\n",
        "    batch15 = BatchNormalization(axis=1)(conv15)\n",
        "\n",
        "    nestnet_output_1 = Conv2D(1, (1, 1), activation='sigmoid', name='output_1', padding='same')(conv3)\n",
        "    nestnet_output_2 = Conv2D(1, (1, 1), activation='sigmoid', name='output_2', padding='same')(conv6)\n",
        "    nestnet_output_3 = Conv2D(1, (1, 1), activation='sigmoid', name='output_3', padding='same')(conv10)\n",
        "    nestnet_output_4 = Conv2D(1, (1, 1), activation='sigmoid', name='output_4', padding='same')(conv15)\n",
        "\n",
        "\n",
        "    model = Model(inputs=inputs, outputs=[nestnet_output_4])\n",
        "\n",
        "    return model"
      ],
      "execution_count": null,
      "outputs": []
    },
    {
      "cell_type": "code",
      "metadata": {
        "id": "zMi9Srw5hIn7"
      },
      "source": [
        "model_ödemsiz = unet_plusplus_model()"
      ],
      "execution_count": null,
      "outputs": []
    },
    {
      "cell_type": "code",
      "metadata": {
        "colab": {
          "base_uri": "https://localhost:8080/"
        },
        "id": "xee8KFnpKfCQ",
        "outputId": "c6fd672e-4030-4e39-d1fc-212e321844bb"
      },
      "source": [
        "model_ödemsiz.compile(optimizer=Adam(lr=1e-4), loss=dice_coef_loss, metrics=[dice_coef])"
      ],
      "execution_count": null,
      "outputs": [
        {
          "output_type": "stream",
          "text": [
            "/usr/local/lib/python3.7/dist-packages/tensorflow/python/keras/optimizer_v2/optimizer_v2.py:375: UserWarning: The `lr` argument is deprecated, use `learning_rate` instead.\n",
            "  \"The `lr` argument is deprecated, use `learning_rate` instead.\")\n"
          ],
          "name": "stderr"
        }
      ]
    },
    {
      "cell_type": "code",
      "metadata": {
        "colab": {
          "base_uri": "https://localhost:8080/"
        },
        "id": "YPXApZ22KfCS",
        "outputId": "25d6ccb2-3892-4261-fdf8-9081bd736bc7"
      },
      "source": [
        "history = model_ödemsiz.fit(t1ce_ödemsiz, seg_geniş,\n",
        "          validation_data = (t1ce_ödemsiz_test,seg_geniş_test),\n",
        "          epochs = 30,\n",
        "          batch_size = 3,\n",
        "          shuffle = True)"
      ],
      "execution_count": null,
      "outputs": [
        {
          "output_type": "stream",
          "text": [
            "Epoch 1/30\n",
            "7894/7894 [==============================] - 1069s 130ms/step - loss: 0.2407 - dice_coef: 0.7593 - val_loss: 0.2541 - val_dice_coef: 0.7460\n",
            "Epoch 2/30\n",
            "7894/7894 [==============================] - 1022s 129ms/step - loss: 0.1504 - dice_coef: 0.8496 - val_loss: 0.2465 - val_dice_coef: 0.7536\n",
            "Epoch 3/30\n",
            "7894/7894 [==============================] - 1022s 130ms/step - loss: 0.1346 - dice_coef: 0.8654 - val_loss: 0.2339 - val_dice_coef: 0.7661\n",
            "Epoch 4/30\n",
            "7894/7894 [==============================] - 1022s 129ms/step - loss: 0.1388 - dice_coef: 0.8612 - val_loss: 0.2623 - val_dice_coef: 0.7378\n",
            "Epoch 5/30\n",
            "7894/7894 [==============================] - 1021s 129ms/step - loss: 0.1411 - dice_coef: 0.8589 - val_loss: 0.4146 - val_dice_coef: 0.5854\n",
            "Epoch 6/30\n",
            "7894/7894 [==============================] - 1020s 129ms/step - loss: 0.1400 - dice_coef: 0.8600 - val_loss: 0.2453 - val_dice_coef: 0.7547\n",
            "Epoch 7/30\n",
            "7894/7894 [==============================] - 1021s 129ms/step - loss: 0.1350 - dice_coef: 0.8650 - val_loss: 0.2474 - val_dice_coef: 0.7526\n",
            "Epoch 8/30\n",
            "7894/7894 [==============================] - 1020s 129ms/step - loss: 0.1269 - dice_coef: 0.8731 - val_loss: 0.2737 - val_dice_coef: 0.7264\n",
            "Epoch 9/30\n",
            "7894/7894 [==============================] - 1020s 129ms/step - loss: 0.1391 - dice_coef: 0.8609 - val_loss: 0.2535 - val_dice_coef: 0.7465\n",
            "Epoch 10/30\n",
            "7894/7894 [==============================] - 1020s 129ms/step - loss: 0.1294 - dice_coef: 0.8706 - val_loss: 0.2450 - val_dice_coef: 0.7550\n",
            "Epoch 11/30\n",
            "7894/7894 [==============================] - 1020s 129ms/step - loss: 0.1340 - dice_coef: 0.8660 - val_loss: 0.2394 - val_dice_coef: 0.7607\n",
            "Epoch 12/30\n",
            "7894/7894 [==============================] - 1021s 129ms/step - loss: 0.1389 - dice_coef: 0.8611 - val_loss: 0.2541 - val_dice_coef: 0.7460\n",
            "Epoch 13/30\n",
            "7894/7894 [==============================] - 1021s 129ms/step - loss: 0.1212 - dice_coef: 0.8788 - val_loss: 0.2577 - val_dice_coef: 0.7423\n",
            "Epoch 14/30\n",
            "7894/7894 [==============================] - 1022s 129ms/step - loss: 0.1232 - dice_coef: 0.8768 - val_loss: 0.2570 - val_dice_coef: 0.7430\n",
            "Epoch 15/30\n",
            "7894/7894 [==============================] - 1022s 129ms/step - loss: 0.1255 - dice_coef: 0.8745 - val_loss: 0.2380 - val_dice_coef: 0.7620\n",
            "Epoch 16/30\n",
            "7894/7894 [==============================] - 1022s 129ms/step - loss: 0.1252 - dice_coef: 0.8748 - val_loss: 0.2399 - val_dice_coef: 0.7602\n",
            "Epoch 17/30\n",
            "7894/7894 [==============================] - 1022s 129ms/step - loss: 0.1288 - dice_coef: 0.8712 - val_loss: 0.2120 - val_dice_coef: 0.7880\n",
            "Epoch 18/30\n",
            "7894/7894 [==============================] - 1023s 130ms/step - loss: 0.1222 - dice_coef: 0.8778 - val_loss: 0.2370 - val_dice_coef: 0.7631\n",
            "Epoch 19/30\n",
            "7894/7894 [==============================] - 1023s 130ms/step - loss: 0.1282 - dice_coef: 0.8718 - val_loss: 0.2246 - val_dice_coef: 0.7754\n",
            "Epoch 20/30\n",
            "7894/7894 [==============================] - 1024s 130ms/step - loss: 0.1222 - dice_coef: 0.8778 - val_loss: 0.3135 - val_dice_coef: 0.6866\n",
            "Epoch 21/30\n",
            "7894/7894 [==============================] - 1023s 130ms/step - loss: 0.1176 - dice_coef: 0.8824 - val_loss: 0.2426 - val_dice_coef: 0.7574\n",
            "Epoch 22/30\n",
            "7894/7894 [==============================] - 1023s 130ms/step - loss: 0.1167 - dice_coef: 0.8833 - val_loss: 0.2330 - val_dice_coef: 0.7671\n",
            "Epoch 23/30\n",
            "7894/7894 [==============================] - 1022s 130ms/step - loss: 0.1145 - dice_coef: 0.8855 - val_loss: 0.2477 - val_dice_coef: 0.7524\n",
            "Epoch 24/30\n",
            "7894/7894 [==============================] - 1022s 129ms/step - loss: 0.1166 - dice_coef: 0.8834 - val_loss: 0.2666 - val_dice_coef: 0.7334\n",
            "Epoch 25/30\n",
            "7894/7894 [==============================] - 1022s 129ms/step - loss: 0.1175 - dice_coef: 0.8825 - val_loss: 0.2504 - val_dice_coef: 0.7497\n",
            "Epoch 26/30\n",
            "7894/7894 [==============================] - 1022s 130ms/step - loss: 0.1180 - dice_coef: 0.8820 - val_loss: 0.1756 - val_dice_coef: 0.8245\n",
            "Epoch 27/30\n",
            "7894/7894 [==============================] - 1021s 129ms/step - loss: 0.1187 - dice_coef: 0.8813 - val_loss: 0.2381 - val_dice_coef: 0.7619\n",
            "Epoch 28/30\n",
            "7894/7894 [==============================] - 1022s 129ms/step - loss: 0.1190 - dice_coef: 0.8810 - val_loss: 0.2373 - val_dice_coef: 0.7627\n",
            "Epoch 29/30\n",
            "7894/7894 [==============================] - 1022s 130ms/step - loss: 0.1206 - dice_coef: 0.8794 - val_loss: 0.2267 - val_dice_coef: 0.7733\n",
            "Epoch 30/30\n",
            "7894/7894 [==============================] - 1023s 130ms/step - loss: 0.1180 - dice_coef: 0.8820 - val_loss: 0.2353 - val_dice_coef: 0.7648\n"
          ],
          "name": "stdout"
        }
      ]
    },
    {
      "cell_type": "code",
      "metadata": {
        "colab": {
          "base_uri": "https://localhost:8080/",
          "height": 590
        },
        "id": "SrGKMLU2KfCT",
        "outputId": "33de9e43-0163-4d1e-bc89-b70d5bce94f2"
      },
      "source": [
        "print(history.history.keys())\n",
        "# summarize history for accuracy\n",
        "plt.plot(history.history['dice_coef'])\n",
        "plt.plot(history.history['val_dice_coef'])\n",
        "plt.title('model dice coef')\n",
        "plt.ylabel('dice_coef')\n",
        "plt.xlabel('epoch')\n",
        "plt.legend(['train', 'test'], loc='upper left')\n",
        "plt.show()\n",
        "# summarize history for loss\n",
        "plt.plot(history.history['loss'])\n",
        "plt.plot(history.history['val_loss'])\n",
        "plt.title('model loss')\n",
        "plt.ylabel('loss')\n",
        "plt.xlabel('epoch')\n",
        "plt.legend(['train', 'test'], loc='upper left')\n",
        "plt.show()"
      ],
      "execution_count": null,
      "outputs": [
        {
          "output_type": "stream",
          "text": [
            "dict_keys(['loss', 'dice_coef', 'val_loss', 'val_dice_coef'])\n"
          ],
          "name": "stdout"
        },
        {
          "output_type": "display_data",
          "data": {
            "image/png": "[encoded data removed]",
            "text/plain": [
              "<Figure size 432x288 with 1 Axes>"
            ]
          },
          "metadata": {
            "tags": [],
            "needs_background": "light"
          }
        },
        {
          "output_type": "display_data",
          "data": {
            "image/png": "[encoded data removed]",
            "text/plain": [
              "<Figure size 432x288 with 1 Axes>"
            ]
          },
          "metadata": {
            "tags": [],
            "needs_background": "light"
          }
        }
      ]
    },
    {
      "cell_type": "code",
      "metadata": {
        "id": "QrGjE13sXdO1"
      },
      "source": [
        "model_ödemsiz.load_weights('/content/drive/MyDrive/model_unetpp_odemsiz.h5')"
      ],
      "execution_count": null,
      "outputs": []
    },
    {
      "cell_type": "code",
      "metadata": {
        "id": "ctUeOXEigZBS"
      },
      "source": [
        "model_genis = unet_plusplus_model()"
      ],
      "execution_count": null,
      "outputs": []
    },
    {
      "cell_type": "code",
      "metadata": {
        "id": "IZCDGsMLgdQm"
      },
      "source": [
        "model_genis.load_weights('/content/drive/MyDrive/model_unetpp_genis.h5')"
      ],
      "execution_count": null,
      "outputs": []
    },
    {
      "cell_type": "code",
      "metadata": {
        "colab": {
          "base_uri": "https://localhost:8080/",
          "height": 304
        },
        "id": "MjlbRF1lcQNB",
        "outputId": "168395a7-7141-4270-caec-ed9b5d194d4a"
      },
      "source": [
        "i = 225\n",
        "pred_tam = model_tam.predict(np.expand_dims(x_test[i,:,:,:],axis=0))\n",
        "dst = pred_tam[0] * t1ce_test[i]\n",
        "\n",
        "pred_ödemsiz = model_ödemsiz.predict(np.expand_dims(dst,axis=0))\n",
        "dst2 = pred_ödemsiz[0] * t1ce_test[i]\n",
        "\n",
        "plt.figure(figsize=(15,15))\n",
        "\n",
        "plt.subplot(321)\n",
        "plt.title('Tam Tümör*T1ce')\n",
        "plt.axis('off')\n",
        "plt.imshow(dst[0],cmap= 'magma')\n",
        "\n",
        "plt.subplot(322)\n",
        "plt.title('Ödemsiz*T1ce')\n",
        "plt.axis('off')\n",
        "plt.imshow(dst2[0],cmap= 'magma')"
      ],
      "execution_count": null,
      "outputs": [
        {
          "output_type": "execute_result",
          "data": {
            "text/plain": [
              "<matplotlib.image.AxesImage at 0x7fdc23d17e90>"
            ]
          },
          "metadata": {
            "tags": []
          },
          "execution_count": 57
        },
        {
          "output_type": "display_data",
          "data": {
            "image/png": "[encoded data removed]",
            "text/plain": [
              "<Figure size 1080x1080 with 2 Axes>"
            ]
          },
          "metadata": {
            "tags": []
          }
        }
      ]
    },
    {
      "cell_type": "code",
      "metadata": {
        "id": "9kCnzOqHzrsv"
      },
      "source": [
        "def üstüne_ekle(pred_tam, pred_ödemsiz , pred_geniş ):\n",
        "\n",
        "    total = np.zeros((1,1,240,240),np.float32)\n",
        "    total[:,:,:,:] = pred_tam[:,:,:,:]\n",
        "\n",
        "    for i in range(pred_ödemsiz.shape[0]):\n",
        "        for j in range(240):\n",
        "            for k in range(240):\n",
        "\n",
        "                if pred_ödemsiz[i,0,j,k] != 0 and pred_tam[i,0,j,k] !=0:\n",
        "                    total[i,0,j,k] = pred_ödemsiz[i,0,j,k]\n",
        "\n",
        "                if pred_geniş[i,0,j,k] != 0 and pred_tam[i,0,j,k] !=0:\n",
        "                    total[i,0,j,k] = pred_geniş[i,0,j,k]\n",
        "\n",
        "    return total"
      ],
      "execution_count": null,
      "outputs": []
    },
    {
      "cell_type": "code",
      "metadata": {
        "colab": {
          "base_uri": "https://localhost:8080/",
          "height": 592
        },
        "id": "eoDOWb46tO75",
        "outputId": "ce5aec84-e20d-4b09-8199-07e8666ad57d"
      },
      "source": [
        "renk = { 0:'magma',\n",
        "        1:'viridis',\n",
        "        2:'gray',\n",
        "        3:'inferno',\n",
        "        4:'cividis',\n",
        "        5:'hot', }\n",
        "a  = 2\n",
        "x=197\n",
        "\n",
        "pred_tam = model_tam.predict(np.expand_dims(x_test[x,:,:,:],axis=0))\n",
        "pred_tam.shape\n",
        "t1ce_tam = pred_tam[0] * t1ce_test[x]\n",
        "expand_img = np.expand_dims(t1ce_tam,axis=0)\n",
        "pred_ödemsiz = model_ödemsiz.predict(expand_img)\n",
        "t1ce_ödemsiz = pred_ödemsiz[0] * t1ce_test[x]\n",
        "expand_img = np.expand_dims(t1ce_ödemsiz,axis=0)\n",
        "pred_genis = model_genis.predict(expand_img)\n",
        "pred_tam[pred_tam > 0.2] = 2\n",
        "pred_tam[pred_tam != 2 ] = 0\n",
        "pred_ödemsiz[pred_ödemsiz > 0.2] = 1\n",
        "pred_ödemsiz[pred_ödemsiz != 1 ] = 0\n",
        "pred_genis[pred_genis > 0.2] = 4\n",
        "pred_genis[pred_genis != 4 ] = 0\n",
        "seg = üstüne_ekle(pred_tam, pred_ödemsiz, pred_genis)\n",
        "plt.figure(figsize=(15,15))\n",
        "\n",
        "plt.subplot(331)\n",
        "plt.title('Flair')\n",
        "plt.axis('off')\n",
        "plt.imshow(x_test[x, 0, :, :], cmap= renk[a])\n",
        "\n",
        "plt.subplot(332)\n",
        "plt.title('T2')\n",
        "plt.axis('off')\n",
        "plt.imshow(x_test[x, 1, :, :],cmap= renk[a])\n",
        "\n",
        "plt.subplot(333)\n",
        "plt.title('T1ce')\n",
        "plt.axis('off')\n",
        "plt.imshow(t1ce_test[x, 0, :, :],cmap= renk[a])\n",
        "\n",
        "plt.subplot(334)\n",
        "plt.title('Segmentasyon')\n",
        "plt.axis('off')\n",
        "plt.imshow(seg_orj[x, 0, :, :],cmap= renk[a])\n",
        "\n",
        "plt.subplot(335)\n",
        "plt.title('Predict')\n",
        "plt.axis('off')\n",
        "plt.imshow(seg[0, 0, :, :],cmap= renk[a])\n",
        "\n",
        "\n",
        "plt.subplot(336)\n",
        "plt.title('Flair + Tumor Segmentasyonu')\n",
        "plt.axis('off')\n",
        "y = cv2.addWeighted(x_test[x,1,:,:],0.1, seg[0,0,:,:], 0.9,0)\n",
        "plt.imshow(y, cmap= renk[a])"
      ],
      "execution_count": null,
      "outputs": [
        {
          "output_type": "execute_result",
          "data": {
            "text/plain": [
              "<matplotlib.image.AxesImage at 0x7f0a032e9110>"
            ]
          },
          "metadata": {
            "tags": []
          },
          "execution_count": 62
        },
        {
          "output_type": "display_data",
          "data": {
            "image/png": "[encoded data removed]",
            "text/plain": [
              "<Figure size 1080x1080 with 6 Axes>"
            ]
          },
          "metadata": {
            "tags": [],
            "needs_background": "light"
          }
        }
      ]
    },
    {
      "cell_type": "code",
      "metadata": {
        "colab": {
          "base_uri": "https://localhost:8080/"
        },
        "id": "qMUwdxxSJME6",
        "outputId": "188b41d7-5567-4f17-eccf-0af8b8e4f85a"
      },
      "source": [
        "sensitivity, specificity, accuracy = calculate_sensitivity_specificity(seg_tam_test[x][0], pred_tam[0][0])\n",
        "dice = compute_dice(seg_tam_test[x][0], pred_tam[0][0])\n",
        "print ('WT Sensitivity:', sensitivity)\n",
        "print ('WT Specificity:', specificity)\n",
        "print ('WT Accuracy:', accuracy)\n",
        "print ('WT Dice:', dice)\n",
        "sensitivity, specificity, accuracy = calculate_sensitivity_specificity(seg_ödemsiz_test[x][0], pred_ödemsiz[0][0])\n",
        "dice = compute_dice(seg_ödemsiz_test[x][0], pred_ödemsiz[0][0])\n",
        "print ('TC Sensitivity:', sensitivity)\n",
        "print ('TC Specificity:', specificity)\n",
        "print ('TC Accuracy:', accuracy)\n",
        "print ('TC Dice:', dice)\n",
        "sensitivity, specificity, accuracy = calculate_sensitivity_specificity(seg_geniş_test[x][0], pred_genis[0][0])\n",
        "dice = compute_dice(seg_geniş_test[x][0], pred_genis[0][0])\n",
        "print ('ET Sensitivity:', sensitivity)\n",
        "print ('ET Specificity:', specificity)\n",
        "print ('ET Accuracy:', accuracy)\n",
        "print ('ET Dice:', dice)"
      ],
      "execution_count": null,
      "outputs": [
        {
          "output_type": "stream",
          "text": [
            "WT Sensitivity: 0.0\n",
            "WT Specificity: 0.9985592335122285\n",
            "WT Accuracy: 0.9626041666666667\n",
            "WT Dice: 0.9786628733997155\n",
            "TC Sensitivity: 0.9822309970384995\n",
            "TC Specificity: 0.9997702652552707\n",
            "TC Accuracy: 0.9994618055555555\n",
            "TC Dice: 0.9846610588817417\n",
            "ET Sensitivity: 0.0\n",
            "ET Specificity: 0.9996305158702231\n",
            "ET Accuracy: 0.9863715277777778\n",
            "ET Dice: 0.9718402095612312\n"
          ],
          "name": "stdout"
        }
      ]
    },
    {
      "cell_type": "code",
      "metadata": {
        "colab": {
          "base_uri": "https://localhost:8080/",
          "height": 286
        },
        "id": "4jO_5IPSYK2v",
        "outputId": "4771aaf7-07ec-43f3-b758-61b0898e87f5"
      },
      "source": [
        "plt.imshow(seg_orj[200][0], cmap= renk[a])"
      ],
      "execution_count": null,
      "outputs": [
        {
          "output_type": "execute_result",
          "data": {
            "text/plain": [
              "<matplotlib.image.AxesImage at 0x7f460e2d44d0>"
            ]
          },
          "metadata": {
            "tags": []
          },
          "execution_count": 185
        },
        {
          "output_type": "display_data",
          "data": {
            "image/png": "[encoded data removed]",
            "text/plain": [
              "<Figure size 432x288 with 1 Axes>"
            ]
          },
          "metadata": {
            "tags": []
          }
        }
      ]
    },
    {
      "cell_type": "code",
      "metadata": {
        "id": "qvYGtedhUChS"
      },
      "source": [
        "def üstüne_ekle(pred_tam, pred_ödemsiz , pred_geniş ):\n",
        "\n",
        "    total = np.zeros((1,1,240,240),np.float32)\n",
        "    total[:,:,:,:] = pred_tam[:,:,:,:]\n",
        "\n",
        "    for i in range(pred_ödemsiz.shape[0]):\n",
        "        for j in range(240):\n",
        "            for k in range(240):\n",
        "\n",
        "                if pred_ödemsiz[i,0,j,k] != 0 and pred_tam[i,0,j,k] !=0:\n",
        "                    total[i,0,j,k] = pred_ödemsiz[i,0,j,k]\n",
        "\n",
        "                if pred_geniş[i,0,j,k] != 0 and pred_tam[i,0,j,k] !=0:\n",
        "                    total[i,0,j,k] = pred_geniş[i,0,j,k]\n",
        "\n",
        "    return total"
      ],
      "execution_count": null,
      "outputs": []
    },
    {
      "cell_type": "code",
      "metadata": {
        "id": "R5hJ6le_Yb04"
      },
      "source": [
        "from skimage import io, color, img_as_float\n",
        "from skimage.exposure import adjust_gamma\n",
        "def show_lable_on_image4(test_img, label_im):\n",
        "\n",
        "    alpha = 0.8\n",
        "\n",
        "    img = img_as_float(test_img/test_img.max())\n",
        "    rows, cols = img.shape\n",
        "\n",
        "    # Construct a colour image to superimpose\n",
        "    color_mask = np.zeros((rows, cols, 3))\n",
        "    red_multiplier = [1, 0.2, 0.2]\n",
        "    green_multiplier = [0.35,0.75,0.25]\n",
        "    blue_multiplier = [0,0.25,0.9]\n",
        "    yellow_multiplier = [1,1,0.25]\n",
        "    brown_miltiplier = [40./255, 26./255, 13./255]\n",
        "\n",
        "\n",
        "    color_mask[label_im==1] = blue_multiplier#[1, 0, 0]  # Red block\n",
        "    color_mask[label_im==2] = yellow_multiplier#[0, 1, 0] # Green block\n",
        "    color_mask[label_im==3] = brown_miltiplier#[0, 0, 1] # Blue block\n",
        "    color_mask[label_im==4] = green_multiplier#[0, 1, 1] # Blue block\n",
        "\n",
        "    # Construct RGB version of grey-level image\n",
        "    img_color = np.dstack((img, img, img))\n",
        "\n",
        "    # Convert the input image and color mask to Hue Saturation Value (HSV)\n",
        "    # colorspace\n",
        "    img_hsv = color.rgb2hsv(img_color)\n",
        "    color_mask_hsv = color.rgb2hsv(color_mask)\n",
        "\n",
        "    # Replace the hue and saturation of the original image\n",
        "    # with that of the color mask\n",
        "    img_hsv[..., 0] = color_mask_hsv[..., 0]\n",
        "    img_hsv[..., 1] = color_mask_hsv[..., 1] * alpha\n",
        "\n",
        "    img_masked = color.hsv2rgb(img_hsv)\n",
        "\n",
        "    return img_masked"
      ],
      "execution_count": null,
      "outputs": []
    },
    {
      "cell_type": "code",
      "metadata": {
        "id": "WLkGCW4vVi7L"
      },
      "source": [
        "pred_tam = model_tam.predict(x_test)\n",
        "t1ce_tam = pred_tam * t1ce_test\n",
        "expand_img = np.expand_dims(t1ce_tam,axis=0)\n",
        "pred_ödemsiz = model_ödemsiz.predict(t1ce_tam)\n",
        "t1ce_ödemsiz = pred_ödemsiz*t1ce_test\n",
        "expand_img = np.expand_dims(t1ce_ödemsiz,axis=0)\n",
        "pred_geniş = model_genis.predict(t1ce_ödemsiz)"
      ],
      "execution_count": null,
      "outputs": []
    },
    {
      "cell_type": "code",
      "metadata": {
        "colab": {
          "base_uri": "https://localhost:8080/"
        },
        "id": "rUXsWeEi0XHJ",
        "outputId": "2395b0de-b722-4d3a-95ef-5f4e2b67a7cf"
      },
      "source": [
        "pred_tam.shape"
      ],
      "execution_count": null,
      "outputs": [
        {
          "output_type": "execute_result",
          "data": {
            "text/plain": [
              "(5840, 1, 240, 240)"
            ]
          },
          "metadata": {
            "tags": []
          },
          "execution_count": 68
        }
      ]
    },
    {
      "cell_type": "code",
      "metadata": {
        "id": "e-Kct6-w59u_"
      },
      "source": [
        "orjj = np.zeros((80,240,240,3),np.float32)\n",
        "for i in range(0,80):\n",
        "  orjj[i]=show_lable_on_image4(x_test[i,0], seg_orj[i,0])"
      ],
      "execution_count": null,
      "outputs": []
    },
    {
      "cell_type": "code",
      "metadata": {
        "colab": {
          "base_uri": "https://localhost:8080/"
        },
        "id": "TZWjAxrzvlN_",
        "outputId": "dabbfd19-fcc3-48c8-d295-d0703ef83a94"
      },
      "source": [
        "orjj.shape"
      ],
      "execution_count": null,
      "outputs": [
        {
          "output_type": "execute_result",
          "data": {
            "text/plain": [
              "(80, 240, 240, 3)"
            ]
          },
          "metadata": {
            "tags": []
          },
          "execution_count": 53
        }
      ]
    },
    {
      "cell_type": "code",
      "metadata": {
        "id": "WX4SY4izwsBg"
      },
      "source": [
        "orjj1 = np.zeros((80,240,240,3),np.float32)\n",
        "for i in range(0,80):\n",
        "  orjj1[i]=show_lable_on_image4(x_test[i,0], seg_orj[i,0])"
      ],
      "execution_count": null,
      "outputs": []
    },
    {
      "cell_type": "code",
      "metadata": {
        "id": "mA9yxz2IVKFH"
      },
      "source": [
        "seg1=show_lable_on_image4(x_test[197,0], seg[0,0])"
      ],
      "execution_count": null,
      "outputs": []
    },
    {
      "cell_type": "code",
      "metadata": {
        "colab": {
          "base_uri": "https://localhost:8080/",
          "height": 303
        },
        "id": "2UEq0k5lVKFH",
        "outputId": "958014c8-fd4f-46dc-c328-e3b1f302a8cd"
      },
      "source": [
        "plt.imshow(seg1)"
      ],
      "execution_count": null,
      "outputs": [
        {
          "output_type": "stream",
          "text": [
            "Clipping input data to the valid range for imshow with RGB data ([0..1] for floats or [0..255] for integers).\n"
          ],
          "name": "stderr"
        },
        {
          "output_type": "execute_result",
          "data": {
            "text/plain": [
              "<matplotlib.image.AxesImage at 0x7f0a036452d0>"
            ]
          },
          "metadata": {
            "tags": []
          },
          "execution_count": 56
        },
        {
          "output_type": "display_data",
          "data": {
            "image/png": "[encoded data removed]",
            "text/plain": [
              "<Figure size 432x288 with 1 Axes>"
            ]
          },
          "metadata": {
            "tags": [],
            "needs_background": "light"
          }
        }
      ]
    },
    {
      "cell_type": "code",
      "metadata": {
        "id": "SLFFpYCH5vBY"
      },
      "source": [
        "orj=show_lable_on_image4(x_test[197,0], seg_orj[197,0])"
      ],
      "execution_count": null,
      "outputs": []
    },
    {
      "cell_type": "code",
      "metadata": {
        "colab": {
          "base_uri": "https://localhost:8080/",
          "height": 303
        },
        "id": "0YsCqSm_B-67",
        "outputId": "771ee196-719a-4143-aa7e-a78dd627a81b"
      },
      "source": [
        "plt.imshow(orj)"
      ],
      "execution_count": null,
      "outputs": [
        {
          "output_type": "stream",
          "text": [
            "Clipping input data to the valid range for imshow with RGB data ([0..1] for floats or [0..255] for integers).\n"
          ],
          "name": "stderr"
        },
        {
          "output_type": "execute_result",
          "data": {
            "text/plain": [
              "<matplotlib.image.AxesImage at 0x7f0a0372aad0>"
            ]
          },
          "metadata": {
            "tags": []
          },
          "execution_count": 54
        },
        {
          "output_type": "display_data",
          "data": {
            "image/png": "[encoded data removed]",
            "text/plain": [
              "<Figure size 432x288 with 1 Axes>"
            ]
          },
          "metadata": {
            "tags": [],
            "needs_background": "light"
          }
        }
      ]
    },
    {
      "cell_type": "code",
      "metadata": {
        "id": "1bqm2T0qu3Wi"
      },
      "source": [
        "import matplotlib.animation as animation\n",
        "def animate(pat, gifname):\n",
        "    # Based on @Zombie's code\n",
        "    fig = plt.figure()\n",
        "    anim = plt.imshow(pat[0])\n",
        "    def update(i):\n",
        "        anim.set_array(pat[i])\n",
        "        return anim,\n",
        "    a = animation.FuncAnimation(fig, update, frames=80, interval=50, blit=True)\n",
        "    a.save(gifname, writer='pillow')"
      ],
      "execution_count": null,
      "outputs": []
    },
    {
      "cell_type": "code",
      "metadata": {
        "colab": {
          "base_uri": "https://localhost:8080/",
          "height": 269
        },
        "id": "lgkTu2N83zGn",
        "outputId": "bbd9e958-2388-4f35-bde0-b8e7240f53c5"
      },
      "source": [
        "import matplotlib.animation as animation\n",
        "def animate(pat, gifname):\n",
        "    # Based on @Zombie's code\n",
        "    fig = plt.figure()\n",
        "    anim = plt.imshow(pat[0])\n",
        "    def update(i):\n",
        "        anim.set_array(pat[i])\n",
        "        return anim,\n",
        "\n",
        "    a = animation.FuncAnimation(fig, update, frames=80, interval=50, blit=True)\n",
        "    a.save(gifname, writer='pillow')\n",
        "\n",
        "animate(x_test[:,0], 'test.gif')"
      ],
      "execution_count": null,
      "outputs": [
        {
          "output_type": "display_data",
          "data": {
            "image/png": "[encoded data removed]",
            "text/plain": [
              "<Figure size 432x288 with 1 Axes>"
            ]
          },
          "metadata": {
            "tags": [],
            "needs_background": "light"
          }
        }
      ]
    },
    {
      "cell_type": "code",
      "metadata": {
        "colab": {
          "base_uri": "https://localhost:8080/",
          "height": 269
        },
        "id": "k_yYIRx-VVf8",
        "outputId": "f781bfdb-08aa-4bd4-b9c6-16226328ce5d"
      },
      "source": [
        "import matplotlib.animation as animation\n",
        "def animate(pat, gifname):\n",
        "    # Based on @Zombie's code\n",
        "    fig = plt.figure()\n",
        "    anim = plt.imshow(pat[225])\n",
        "    def update(i):\n",
        "        anim.set_array(pat[i])\n",
        "        return anim,\n",
        "\n",
        "    a = animation.FuncAnimation(fig, update, frames=80, interval=50, blit=True)\n",
        "    a.save(gifname, writer='pillow')\n",
        "\n",
        "animate(seg_orj[:,0,:,:], 'test.gif')"
      ],
      "execution_count": null,
      "outputs": [
        {
          "output_type": "display_data",
          "data": {
            "image/png": "[encoded data removed]",
            "text/plain": [
              "<Figure size 432x288 with 1 Axes>"
            ]
          },
          "metadata": {
            "tags": []
          }
        }
      ]
    },
    {
      "cell_type": "code",
      "metadata": {
        "id": "_U4xVK3IBrkb",
        "colab": {
          "base_uri": "https://localhost:8080/",
          "height": 163
        },
        "outputId": "f5a2c6f4-d738-4823-b8cd-becd494b4223"
      },
      "source": [
        "a=show_lable_on_image4(x_test[4848,0], seg[0,0])"
      ],
      "execution_count": null,
      "outputs": [
        {
          "output_type": "error",
          "ename": "NameError",
          "evalue": "ignored",
          "traceback": [
            "\u001b[0;31m---------------------------------------------------------------------------\u001b[0m",
            "\u001b[0;31mNameError\u001b[0m                                 Traceback (most recent call last)",
            "\u001b[0;32m<ipython-input-31-cc563912b029>\u001b[0m in \u001b[0;36m<module>\u001b[0;34m()\u001b[0m\n\u001b[0;32m----> 1\u001b[0;31m \u001b[0ma\u001b[0m\u001b[0;34m=\u001b[0m\u001b[0mshow_lable_on_image4\u001b[0m\u001b[0;34m(\u001b[0m\u001b[0mx_test\u001b[0m\u001b[0;34m[\u001b[0m\u001b[0;36m4848\u001b[0m\u001b[0;34m,\u001b[0m\u001b[0;36m0\u001b[0m\u001b[0;34m]\u001b[0m\u001b[0;34m,\u001b[0m \u001b[0mseg\u001b[0m\u001b[0;34m[\u001b[0m\u001b[0;36m0\u001b[0m\u001b[0;34m,\u001b[0m\u001b[0;36m0\u001b[0m\u001b[0;34m]\u001b[0m\u001b[0;34m)\u001b[0m\u001b[0;34m\u001b[0m\u001b[0;34m\u001b[0m\u001b[0m\n\u001b[0m",
            "\u001b[0;31mNameError\u001b[0m: name 'seg' is not defined"
          ]
        }
      ]
    },
    {
      "cell_type": "code",
      "metadata": {
        "id": "f5HJqPOjCGqR",
        "colab": {
          "base_uri": "https://localhost:8080/",
          "height": 303
        },
        "outputId": "99f2c139-448d-4afb-e9d1-dc5e52b04596"
      },
      "source": [
        "plt.imshow(a)"
      ],
      "execution_count": null,
      "outputs": [
        {
          "output_type": "stream",
          "text": [
            "Clipping input data to the valid range for imshow with RGB data ([0..1] for floats or [0..255] for integers).\n"
          ],
          "name": "stderr"
        },
        {
          "output_type": "execute_result",
          "data": {
            "text/plain": [
              "<matplotlib.image.AxesImage at 0x7f736a441ad0>"
            ]
          },
          "metadata": {
            "tags": []
          },
          "execution_count": 56
        },
        {
          "output_type": "display_data",
          "data": {
            "image/png": "[encoded data removed]",
            "text/plain": [
              "<Figure size 432x288 with 1 Axes>"
            ]
          },
          "metadata": {
            "tags": [],
            "needs_background": "light"
          }
        }
      ]
    },
    {
      "cell_type": "code",
      "metadata": {
        "colab": {
          "base_uri": "https://localhost:8080/",
          "height": 416
        },
        "id": "MkOtQylZtzUT",
        "outputId": "ecdab15e-fbf2-418e-c7c1-d558e04e70a6"
      },
      "source": [
        "plt.figure(figsize=(15,10))\n",
        "\n",
        "plt.subplot(331)\n",
        "plt.title('Tam Tümör')\n",
        "plt.axis('off')\n",
        "plt.imshow(seg_tam_test[x,0 ,:,:],cmap= renk[0])\n",
        "\n",
        "plt.subplot(332)\n",
        "plt.title('Ödemsiz ')\n",
        "plt.axis('off')\n",
        "plt.imshow(seg_ödemsiz_test[x, 0, :, :],cmap= renk[0])\n",
        "\n",
        "plt.subplot(333)\n",
        "plt.title('Geniş ')\n",
        "plt.axis('off')\n",
        "plt.imshow(seg_geniş_test[x, 0, :, :],cmap= renk[0])\n",
        "\n",
        "\n",
        "plt.subplot(334)\n",
        "plt.title('Pred Tam ')\n",
        "plt.axis('off')\n",
        "plt.imshow(pred_tam[0,0,:,:],cmap= renk[0])\n",
        "\n",
        "\n",
        "plt.subplot(335)\n",
        "plt.title('Pred Ödemsiz')\n",
        "plt.axis('off')\n",
        "plt.imshow(pred_ödemsiz[ 0, 0, :, :],cmap= renk[0])\n",
        "\n",
        "\n",
        "plt.subplot(336)\n",
        "plt.title('Pred Geniş')\n",
        "plt.axis('off')\n",
        "plt.imshow(pred_genis[ 0, 0, :, :],cmap= renk[0])\n"
      ],
      "execution_count": null,
      "outputs": [
        {
          "output_type": "execute_result",
          "data": {
            "text/plain": [
              "<matplotlib.image.AxesImage at 0x7f4614a26610>"
            ]
          },
          "metadata": {
            "tags": []
          },
          "execution_count": 76
        },
        {
          "output_type": "display_data",
          "data": {
            "image/png": "[encoded data removed]",
            "text/plain": [
              "<Figure size 1080x720 with 6 Axes>"
            ]
          },
          "metadata": {
            "tags": []
          }
        }
      ]
    },
    {
      "cell_type": "code",
      "metadata": {
        "colab": {
          "base_uri": "https://localhost:8080/"
        },
        "id": "iU8mGJ8Wvsf7",
        "outputId": "ec19c22c-e1ae-4d08-de62-fa7a11aacda0"
      },
      "source": [
        "sensitivity, specificity, accuracy = calculate_sensitivity_specificity(seg_tam_test[x][0], pred_tam[0][0])\n",
        "dice = compute_dice(seg_tam_test[x][0], pred_tam[0][0])\n",
        "print ('WT Sensitivity:', sensitivity)\n",
        "print ('WT Specificity:', specificity)\n",
        "print ('WT Accuracy:', accuracy)\n",
        "print ('WT Dice:', dice)\n",
        "sensitivity, specificity, accuracy = calculate_sensitivity_specificity(seg_ödemsiz_test[x][0], pred_ödemsiz[0][0])\n",
        "dice = compute_dice(seg_ödemsiz_test[x][0], pred_ödemsiz[0][0])\n",
        "print ('TC Sensitivity:', sensitivity)\n",
        "print ('TC Specificity:', specificity)\n",
        "print ('TC Accuracy:', accuracy)\n",
        "print ('TC Dice:', dice)\n",
        "sensitivity, specificity, accuracy = calculate_sensitivity_specificity(seg_geniş_test[x][0], pred_genis[0][0])\n",
        "dice = compute_dice(seg_geniş_test[x][0], pred_genis[0][0])\n",
        "print ('ET Sensitivity:', sensitivity)\n",
        "print ('ET Specificity:', specificity)\n",
        "print ('ET Accuracy:', accuracy)\n",
        "print ('ET Dice:', dice)"
      ],
      "execution_count": null,
      "outputs": [
        {
          "output_type": "stream",
          "text": [
            "WT Sensitivity: 0.0\n",
            "WT Specificity: 0.9969727547931383\n",
            "WT Accuracy: 0.92625\n",
            "WT Dice: 0.9660460021905805\n",
            "TC Sensitivity: 0.9517966695880806\n",
            "TC Specificity: 1.0\n",
            "TC Accuracy: 0.9990451388888889\n",
            "TC Dice: 0.9753030983385721\n",
            "ET Sensitivity: 0.0\n",
            "ET Specificity: 0.9999472546020359\n",
            "ET Accuracy: 0.9873958333333334\n",
            "ET Dice: 0.9462989840348331\n"
          ],
          "name": "stdout"
        }
      ]
    },
    {
      "cell_type": "code",
      "metadata": {
        "id": "3R4li-vHwyrx"
      },
      "source": [
        "def compute_dice(im1, im2, empty_score=1.0):\n",
        "    im1 = np.asarray(im1>0.5).astype(np.bool)\n",
        "    im2 = np.asarray(im2>0.5).astype(np.bool)\n",
        "\n",
        "    if im1.shape != im2.shape:\n",
        "        raise ValueError(\"Shape mismatch: im1 and im2 must have the same shape.\")\n",
        "\n",
        "    im_sum = im1.sum() + im2.sum()\n",
        "    if im_sum == 0:\n",
        "        return empty_score\n",
        "\n",
        "    intersection = np.logical_and(im1, im2)\n",
        "\n",
        "    return 2. * intersection.sum() / im_sum"
      ],
      "execution_count": null,
      "outputs": []
    },
    {
      "cell_type": "code",
      "metadata": {
        "id": "YVB4To678ni1"
      },
      "source": [
        "def calculate_sensitivity_specificity(y_test, y_pred_test):\n",
        "    # Note: More parameters are defined than necessary.\n",
        "    # This would allow return of other measures other than sensitivity and specificity\n",
        "\n",
        "    # Get true/false for whether a breach actually occurred\n",
        "    actual_pos = y_test == 1\n",
        "    actual_neg = y_test == 0\n",
        "\n",
        "    # Get true and false test (true test match actual, false tests differ from actual)\n",
        "    true_pos = (y_pred_test == 1) & (actual_pos)\n",
        "    false_pos = (y_pred_test == 1) & (actual_neg)\n",
        "    true_neg = (y_pred_test == 0) & (actual_neg)\n",
        "    false_neg = (y_pred_test == 0) & (actual_pos)\n",
        "\n",
        "    # Calculate accuracy\n",
        "    accuracy = np.mean(y_pred_test == y_test)\n",
        "\n",
        "    # Calculate sensitivity and specificity\n",
        "    sensitivity = np.sum(true_pos) / np.sum(actual_pos)\n",
        "    specificity = np.sum(true_neg) / np.sum(actual_neg)\n",
        "\n",
        "    return sensitivity, specificity, accuracy"
      ],
      "execution_count": null,
      "outputs": []
    },
    {
      "cell_type": "markdown",
      "metadata": {
        "id": "hWloFdnQJXuM"
      },
      "source": [
        "Tam Tümör"
      ]
    },
    {
      "cell_type": "code",
      "metadata": {
        "colab": {
          "base_uri": "https://localhost:8080/"
        },
        "id": "ZpQ-CoPPCiln",
        "outputId": "d6ac2aec-5165-4e5e-ffa5-46081c5176a1"
      },
      "source": [
        "sum_sensitivity=0\n",
        "mean_sensitivity=0\n",
        "sum_specifity=0\n",
        "mean_specifity=0\n",
        "sum_accuracy=0\n",
        "mean_accuracy=0\n",
        "sum_dice=0\n",
        "mean_dice=0\n",
        "a=0\n",
        "for i in range(0,len(seg_tam_test)):\n",
        "  pred_tam = model_tam.predict(np.expand_dims(x_test[i,:,:,:],axis=0))\n",
        "  dice = compute_dice(pred_tam[0,0,:,:],seg_tam_test[i,0,:,:])\n",
        "  sensitivity, specifity, accuracy = calculate_sensitivity_specificity(seg_tam_test[i][0], pred_tam[0][0])\n",
        "  sum_dice = sum_dice + dice\n",
        "  sum_specifity = sum_specifity + specifity\n",
        "  sum_accuracy = sum_accuracy + accuracy\n",
        "  if 0.0 <= sensitivity <= 1.0:\n",
        "    sum_sensitivity = sum_sensitivity + sensitivity\n",
        "    a=a+1\n",
        "mean_dice = sum_dice / len(seg_tam_test)\n",
        "mean_sensitivity = sum_sensitivity / a\n",
        "mean_specifity = sum_specifity / len(seg_tam_test)\n",
        "mean_accuracy = sum_accuracy / len(seg_tam_test)\n",
        "\n",
        "print(mean_dice, mean_sensitivity, mean_specifity, mean_accuracy)"
      ],
      "execution_count": null,
      "outputs": [
        {
          "output_type": "stream",
          "text": [
            "/usr/local/lib/python3.7/dist-packages/ipykernel_launcher.py:19: RuntimeWarning: invalid value encountered in long_scalars\n"
          ],
          "name": "stderr"
        },
        {
          "output_type": "stream",
          "text": [
            "0.8420253130248706 0.7724045507014466 0.38824930381194417 0.3995980070395733\n"
          ],
          "name": "stdout"
        }
      ]
    },
    {
      "cell_type": "markdown",
      "metadata": {
        "id": "zXCE4MJKJex1"
      },
      "source": [
        "Tümör Merkezi (Ödemsiz Tümör)"
      ]
    },
    {
      "cell_type": "code",
      "metadata": {
        "colab": {
          "base_uri": "https://localhost:8080/"
        },
        "id": "wsfAMoGM-PD2",
        "outputId": "f946aea4-6d4e-4664-ffe3-08ce54550972"
      },
      "source": [
        "sum_sensitivity=0\n",
        "mean_sensitivity=0\n",
        "sum_specifity=0\n",
        "mean_specifity=0\n",
        "sum_accuracy=0\n",
        "mean_accuracy=0\n",
        "sum_dice=0\n",
        "mean_dice=0\n",
        "a=0\n",
        "for i in range(0,len(seg_tam_test)):\n",
        "  pred_tam = model_tam.predict(np.expand_dims(x_test[i,:,:,:],axis=0))\n",
        "  t1ce_tam = pred_tam[0] * t1ce_test[i]\n",
        "  expand_img = np.expand_dims(t1ce_tam,axis=0)\n",
        "  pred_ödemsiz = model_ödemsiz.predict(expand_img)\n",
        "  dice = compute_dice(pred_ödemsiz[0,0,:,:],seg_ödemsiz_test[i,0,:,:])\n",
        "  sensitivity, specifity, accuracy = calculate_sensitivity_specificity(seg_ödemsiz_test[i][0], pred_ödemsiz[0][0])\n",
        "  sum_dice = sum_dice + dice\n",
        "  sum_specifity = sum_specifity + specifity\n",
        "  sum_accuracy = sum_accuracy + accuracy\n",
        "  if 0.0 <= sensitivity <= 1.0:\n",
        "    sum_sensitivity = sum_sensitivity + sensitivity\n",
        "    a=a+1\n",
        "mean_dice = sum_dice / len(seg_ödemsiz_test)\n",
        "mean_sensitivity = sum_sensitivity / a\n",
        "mean_specifity = sum_specifity / len(seg_ödemsiz_test)\n",
        "mean_accuracy = sum_accuracy / len(seg_ödemsiz_test)\n",
        "\n",
        "print(mean_dice, mean_sensitivity, mean_specifity, mean_accuracy)"
      ],
      "execution_count": null,
      "outputs": [
        {
          "output_type": "stream",
          "text": [
            "/usr/local/lib/python3.7/dist-packages/ipykernel_launcher.py:19: RuntimeWarning: invalid value encountered in long_scalars\n"
          ],
          "name": "stderr"
        },
        {
          "output_type": "stream",
          "text": [
            "0.7505459384360139 0.5661863626721277 0.9843019358853897 0.9799640648782509\n"
          ],
          "name": "stdout"
        }
      ]
    },
    {
      "cell_type": "markdown",
      "metadata": {
        "id": "M3YZn8e_Jhi9"
      },
      "source": [
        "Genişleyen Tümör"
      ]
    },
    {
      "cell_type": "code",
      "metadata": {
        "colab": {
          "base_uri": "https://localhost:8080/"
        },
        "id": "JZXCD7L0JkAm",
        "outputId": "d579af07-34f4-4ab0-e3a1-19702ddd5360"
      },
      "source": [
        "sum_sensitivity=0\n",
        "mean_sensitivity=0\n",
        "sum_specifity=0\n",
        "mean_specifity=0\n",
        "sum_accuracy=0\n",
        "mean_accuracy=0\n",
        "sum_dice=0\n",
        "mean_dice=0\n",
        "a=0\n",
        "for i in range(0,len(seg_tam_test)):\n",
        "  pred_tam = model_tam.predict(np.expand_dims(x_test[i,:,:,:],axis=0))\n",
        "  t1ce_tam = pred_tam[0] * t1ce_test[i]\n",
        "  expand_img = np.expand_dims(t1ce_tam,axis=0)\n",
        "  pred_ödemsiz = model_ödemsiz.predict(expand_img)\n",
        "  t1ce_ödemsiz = pred_ödemsiz[0]*t1ce_test[i]\n",
        "  expand_img = np.expand_dims(t1ce_ödemsiz,axis=0)\n",
        "  pred_geniş = model_genis.predict(expand_img)\n",
        "  dice = compute_dice(pred_geniş[0,0,:,:],seg_geniş_test[i,0,:,:])\n",
        "  sensitivity, specifity, accuracy = calculate_sensitivity_specificity(seg_geniş_test[i][0], pred_geniş[0][0])\n",
        "  sum_dice = sum_dice + dice\n",
        "  sum_specifity = sum_specifity + specifity\n",
        "  sum_accuracy = sum_accuracy + accuracy\n",
        "  if 0.0 <= sensitivity <= 1.0:\n",
        "    sum_sensitivity = sum_sensitivity + sensitivity\n",
        "    a=a+1\n",
        "mean_dice = sum_dice / len(seg_ödemsiz_test)\n",
        "mean_sensitivity = sum_sensitivity / a\n",
        "mean_specifity = sum_specifity / len(seg_ödemsiz_test)\n",
        "mean_accuracy = sum_accuracy / len(seg_ödemsiz_test)\n",
        "\n",
        "print(mean_dice, mean_sensitivity, mean_specifity, mean_accuracy)"
      ],
      "execution_count": null,
      "outputs": [
        {
          "output_type": "stream",
          "text": [
            "/usr/local/lib/python3.7/dist-packages/ipykernel_launcher.py:19: RuntimeWarning: invalid value encountered in long_scalars\n"
          ],
          "name": "stderr"
        },
        {
          "output_type": "stream",
          "text": [
            "0.7456082706985173 0.6061783486438515 0.9140403347312978 0.913456169140071\n"
          ],
          "name": "stdout"
        }
      ]
    },
    {
      "cell_type": "markdown",
      "metadata": {
        "id": "ZWT8Bjvd7FeQ"
      },
      "source": []
    },
    {
      "cell_type": "code",
      "metadata": {
        "id": "HSl6-Ugh9Ul8"
      },
      "source": [
        "path = '/content/drive/MyDrive/MICCAI_BraTS2020_TestingData/BraTS20_Training_360/'"
      ],
      "execution_count": null,
      "outputs": []
    },
    {
      "cell_type": "code",
      "metadata": {
        "id": "fBQgkLF880aX"
      },
      "source": [
        "orjj = np.zeros((80,240,240,3),np.float32)\n",
        "for i in range(0,80):\n",
        "  orjj[i]=show_lable_on_image4(x_test[i,0], seg_orj[i,0])"
      ],
      "execution_count": null,
      "outputs": []
    },
    {
      "cell_type": "code",
      "metadata": {
        "id": "4z8H2asly7p4"
      },
      "source": [
        "seg = np.zeros((80,1,240,240),np.float32)\n",
        "for x in range(0,len(seg_tam_test)):\n",
        "  pred_tam = model_tam.predict(np.expand_dims(x_test[x,:,:,:],axis=0))\n",
        "  t1ce_tam = pred_tam[0] * t1ce[x]\n",
        "  expand_img = np.expand_dims(t1ce_tam,axis=0)\n",
        "  pred_ödemsiz = model_ödemsiz.predict(expand_img)\n",
        "  t1ce_ödemsiz = pred_ödemsiz[0] * t1ce[x]\n",
        "  expand_img = np.expand_dims(t1ce_ödemsiz,axis=0)\n",
        "  pred_genis = model_genis.predict(expand_img)\n",
        "  pred_tam[pred_tam > 0.2] = 2\n",
        "  pred_tam[pred_tam != 2 ] = 0\n",
        "  pred_ödemsiz[pred_ödemsiz > 0.2] = 1\n",
        "  pred_ödemsiz[pred_ödemsiz != 1 ] = 0\n",
        "  pred_genis[pred_genis > 0.2] = 4\n",
        "  pred_genis[pred_genis != 4 ] = 0\n",
        "  seg[x] = üstüne_ekle(pred_tam, pred_ödemsiz, pred_genis)"
      ],
      "execution_count": null,
      "outputs": []
    },
    {
      "cell_type": "code",
      "metadata": {
        "id": "9Gv8GCT6_rau"
      },
      "source": [
        "segg = np.zeros((80,240,240,3),np.float32)\n",
        "for i in range(0,80):\n",
        "  segg[i]=show_lable_on_image4(x_test[i,0], seg[i,0])"
      ],
      "execution_count": null,
      "outputs": []
    },
    {
      "cell_type": "code",
      "metadata": {
        "id": "DkDDIQfc_qYq"
      },
      "source": [
        "import matplotlib.animation as animation\n",
        "def animate(pat, gifname):\n",
        "    # Based on @Zombie's code\n",
        "    fig = plt.figure()\n",
        "    anim = plt.imshow(pat[0])\n",
        "    def update(i):\n",
        "        anim.set_array(pat[i])\n",
        "        return anim,\n",
        "\n",
        "    a = animation.FuncAnimation(fig, update, frames=80, interval=50, blit=True)\n",
        "    a.save(gifname, writer='pillow')"
      ],
      "execution_count": null,
      "outputs": []
    },
    {
      "cell_type": "code",
      "metadata": {
        "colab": {
          "base_uri": "https://localhost:8080/",
          "height": 1000
        },
        "id": "IyJUgCAE9Hz0",
        "outputId": "67c83040-b371-431c-b00b-afcf14518be8"
      },
      "source": [
        "import matplotlib.animation as animation\n",
        "def animate(pat, gifname):\n",
        "    # Based on @Zombie's code\n",
        "    fig = plt.figure()\n",
        "    anim = plt.imshow(pat[0])\n",
        "    def update(i):\n",
        "        anim.set_array(pat[i])\n",
        "        return anim,\n",
        "\n",
        "    a = animation.FuncAnimation(fig, update, frames=80, interval=50, blit=True)\n",
        "    a.save(gifname, writer='pillow')\n",
        "\n",
        "animate(segg, 'predict.gif')"
      ],
      "execution_count": null,
      "outputs": [
        {
          "output_type": "stream",
          "text": [
            "Clipping input data to the valid range for imshow with RGB data ([0..1] for floats or [0..255] for integers).\n",
            "Clipping input data to the valid range for imshow with RGB data ([0..1] for floats or [0..255] for integers).\n",
            "Clipping input data to the valid range for imshow with RGB data ([0..1] for floats or [0..255] for integers).\n",
            "Clipping input data to the valid range for imshow with RGB data ([0..1] for floats or [0..255] for integers).\n",
            "Clipping input data to the valid range for imshow with RGB data ([0..1] for floats or [0..255] for integers).\n",
            "Clipping input data to the valid range for imshow with RGB data ([0..1] for floats or [0..255] for integers).\n",
            "Clipping input data to the valid range for imshow with RGB data ([0..1] for floats or [0..255] for integers).\n",
            "Clipping input data to the valid range for imshow with RGB data ([0..1] for floats or [0..255] for integers).\n",
            "Clipping input data to the valid range for imshow with RGB data ([0..1] for floats or [0..255] for integers).\n",
            "Clipping input data to the valid range for imshow with RGB data ([0..1] for floats or [0..255] for integers).\n",
            "Clipping input data to the valid range for imshow with RGB data ([0..1] for floats or [0..255] for integers).\n",
            "Clipping input data to the valid range for imshow with RGB data ([0..1] for floats or [0..255] for integers).\n",
            "Clipping input data to the valid range for imshow with RGB data ([0..1] for floats or [0..255] for integers).\n",
            "Clipping input data to the valid range for imshow with RGB data ([0..1] for floats or [0..255] for integers).\n",
            "Clipping input data to the valid range for imshow with RGB data ([0..1] for floats or [0..255] for integers).\n",
            "Clipping input data to the valid range for imshow with RGB data ([0..1] for floats or [0..255] for integers).\n",
            "Clipping input data to the valid range for imshow with RGB data ([0..1] for floats or [0..255] for integers).\n",
            "Clipping input data to the valid range for imshow with RGB data ([0..1] for floats or [0..255] for integers).\n",
            "Clipping input data to the valid range for imshow with RGB data ([0..1] for floats or [0..255] for integers).\n",
            "Clipping input data to the valid range for imshow with RGB data ([0..1] for floats or [0..255] for integers).\n",
            "Clipping input data to the valid range for imshow with RGB data ([0..1] for floats or [0..255] for integers).\n",
            "Clipping input data to the valid range for imshow with RGB data ([0..1] for floats or [0..255] for integers).\n",
            "Clipping input data to the valid range for imshow with RGB data ([0..1] for floats or [0..255] for integers).\n",
            "Clipping input data to the valid range for imshow with RGB data ([0..1] for floats or [0..255] for integers).\n",
            "Clipping input data to the valid range for imshow with RGB data ([0..1] for floats or [0..255] for integers).\n",
            "Clipping input data to the valid range for imshow with RGB data ([0..1] for floats or [0..255] for integers).\n",
            "Clipping input data to the valid range for imshow with RGB data ([0..1] for floats or [0..255] for integers).\n",
            "Clipping input data to the valid range for imshow with RGB data ([0..1] for floats or [0..255] for integers).\n",
            "Clipping input data to the valid range for imshow with RGB data ([0..1] for floats or [0..255] for integers).\n",
            "Clipping input data to the valid range for imshow with RGB data ([0..1] for floats or [0..255] for integers).\n",
            "Clipping input data to the valid range for imshow with RGB data ([0..1] for floats or [0..255] for integers).\n",
            "Clipping input data to the valid range for imshow with RGB data ([0..1] for floats or [0..255] for integers).\n",
            "Clipping input data to the valid range for imshow with RGB data ([0..1] for floats or [0..255] for integers).\n",
            "Clipping input data to the valid range for imshow with RGB data ([0..1] for floats or [0..255] for integers).\n",
            "Clipping input data to the valid range for imshow with RGB data ([0..1] for floats or [0..255] for integers).\n",
            "Clipping input data to the valid range for imshow with RGB data ([0..1] for floats or [0..255] for integers).\n",
            "Clipping input data to the valid range for imshow with RGB data ([0..1] for floats or [0..255] for integers).\n",
            "Clipping input data to the valid range for imshow with RGB data ([0..1] for floats or [0..255] for integers).\n",
            "Clipping input data to the valid range for imshow with RGB data ([0..1] for floats or [0..255] for integers).\n",
            "Clipping input data to the valid range for imshow with RGB data ([0..1] for floats or [0..255] for integers).\n",
            "Clipping input data to the valid range for imshow with RGB data ([0..1] for floats or [0..255] for integers).\n",
            "Clipping input data to the valid range for imshow with RGB data ([0..1] for floats or [0..255] for integers).\n",
            "Clipping input data to the valid range for imshow with RGB data ([0..1] for floats or [0..255] for integers).\n",
            "Clipping input data to the valid range for imshow with RGB data ([0..1] for floats or [0..255] for integers).\n",
            "Clipping input data to the valid range for imshow with RGB data ([0..1] for floats or [0..255] for integers).\n",
            "Clipping input data to the valid range for imshow with RGB data ([0..1] for floats or [0..255] for integers).\n",
            "Clipping input data to the valid range for imshow with RGB data ([0..1] for floats or [0..255] for integers).\n",
            "Clipping input data to the valid range for imshow with RGB data ([0..1] for floats or [0..255] for integers).\n",
            "Clipping input data to the valid range for imshow with RGB data ([0..1] for floats or [0..255] for integers).\n",
            "Clipping input data to the valid range for imshow with RGB data ([0..1] for floats or [0..255] for integers).\n",
            "Clipping input data to the valid range for imshow with RGB data ([0..1] for floats or [0..255] for integers).\n",
            "Clipping input data to the valid range for imshow with RGB data ([0..1] for floats or [0..255] for integers).\n",
            "Clipping input data to the valid range for imshow with RGB data ([0..1] for floats or [0..255] for integers).\n",
            "Clipping input data to the valid range for imshow with RGB data ([0..1] for floats or [0..255] for integers).\n",
            "Clipping input data to the valid range for imshow with RGB data ([0..1] for floats or [0..255] for integers).\n",
            "Clipping input data to the valid range for imshow with RGB data ([0..1] for floats or [0..255] for integers).\n",
            "Clipping input data to the valid range for imshow with RGB data ([0..1] for floats or [0..255] for integers).\n",
            "Clipping input data to the valid range for imshow with RGB data ([0..1] for floats or [0..255] for integers).\n",
            "Clipping input data to the valid range for imshow with RGB data ([0..1] for floats or [0..255] for integers).\n",
            "Clipping input data to the valid range for imshow with RGB data ([0..1] for floats or [0..255] for integers).\n",
            "Clipping input data to the valid range for imshow with RGB data ([0..1] for floats or [0..255] for integers).\n",
            "Clipping input data to the valid range for imshow with RGB data ([0..1] for floats or [0..255] for integers).\n",
            "Clipping input data to the valid range for imshow with RGB data ([0..1] for floats or [0..255] for integers).\n",
            "Clipping input data to the valid range for imshow with RGB data ([0..1] for floats or [0..255] for integers).\n",
            "Clipping input data to the valid range for imshow with RGB data ([0..1] for floats or [0..255] for integers).\n",
            "Clipping input data to the valid range for imshow with RGB data ([0..1] for floats or [0..255] for integers).\n",
            "Clipping input data to the valid range for imshow with RGB data ([0..1] for floats or [0..255] for integers).\n",
            "Clipping input data to the valid range for imshow with RGB data ([0..1] for floats or [0..255] for integers).\n",
            "Clipping input data to the valid range for imshow with RGB data ([0..1] for floats or [0..255] for integers).\n",
            "Clipping input data to the valid range for imshow with RGB data ([0..1] for floats or [0..255] for integers).\n",
            "Clipping input data to the valid range for imshow with RGB data ([0..1] for floats or [0..255] for integers).\n",
            "Clipping input data to the valid range for imshow with RGB data ([0..1] for floats or [0..255] for integers).\n",
            "Clipping input data to the valid range for imshow with RGB data ([0..1] for floats or [0..255] for integers).\n",
            "Clipping input data to the valid range for imshow with RGB data ([0..1] for floats or [0..255] for integers).\n",
            "Clipping input data to the valid range for imshow with RGB data ([0..1] for floats or [0..255] for integers).\n"
          ],
          "name": "stderr"
        },
        {
          "output_type": "display_data",
          "data": {
            "image/png": "[encoded data removed]",
            "text/plain": [
              "<Figure size 432x288 with 1 Axes>"
            ]
          },
          "metadata": {
            "tags": [],
            "needs_background": "light"
          }
        }
      ]
    },
    {
      "cell_type": "code",
      "metadata": {
        "id": "KP_gYbqR-Nvu"
      },
      "source": [
        "import matplotlib.animation as animation\n",
        "def animate(pat, gifname):\n",
        "    # Based on @Zombie's code\n",
        "    fig = plt.figure()\n",
        "    anim = plt.imshow(pat[0])\n",
        "    def update(i):\n",
        "        anim.set_array(pat[i])\n",
        "        return anim,\n",
        "\n",
        "    a = animation.FuncAnimation(fig, update, frames=150, interval=60, blit=True)\n",
        "    a.save(gifname, writer='pillow')"
      ],
      "execution_count": null,
      "outputs": []
    },
    {
      "cell_type": "code",
      "metadata": {
        "colab": {
          "base_uri": "https://localhost:8080/",
          "height": 1000
        },
        "id": "HuUgQbt97HVi",
        "outputId": "27d93915-0562-4da1-a599-059a0fc7ffea"
      },
      "source": [
        "path = '/content/drive/MyDrive/MICCAI_BraTS2020_TestingData/BraTS20_Training_334/'\n",
        "flair = train_array(path,'**/*flair.nii.gz')\n",
        "t2 = train_array(path,'**/*t2.nii.gz')\n",
        "t1ce = train_array(path,'**/*t1ce_nb4.nii.gz')\n",
        "x_test = np.concatenate((flair,t2),axis=1)\n",
        "seg_tam_test = seg_array(path,'**/*seg.nii.gz',1)\n",
        "seg_ödemsiz_test = seg_array(path,'**/*seg.nii.gz',3)\n",
        "seg_geniş_test = seg_array(path,'**/*seg.nii.gz',4)\n",
        "seg_orj = seg_array(path,'**/*seg.nii.gz',0)\n",
        "orjj = np.zeros((150,240,240,3),np.float32)\n",
        "for i in range(0,150):\n",
        "  orjj[i]=show_lable_on_image4(x_test[i,0], seg_orj[i,0])\n",
        "seg = np.zeros((150,1,240,240),np.float32)\n",
        "for x in range(0,len(seg_tam_test)):\n",
        "  pred_tam = model_tam.predict(np.expand_dims(x_test[x,:,:,:],axis=0))\n",
        "  t1ce_tam = pred_tam[0] * t1ce[x]\n",
        "  expand_img = np.expand_dims(t1ce_tam,axis=0)\n",
        "  pred_ödemsiz = model_ödemsiz.predict(expand_img)\n",
        "  t1ce_ödemsiz = pred_ödemsiz[0] * t1ce[x]\n",
        "  expand_img = np.expand_dims(t1ce_ödemsiz,axis=0)\n",
        "  pred_genis = model_genis.predict(expand_img)\n",
        "  pred_tam[pred_tam > 0.2] = 2\n",
        "  pred_tam[pred_tam != 2 ] = 0\n",
        "  pred_ödemsiz[pred_ödemsiz > 0.2] = 1\n",
        "  pred_ödemsiz[pred_ödemsiz != 1 ] = 0\n",
        "  pred_genis[pred_genis > 0.2] = 4\n",
        "  pred_genis[pred_genis != 4 ] = 0\n",
        "  seg[x] = üstüne_ekle(pred_tam, pred_ödemsiz, pred_genis)\n",
        "segg = np.zeros((150,240,240,3),np.float32)\n",
        "for i in range(0,150):\n",
        "  segg[i]=show_lable_on_image4(x_test[i,0], seg[i,0])\n",
        "animate(orjj, 'test.gif')\n",
        "animate(segg, 'predict.gif')"
      ],
      "execution_count": null,
      "outputs": [
        {
          "output_type": "stream",
          "text": [
            "Clipping input data to the valid range for imshow with RGB data ([0..1] for floats or [0..255] for integers).\n",
            "Clipping input data to the valid range for imshow with RGB data ([0..1] for floats or [0..255] for integers).\n",
            "Clipping input data to the valid range for imshow with RGB data ([0..1] for floats or [0..255] for integers).\n",
            "Clipping input data to the valid range for imshow with RGB data ([0..1] for floats or [0..255] for integers).\n",
            "Clipping input data to the valid range for imshow with RGB data ([0..1] for floats or [0..255] for integers).\n",
            "Clipping input data to the valid range for imshow with RGB data ([0..1] for floats or [0..255] for integers).\n",
            "Clipping input data to the valid range for imshow with RGB data ([0..1] for floats or [0..255] for integers).\n",
            "Clipping input data to the valid range for imshow with RGB data ([0..1] for floats or [0..255] for integers).\n",
            "Clipping input data to the valid range for imshow with RGB data ([0..1] for floats or [0..255] for integers).\n",
            "Clipping input data to the valid range for imshow with RGB data ([0..1] for floats or [0..255] for integers).\n",
            "Clipping input data to the valid range for imshow with RGB data ([0..1] for floats or [0..255] for integers).\n",
            "Clipping input data to the valid range for imshow with RGB data ([0..1] for floats or [0..255] for integers).\n",
            "Clipping input data to the valid range for imshow with RGB data ([0..1] for floats or [0..255] for integers).\n",
            "Clipping input data to the valid range for imshow with RGB data ([0..1] for floats or [0..255] for integers).\n",
            "Clipping input data to the valid range for imshow with RGB data ([0..1] for floats or [0..255] for integers).\n",
            "Clipping input data to the valid range for imshow with RGB data ([0..1] for floats or [0..255] for integers).\n",
            "Clipping input data to the valid range for imshow with RGB data ([0..1] for floats or [0..255] for integers).\n",
            "Clipping input data to the valid range for imshow with RGB data ([0..1] for floats or [0..255] for integers).\n",
            "Clipping input data to the valid range for imshow with RGB data ([0..1] for floats or [0..255] for integers).\n",
            "Clipping input data to the valid range for imshow with RGB data ([0..1] for floats or [0..255] for integers).\n",
            "Clipping input data to the valid range for imshow with RGB data ([0..1] for floats or [0..255] for integers).\n",
            "Clipping input data to the valid range for imshow with RGB data ([0..1] for floats or [0..255] for integers).\n",
            "Clipping input data to the valid range for imshow with RGB data ([0..1] for floats or [0..255] for integers).\n",
            "Clipping input data to the valid range for imshow with RGB data ([0..1] for floats or [0..255] for integers).\n",
            "Clipping input data to the valid range for imshow with RGB data ([0..1] for floats or [0..255] for integers).\n",
            "Clipping input data to the valid range for imshow with RGB data ([0..1] for floats or [0..255] for integers).\n",
            "Clipping input data to the valid range for imshow with RGB data ([0..1] for floats or [0..255] for integers).\n",
            "Clipping input data to the valid range for imshow with RGB data ([0..1] for floats or [0..255] for integers).\n",
            "Clipping input data to the valid range for imshow with RGB data ([0..1] for floats or [0..255] for integers).\n",
            "Clipping input data to the valid range for imshow with RGB data ([0..1] for floats or [0..255] for integers).\n",
            "Clipping input data to the valid range for imshow with RGB data ([0..1] for floats or [0..255] for integers).\n",
            "Clipping input data to the valid range for imshow with RGB data ([0..1] for floats or [0..255] for integers).\n",
            "Clipping input data to the valid range for imshow with RGB data ([0..1] for floats or [0..255] for integers).\n",
            "Clipping input data to the valid range for imshow with RGB data ([0..1] for floats or [0..255] for integers).\n",
            "Clipping input data to the valid range for imshow with RGB data ([0..1] for floats or [0..255] for integers).\n",
            "Clipping input data to the valid range for imshow with RGB data ([0..1] for floats or [0..255] for integers).\n",
            "Clipping input data to the valid range for imshow with RGB data ([0..1] for floats or [0..255] for integers).\n",
            "Clipping input data to the valid range for imshow with RGB data ([0..1] for floats or [0..255] for integers).\n",
            "Clipping input data to the valid range for imshow with RGB data ([0..1] for floats or [0..255] for integers).\n",
            "Clipping input data to the valid range for imshow with RGB data ([0..1] for floats or [0..255] for integers).\n",
            "Clipping input data to the valid range for imshow with RGB data ([0..1] for floats or [0..255] for integers).\n",
            "Clipping input data to the valid range for imshow with RGB data ([0..1] for floats or [0..255] for integers).\n",
            "Clipping input data to the valid range for imshow with RGB data ([0..1] for floats or [0..255] for integers).\n",
            "Clipping input data to the valid range for imshow with RGB data ([0..1] for floats or [0..255] for integers).\n",
            "Clipping input data to the valid range for imshow with RGB data ([0..1] for floats or [0..255] for integers).\n",
            "Clipping input data to the valid range for imshow with RGB data ([0..1] for floats or [0..255] for integers).\n",
            "Clipping input data to the valid range for imshow with RGB data ([0..1] for floats or [0..255] for integers).\n",
            "Clipping input data to the valid range for imshow with RGB data ([0..1] for floats or [0..255] for integers).\n",
            "Clipping input data to the valid range for imshow with RGB data ([0..1] for floats or [0..255] for integers).\n",
            "Clipping input data to the valid range for imshow with RGB data ([0..1] for floats or [0..255] for integers).\n",
            "Clipping input data to the valid range for imshow with RGB data ([0..1] for floats or [0..255] for integers).\n",
            "Clipping input data to the valid range for imshow with RGB data ([0..1] for floats or [0..255] for integers).\n",
            "Clipping input data to the valid range for imshow with RGB data ([0..1] for floats or [0..255] for integers).\n",
            "Clipping input data to the valid range for imshow with RGB data ([0..1] for floats or [0..255] for integers).\n",
            "Clipping input data to the valid range for imshow with RGB data ([0..1] for floats or [0..255] for integers).\n",
            "Clipping input data to the valid range for imshow with RGB data ([0..1] for floats or [0..255] for integers).\n",
            "Clipping input data to the valid range for imshow with RGB data ([0..1] for floats or [0..255] for integers).\n",
            "Clipping input data to the valid range for imshow with RGB data ([0..1] for floats or [0..255] for integers).\n",
            "Clipping input data to the valid range for imshow with RGB data ([0..1] for floats or [0..255] for integers).\n",
            "Clipping input data to the valid range for imshow with RGB data ([0..1] for floats or [0..255] for integers).\n",
            "Clipping input data to the valid range for imshow with RGB data ([0..1] for floats or [0..255] for integers).\n",
            "Clipping input data to the valid range for imshow with RGB data ([0..1] for floats or [0..255] for integers).\n",
            "Clipping input data to the valid range for imshow with RGB data ([0..1] for floats or [0..255] for integers).\n",
            "Clipping input data to the valid range for imshow with RGB data ([0..1] for floats or [0..255] for integers).\n",
            "Clipping input data to the valid range for imshow with RGB data ([0..1] for floats or [0..255] for integers).\n",
            "Clipping input data to the valid range for imshow with RGB data ([0..1] for floats or [0..255] for integers).\n",
            "Clipping input data to the valid range for imshow with RGB data ([0..1] for floats or [0..255] for integers).\n",
            "Clipping input data to the valid range for imshow with RGB data ([0..1] for floats or [0..255] for integers).\n",
            "Clipping input data to the valid range for imshow with RGB data ([0..1] for floats or [0..255] for integers).\n",
            "Clipping input data to the valid range for imshow with RGB data ([0..1] for floats or [0..255] for integers).\n",
            "Clipping input data to the valid range for imshow with RGB data ([0..1] for floats or [0..255] for integers).\n",
            "Clipping input data to the valid range for imshow with RGB data ([0..1] for floats or [0..255] for integers).\n",
            "Clipping input data to the valid range for imshow with RGB data ([0..1] for floats or [0..255] for integers).\n",
            "Clipping input data to the valid range for imshow with RGB data ([0..1] for floats or [0..255] for integers).\n",
            "Clipping input data to the valid range for imshow with RGB data ([0..1] for floats or [0..255] for integers).\n",
            "Clipping input data to the valid range for imshow with RGB data ([0..1] for floats or [0..255] for integers).\n",
            "Clipping input data to the valid range for imshow with RGB data ([0..1] for floats or [0..255] for integers).\n",
            "Clipping input data to the valid range for imshow with RGB data ([0..1] for floats or [0..255] for integers).\n",
            "Clipping input data to the valid range for imshow with RGB data ([0..1] for floats or [0..255] for integers).\n",
            "Clipping input data to the valid range for imshow with RGB data ([0..1] for floats or [0..255] for integers).\n",
            "Clipping input data to the valid range for imshow with RGB data ([0..1] for floats or [0..255] for integers).\n",
            "Clipping input data to the valid range for imshow with RGB data ([0..1] for floats or [0..255] for integers).\n",
            "Clipping input data to the valid range for imshow with RGB data ([0..1] for floats or [0..255] for integers).\n",
            "Clipping input data to the valid range for imshow with RGB data ([0..1] for floats or [0..255] for integers).\n",
            "Clipping input data to the valid range for imshow with RGB data ([0..1] for floats or [0..255] for integers).\n",
            "Clipping input data to the valid range for imshow with RGB data ([0..1] for floats or [0..255] for integers).\n",
            "Clipping input data to the valid range for imshow with RGB data ([0..1] for floats or [0..255] for integers).\n",
            "Clipping input data to the valid range for imshow with RGB data ([0..1] for floats or [0..255] for integers).\n",
            "Clipping input data to the valid range for imshow with RGB data ([0..1] for floats or [0..255] for integers).\n",
            "Clipping input data to the valid range for imshow with RGB data ([0..1] for floats or [0..255] for integers).\n",
            "Clipping input data to the valid range for imshow with RGB data ([0..1] for floats or [0..255] for integers).\n",
            "Clipping input data to the valid range for imshow with RGB data ([0..1] for floats or [0..255] for integers).\n",
            "Clipping input data to the valid range for imshow with RGB data ([0..1] for floats or [0..255] for integers).\n",
            "Clipping input data to the valid range for imshow with RGB data ([0..1] for floats or [0..255] for integers).\n",
            "Clipping input data to the valid range for imshow with RGB data ([0..1] for floats or [0..255] for integers).\n",
            "Clipping input data to the valid range for imshow with RGB data ([0..1] for floats or [0..255] for integers).\n",
            "Clipping input data to the valid range for imshow with RGB data ([0..1] for floats or [0..255] for integers).\n",
            "Clipping input data to the valid range for imshow with RGB data ([0..1] for floats or [0..255] for integers).\n",
            "Clipping input data to the valid range for imshow with RGB data ([0..1] for floats or [0..255] for integers).\n",
            "Clipping input data to the valid range for imshow with RGB data ([0..1] for floats or [0..255] for integers).\n",
            "Clipping input data to the valid range for imshow with RGB data ([0..1] for floats or [0..255] for integers).\n",
            "Clipping input data to the valid range for imshow with RGB data ([0..1] for floats or [0..255] for integers).\n",
            "Clipping input data to the valid range for imshow with RGB data ([0..1] for floats or [0..255] for integers).\n",
            "Clipping input data to the valid range for imshow with RGB data ([0..1] for floats or [0..255] for integers).\n",
            "Clipping input data to the valid range for imshow with RGB data ([0..1] for floats or [0..255] for integers).\n",
            "Clipping input data to the valid range for imshow with RGB data ([0..1] for floats or [0..255] for integers).\n",
            "Clipping input data to the valid range for imshow with RGB data ([0..1] for floats or [0..255] for integers).\n",
            "Clipping input data to the valid range for imshow with RGB data ([0..1] for floats or [0..255] for integers).\n",
            "Clipping input data to the valid range for imshow with RGB data ([0..1] for floats or [0..255] for integers).\n",
            "Clipping input data to the valid range for imshow with RGB data ([0..1] for floats or [0..255] for integers).\n",
            "Clipping input data to the valid range for imshow with RGB data ([0..1] for floats or [0..255] for integers).\n",
            "Clipping input data to the valid range for imshow with RGB data ([0..1] for floats or [0..255] for integers).\n",
            "Clipping input data to the valid range for imshow with RGB data ([0..1] for floats or [0..255] for integers).\n",
            "Clipping input data to the valid range for imshow with RGB data ([0..1] for floats or [0..255] for integers).\n",
            "Clipping input data to the valid range for imshow with RGB data ([0..1] for floats or [0..255] for integers).\n",
            "Clipping input data to the valid range for imshow with RGB data ([0..1] for floats or [0..255] for integers).\n",
            "Clipping input data to the valid range for imshow with RGB data ([0..1] for floats or [0..255] for integers).\n",
            "Clipping input data to the valid range for imshow with RGB data ([0..1] for floats or [0..255] for integers).\n",
            "Clipping input data to the valid range for imshow with RGB data ([0..1] for floats or [0..255] for integers).\n",
            "Clipping input data to the valid range for imshow with RGB data ([0..1] for floats or [0..255] for integers).\n",
            "Clipping input data to the valid range for imshow with RGB data ([0..1] for floats or [0..255] for integers).\n",
            "Clipping input data to the valid range for imshow with RGB data ([0..1] for floats or [0..255] for integers).\n",
            "Clipping input data to the valid range for imshow with RGB data ([0..1] for floats or [0..255] for integers).\n",
            "Clipping input data to the valid range for imshow with RGB data ([0..1] for floats or [0..255] for integers).\n",
            "Clipping input data to the valid range for imshow with RGB data ([0..1] for floats or [0..255] for integers).\n",
            "Clipping input data to the valid range for imshow with RGB data ([0..1] for floats or [0..255] for integers).\n",
            "Clipping input data to the valid range for imshow with RGB data ([0..1] for floats or [0..255] for integers).\n",
            "Clipping input data to the valid range for imshow with RGB data ([0..1] for floats or [0..255] for integers).\n",
            "Clipping input data to the valid range for imshow with RGB data ([0..1] for floats or [0..255] for integers).\n",
            "Clipping input data to the valid range for imshow with RGB data ([0..1] for floats or [0..255] for integers).\n",
            "Clipping input data to the valid range for imshow with RGB data ([0..1] for floats or [0..255] for integers).\n",
            "Clipping input data to the valid range for imshow with RGB data ([0..1] for floats or [0..255] for integers).\n",
            "Clipping input data to the valid range for imshow with RGB data ([0..1] for floats or [0..255] for integers).\n",
            "Clipping input data to the valid range for imshow with RGB data ([0..1] for floats or [0..255] for integers).\n",
            "Clipping input data to the valid range for imshow with RGB data ([0..1] for floats or [0..255] for integers).\n",
            "Clipping input data to the valid range for imshow with RGB data ([0..1] for floats or [0..255] for integers).\n",
            "Clipping input data to the valid range for imshow with RGB data ([0..1] for floats or [0..255] for integers).\n",
            "Clipping input data to the valid range for imshow with RGB data ([0..1] for floats or [0..255] for integers).\n",
            "Clipping input data to the valid range for imshow with RGB data ([0..1] for floats or [0..255] for integers).\n",
            "Clipping input data to the valid range for imshow with RGB data ([0..1] for floats or [0..255] for integers).\n",
            "Clipping input data to the valid range for imshow with RGB data ([0..1] for floats or [0..255] for integers).\n",
            "Clipping input data to the valid range for imshow with RGB data ([0..1] for floats or [0..255] for integers).\n",
            "Clipping input data to the valid range for imshow with RGB data ([0..1] for floats or [0..255] for integers).\n",
            "Clipping input data to the valid range for imshow with RGB data ([0..1] for floats or [0..255] for integers).\n",
            "Clipping input data to the valid range for imshow with RGB data ([0..1] for floats or [0..255] for integers).\n",
            "Clipping input data to the valid range for imshow with RGB data ([0..1] for floats or [0..255] for integers).\n",
            "Clipping input data to the valid range for imshow with RGB data ([0..1] for floats or [0..255] for integers).\n",
            "Clipping input data to the valid range for imshow with RGB data ([0..1] for floats or [0..255] for integers).\n",
            "Clipping input data to the valid range for imshow with RGB data ([0..1] for floats or [0..255] for integers).\n",
            "Clipping input data to the valid range for imshow with RGB data ([0..1] for floats or [0..255] for integers).\n",
            "Clipping input data to the valid range for imshow with RGB data ([0..1] for floats or [0..255] for integers).\n",
            "Clipping input data to the valid range for imshow with RGB data ([0..1] for floats or [0..255] for integers).\n",
            "Clipping input data to the valid range for imshow with RGB data ([0..1] for floats or [0..255] for integers).\n",
            "Clipping input data to the valid range for imshow with RGB data ([0..1] for floats or [0..255] for integers).\n",
            "Clipping input data to the valid range for imshow with RGB data ([0..1] for floats or [0..255] for integers).\n",
            "Clipping input data to the valid range for imshow with RGB data ([0..1] for floats or [0..255] for integers).\n",
            "Clipping input data to the valid range for imshow with RGB data ([0..1] for floats or [0..255] for integers).\n",
            "Clipping input data to the valid range for imshow with RGB data ([0..1] for floats or [0..255] for integers).\n",
            "Clipping input data to the valid range for imshow with RGB data ([0..1] for floats or [0..255] for integers).\n",
            "Clipping input data to the valid range for imshow with RGB data ([0..1] for floats or [0..255] for integers).\n",
            "Clipping input data to the valid range for imshow with RGB data ([0..1] for floats or [0..255] for integers).\n",
            "Clipping input data to the valid range for imshow with RGB data ([0..1] for floats or [0..255] for integers).\n",
            "Clipping input data to the valid range for imshow with RGB data ([0..1] for floats or [0..255] for integers).\n",
            "Clipping input data to the valid range for imshow with RGB data ([0..1] for floats or [0..255] for integers).\n",
            "Clipping input data to the valid range for imshow with RGB data ([0..1] for floats or [0..255] for integers).\n",
            "Clipping input data to the valid range for imshow with RGB data ([0..1] for floats or [0..255] for integers).\n",
            "Clipping input data to the valid range for imshow with RGB data ([0..1] for floats or [0..255] for integers).\n",
            "Clipping input data to the valid range for imshow with RGB data ([0..1] for floats or [0..255] for integers).\n",
            "Clipping input data to the valid range for imshow with RGB data ([0..1] for floats or [0..255] for integers).\n",
            "Clipping input data to the valid range for imshow with RGB data ([0..1] for floats or [0..255] for integers).\n",
            "Clipping input data to the valid range for imshow with RGB data ([0..1] for floats or [0..255] for integers).\n",
            "Clipping input data to the valid range for imshow with RGB data ([0..1] for floats or [0..255] for integers).\n",
            "Clipping input data to the valid range for imshow with RGB data ([0..1] for floats or [0..255] for integers).\n",
            "Clipping input data to the valid range for imshow with RGB data ([0..1] for floats or [0..255] for integers).\n",
            "Clipping input data to the valid range for imshow with RGB data ([0..1] for floats or [0..255] for integers).\n",
            "Clipping input data to the valid range for imshow with RGB data ([0..1] for floats or [0..255] for integers).\n",
            "Clipping input data to the valid range for imshow with RGB data ([0..1] for floats or [0..255] for integers).\n",
            "Clipping input data to the valid range for imshow with RGB data ([0..1] for floats or [0..255] for integers).\n",
            "Clipping input data to the valid range for imshow with RGB data ([0..1] for floats or [0..255] for integers).\n",
            "Clipping input data to the valid range for imshow with RGB data ([0..1] for floats or [0..255] for integers).\n",
            "Clipping input data to the valid range for imshow with RGB data ([0..1] for floats or [0..255] for integers).\n",
            "Clipping input data to the valid range for imshow with RGB data ([0..1] for floats or [0..255] for integers).\n",
            "Clipping input data to the valid range for imshow with RGB data ([0..1] for floats or [0..255] for integers).\n",
            "Clipping input data to the valid range for imshow with RGB data ([0..1] for floats or [0..255] for integers).\n",
            "Clipping input data to the valid range for imshow with RGB data ([0..1] for floats or [0..255] for integers).\n",
            "Clipping input data to the valid range for imshow with RGB data ([0..1] for floats or [0..255] for integers).\n",
            "Clipping input data to the valid range for imshow with RGB data ([0..1] for floats or [0..255] for integers).\n",
            "Clipping input data to the valid range for imshow with RGB data ([0..1] for floats or [0..255] for integers).\n",
            "Clipping input data to the valid range for imshow with RGB data ([0..1] for floats or [0..255] for integers).\n",
            "Clipping input data to the valid range for imshow with RGB data ([0..1] for floats or [0..255] for integers).\n",
            "Clipping input data to the valid range for imshow with RGB data ([0..1] for floats or [0..255] for integers).\n",
            "Clipping input data to the valid range for imshow with RGB data ([0..1] for floats or [0..255] for integers).\n",
            "Clipping input data to the valid range for imshow with RGB data ([0..1] for floats or [0..255] for integers).\n",
            "Clipping input data to the valid range for imshow with RGB data ([0..1] for floats or [0..255] for integers).\n",
            "Clipping input data to the valid range for imshow with RGB data ([0..1] for floats or [0..255] for integers).\n",
            "Clipping input data to the valid range for imshow with RGB data ([0..1] for floats or [0..255] for integers).\n",
            "Clipping input data to the valid range for imshow with RGB data ([0..1] for floats or [0..255] for integers).\n",
            "Clipping input data to the valid range for imshow with RGB data ([0..1] for floats or [0..255] for integers).\n",
            "Clipping input data to the valid range for imshow with RGB data ([0..1] for floats or [0..255] for integers).\n",
            "Clipping input data to the valid range for imshow with RGB data ([0..1] for floats or [0..255] for integers).\n",
            "Clipping input data to the valid range for imshow with RGB data ([0..1] for floats or [0..255] for integers).\n",
            "Clipping input data to the valid range for imshow with RGB data ([0..1] for floats or [0..255] for integers).\n",
            "Clipping input data to the valid range for imshow with RGB data ([0..1] for floats or [0..255] for integers).\n",
            "Clipping input data to the valid range for imshow with RGB data ([0..1] for floats or [0..255] for integers).\n",
            "Clipping input data to the valid range for imshow with RGB data ([0..1] for floats or [0..255] for integers).\n",
            "Clipping input data to the valid range for imshow with RGB data ([0..1] for floats or [0..255] for integers).\n",
            "Clipping input data to the valid range for imshow with RGB data ([0..1] for floats or [0..255] for integers).\n",
            "Clipping input data to the valid range for imshow with RGB data ([0..1] for floats or [0..255] for integers).\n",
            "Clipping input data to the valid range for imshow with RGB data ([0..1] for floats or [0..255] for integers).\n",
            "Clipping input data to the valid range for imshow with RGB data ([0..1] for floats or [0..255] for integers).\n",
            "Clipping input data to the valid range for imshow with RGB data ([0..1] for floats or [0..255] for integers).\n",
            "Clipping input data to the valid range for imshow with RGB data ([0..1] for floats or [0..255] for integers).\n",
            "Clipping input data to the valid range for imshow with RGB data ([0..1] for floats or [0..255] for integers).\n",
            "Clipping input data to the valid range for imshow with RGB data ([0..1] for floats or [0..255] for integers).\n",
            "Clipping input data to the valid range for imshow with RGB data ([0..1] for floats or [0..255] for integers).\n",
            "Clipping input data to the valid range for imshow with RGB data ([0..1] for floats or [0..255] for integers).\n",
            "Clipping input data to the valid range for imshow with RGB data ([0..1] for floats or [0..255] for integers).\n",
            "Clipping input data to the valid range for imshow with RGB data ([0..1] for floats or [0..255] for integers).\n",
            "Clipping input data to the valid range for imshow with RGB data ([0..1] for floats or [0..255] for integers).\n",
            "Clipping input data to the valid range for imshow with RGB data ([0..1] for floats or [0..255] for integers).\n",
            "Clipping input data to the valid range for imshow with RGB data ([0..1] for floats or [0..255] for integers).\n",
            "Clipping input data to the valid range for imshow with RGB data ([0..1] for floats or [0..255] for integers).\n",
            "Clipping input data to the valid range for imshow with RGB data ([0..1] for floats or [0..255] for integers).\n",
            "Clipping input data to the valid range for imshow with RGB data ([0..1] for floats or [0..255] for integers).\n",
            "Clipping input data to the valid range for imshow with RGB data ([0..1] for floats or [0..255] for integers).\n",
            "Clipping input data to the valid range for imshow with RGB data ([0..1] for floats or [0..255] for integers).\n",
            "Clipping input data to the valid range for imshow with RGB data ([0..1] for floats or [0..255] for integers).\n",
            "Clipping input data to the valid range for imshow with RGB data ([0..1] for floats or [0..255] for integers).\n",
            "Clipping input data to the valid range for imshow with RGB data ([0..1] for floats or [0..255] for integers).\n",
            "Clipping input data to the valid range for imshow with RGB data ([0..1] for floats or [0..255] for integers).\n",
            "Clipping input data to the valid range for imshow with RGB data ([0..1] for floats or [0..255] for integers).\n",
            "Clipping input data to the valid range for imshow with RGB data ([0..1] for floats or [0..255] for integers).\n",
            "Clipping input data to the valid range for imshow with RGB data ([0..1] for floats or [0..255] for integers).\n",
            "Clipping input data to the valid range for imshow with RGB data ([0..1] for floats or [0..255] for integers).\n",
            "Clipping input data to the valid range for imshow with RGB data ([0..1] for floats or [0..255] for integers).\n",
            "Clipping input data to the valid range for imshow with RGB data ([0..1] for floats or [0..255] for integers).\n",
            "Clipping input data to the valid range for imshow with RGB data ([0..1] for floats or [0..255] for integers).\n",
            "Clipping input data to the valid range for imshow with RGB data ([0..1] for floats or [0..255] for integers).\n",
            "Clipping input data to the valid range for imshow with RGB data ([0..1] for floats or [0..255] for integers).\n",
            "Clipping input data to the valid range for imshow with RGB data ([0..1] for floats or [0..255] for integers).\n",
            "Clipping input data to the valid range for imshow with RGB data ([0..1] for floats or [0..255] for integers).\n",
            "Clipping input data to the valid range for imshow with RGB data ([0..1] for floats or [0..255] for integers).\n",
            "Clipping input data to the valid range for imshow with RGB data ([0..1] for floats or [0..255] for integers).\n",
            "Clipping input data to the valid range for imshow with RGB data ([0..1] for floats or [0..255] for integers).\n",
            "Clipping input data to the valid range for imshow with RGB data ([0..1] for floats or [0..255] for integers).\n",
            "Clipping input data to the valid range for imshow with RGB data ([0..1] for floats or [0..255] for integers).\n",
            "Clipping input data to the valid range for imshow with RGB data ([0..1] for floats or [0..255] for integers).\n",
            "Clipping input data to the valid range for imshow with RGB data ([0..1] for floats or [0..255] for integers).\n",
            "Clipping input data to the valid range for imshow with RGB data ([0..1] for floats or [0..255] for integers).\n",
            "Clipping input data to the valid range for imshow with RGB data ([0..1] for floats or [0..255] for integers).\n",
            "Clipping input data to the valid range for imshow with RGB data ([0..1] for floats or [0..255] for integers).\n",
            "Clipping input data to the valid range for imshow with RGB data ([0..1] for floats or [0..255] for integers).\n",
            "Clipping input data to the valid range for imshow with RGB data ([0..1] for floats or [0..255] for integers).\n",
            "Clipping input data to the valid range for imshow with RGB data ([0..1] for floats or [0..255] for integers).\n",
            "Clipping input data to the valid range for imshow with RGB data ([0..1] for floats or [0..255] for integers).\n",
            "Clipping input data to the valid range for imshow with RGB data ([0..1] for floats or [0..255] for integers).\n",
            "Clipping input data to the valid range for imshow with RGB data ([0..1] for floats or [0..255] for integers).\n",
            "Clipping input data to the valid range for imshow with RGB data ([0..1] for floats or [0..255] for integers).\n",
            "Clipping input data to the valid range for imshow with RGB data ([0..1] for floats or [0..255] for integers).\n",
            "Clipping input data to the valid range for imshow with RGB data ([0..1] for floats or [0..255] for integers).\n",
            "Clipping input data to the valid range for imshow with RGB data ([0..1] for floats or [0..255] for integers).\n",
            "Clipping input data to the valid range for imshow with RGB data ([0..1] for floats or [0..255] for integers).\n",
            "Clipping input data to the valid range for imshow with RGB data ([0..1] for floats or [0..255] for integers).\n",
            "Clipping input data to the valid range for imshow with RGB data ([0..1] for floats or [0..255] for integers).\n",
            "Clipping input data to the valid range for imshow with RGB data ([0..1] for floats or [0..255] for integers).\n",
            "Clipping input data to the valid range for imshow with RGB data ([0..1] for floats or [0..255] for integers).\n",
            "Clipping input data to the valid range for imshow with RGB data ([0..1] for floats or [0..255] for integers).\n",
            "Clipping input data to the valid range for imshow with RGB data ([0..1] for floats or [0..255] for integers).\n",
            "Clipping input data to the valid range for imshow with RGB data ([0..1] for floats or [0..255] for integers).\n",
            "Clipping input data to the valid range for imshow with RGB data ([0..1] for floats or [0..255] for integers).\n",
            "Clipping input data to the valid range for imshow with RGB data ([0..1] for floats or [0..255] for integers).\n",
            "Clipping input data to the valid range for imshow with RGB data ([0..1] for floats or [0..255] for integers).\n",
            "Clipping input data to the valid range for imshow with RGB data ([0..1] for floats or [0..255] for integers).\n",
            "Clipping input data to the valid range for imshow with RGB data ([0..1] for floats or [0..255] for integers).\n",
            "Clipping input data to the valid range for imshow with RGB data ([0..1] for floats or [0..255] for integers).\n",
            "Clipping input data to the valid range for imshow with RGB data ([0..1] for floats or [0..255] for integers).\n",
            "Clipping input data to the valid range for imshow with RGB data ([0..1] for floats or [0..255] for integers).\n",
            "Clipping input data to the valid range for imshow with RGB data ([0..1] for floats or [0..255] for integers).\n",
            "Clipping input data to the valid range for imshow with RGB data ([0..1] for floats or [0..255] for integers).\n",
            "Clipping input data to the valid range for imshow with RGB data ([0..1] for floats or [0..255] for integers).\n",
            "Clipping input data to the valid range for imshow with RGB data ([0..1] for floats or [0..255] for integers).\n",
            "Clipping input data to the valid range for imshow with RGB data ([0..1] for floats or [0..255] for integers).\n",
            "Clipping input data to the valid range for imshow with RGB data ([0..1] for floats or [0..255] for integers).\n",
            "Clipping input data to the valid range for imshow with RGB data ([0..1] for floats or [0..255] for integers).\n",
            "Clipping input data to the valid range for imshow with RGB data ([0..1] for floats or [0..255] for integers).\n",
            "Clipping input data to the valid range for imshow with RGB data ([0..1] for floats or [0..255] for integers).\n"
          ],
          "name": "stderr"
        },
        {
          "output_type": "display_data",
          "data": {
            "image/png": "[encoded data removed]",
            "text/plain": [
              "<Figure size 432x288 with 1 Axes>"
            ]
          },
          "metadata": {
            "tags": [],
            "needs_background": "light"
          }
        },
        {
          "output_type": "display_data",
          "data": {
            "image/png": "[encoded data removed]",
            "text/plain": [
              "<Figure size 432x288 with 1 Axes>"
            ]
          },
          "metadata": {
            "tags": [],
            "needs_background": "light"
          }
        }
      ]
    }
  ]
}