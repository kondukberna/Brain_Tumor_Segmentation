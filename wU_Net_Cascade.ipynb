{
  "nbformat": 4,
  "nbformat_minor": 0,
  "metadata": {
    "colab": {
      "provenance": [],
      "machine_shape": "hm"
    },
    "kernelspec": {
      "name": "python3",
      "display_name": "Python 3"
    },
    "language_info": {
      "name": "python"
    },
    "accelerator": "GPU"
  },
  "cells": [
    {
      "cell_type": "code",
      "metadata": {
        "id": "jjav7qirdxIt"
      },
      "source": [
        "import skimage.io as io\n",
        "import matplotlib.pyplot as plt\n",
        "import numpy as np\n",
        "import glob\n",
        "import cv2"
      ],
      "execution_count": null,
      "outputs": []
    },
    {
      "cell_type": "code",
      "metadata": {
        "colab": {
          "base_uri": "https://localhost:8080/"
        },
        "id": "UbGuaz7Rxr0e",
        "outputId": "be292d4c-8d53-44d7-8269-2de412f60f33"
      },
      "source": [
        "!pip install simpleitk"
      ],
      "execution_count": null,
      "outputs": [
        {
          "output_type": "stream",
          "text": [
            "Collecting simpleitk\n",
            "\u001b[?25l  Downloading https://files.pythonhosted.org/packages/9c/6b/85df5eb3a8059b23a53a9f224476e75473f9bcc0a8583ed1a9c34619f372/SimpleITK-2.0.2-cp37-cp37m-manylinux2010_x86_64.whl (47.4MB)\n",
            "\u001b[K     |████████████████████████████████| 47.4MB 117kB/s \n",
            "\u001b[?25hInstalling collected packages: simpleitk\n",
            "Successfully installed simpleitk-2.0.2\n"
          ],
          "name": "stdout"
        }
      ]
    },
    {
      "cell_type": "code",
      "metadata": {
        "id": "1I1QdOz5eTb8"
      },
      "source": [
        "import numpy as np\n",
        "import random as r\n",
        "import glob\n",
        "\n",
        "def train_array(path,end):\n",
        "    files = glob.glob(path+end,recursive=True)\n",
        "    img_liste = []\n",
        "    r.seed(9)\n",
        "    r.shuffle(files)\n",
        "    for file in files:\n",
        "        img = io.imread(file, plugin='simpleitk')\n",
        "        img = (img-img.mean())/ img.std()\n",
        "        img = img.astype(np.float32)\n",
        "\n",
        "        for slice in range(50,130):\n",
        "            img_s = img[slice,:,:]\n",
        "            img_s = cv2.resize(img_s, (240,240))\n",
        "            img_s = np.expand_dims(img_s,axis=0)\n",
        "            img_liste.append(img_s)\n",
        "\n",
        "    return np.array(img_liste)"
      ],
      "execution_count": null,
      "outputs": []
    },
    {
      "cell_type": "code",
      "metadata": {
        "id": "8UsMJoBENGzS"
      },
      "source": [
        "t1ce = train_array('/content/drive/MyDrive/project/Unet_Brain_tumor_segmentation/MICCAI_BraTS2020_TrainingData/','**/*t1ce_nb4.nii.gz')"
      ],
      "execution_count": null,
      "outputs": []
    },
    {
      "cell_type": "code",
      "metadata": {
        "id": "dR3EIvu-NNX3"
      },
      "source": [
        "t1ce_test = train_array('/content/drive/MyDrive/MICCAI_BraTS2020_TestingData/','**/*t1ce_nb4.nii.gz')"
      ],
      "execution_count": null,
      "outputs": []
    },
    {
      "cell_type": "code",
      "metadata": {
        "id": "sMKlOQ2DDjqF"
      },
      "source": [
        "import numpy as np\n",
        "import random as r\n",
        "\n",
        "def seg_array(path,end,label):\n",
        "    files = glob.glob(path+end,recursive=True)\n",
        "    img_liste = []\n",
        "    r.seed(9)\n",
        "    r.shuffle(files)\n",
        "    for file in files:\n",
        "        img = io.imread(file, plugin='simpleitk')\n",
        "\n",
        "        if label == 1:\n",
        "          img[img != 0] = 1 #tam tümör\n",
        "        elif label == 2:\n",
        "          img[img != 1] = 0 #nekroz\n",
        "        elif label == 3:\n",
        "          img[img == 2] = 0\n",
        "          img[img != 0] = 1 #ödemsiz tümör\n",
        "        elif label == 4:\n",
        "          img[img != 4] = 0\n",
        "          img[img == 4] = 1 #genişleyen tümör\n",
        "\n",
        "        img=img.astype(np.float32)\n",
        "\n",
        "        for slice in range(50,130):\n",
        "            img_s = img[slice,:,:]\n",
        "            img_s = cv2.resize(img_s, (240,240))\n",
        "            img_s = np.expand_dims(img_s,axis=0)\n",
        "            img_liste.append(img_s)\n",
        "\n",
        "    return np.array(img_liste)"
      ],
      "execution_count": null,
      "outputs": []
    },
    {
      "cell_type": "code",
      "metadata": {
        "id": "o9nVB0nzJ2cm"
      },
      "source": [
        "seg_tam = seg_array('/content/drive/MyDrive/project/Unet_Brain_tumor_segmentation/MICCAI_BraTS2020_TrainingData/','**/*seg.nii.gz',1)"
      ],
      "execution_count": null,
      "outputs": []
    },
    {
      "cell_type": "code",
      "metadata": {
        "id": "KbjVkIrpHS0j"
      },
      "source": [
        "seg_tam_test = seg_array('/content/drive/MyDrive/MICCAI_BraTS2020_TestingData/','**/*seg.nii.gz',1)"
      ],
      "execution_count": null,
      "outputs": []
    },
    {
      "cell_type": "code",
      "metadata": {
        "id": "jOEo1F16tKXC"
      },
      "source": [
        "seg_nekroz = seg_array('/content/drive/MyDrive/MICCAI_BraTS2020_TrainingData/','**/*seg.nii.gz',2)"
      ],
      "execution_count": null,
      "outputs": []
    },
    {
      "cell_type": "code",
      "metadata": {
        "id": "wfWC8FhycuB5"
      },
      "source": [
        "seg_nekroz_test = seg_array('/content/drive/MyDrive/MICCAI_BraTS2020_TestingData/','**/*seg.nii.gz',2)"
      ],
      "execution_count": null,
      "outputs": []
    },
    {
      "cell_type": "code",
      "metadata": {
        "id": "htFfFdk2bL2T"
      },
      "source": [
        "seg_ödemsiz = seg_array('/content/drive/MyDrive/project/Unet_Brain_tumor_segmentation/MICCAI_BraTS2020_TrainingData/','**/*seg.nii.gz',3)"
      ],
      "execution_count": null,
      "outputs": []
    },
    {
      "cell_type": "code",
      "metadata": {
        "id": "eCe3xyPC-jQn"
      },
      "source": [
        "seg_ödemsiz_test = seg_array('/content/drive/MyDrive/MICCAI_BraTS2020_TestingData/','**/*seg.nii.gz',3)"
      ],
      "execution_count": null,
      "outputs": []
    },
    {
      "cell_type": "code",
      "metadata": {
        "id": "W5081XKRqYLJ"
      },
      "source": [
        "seg_geniş = seg_array('/content/drive/MyDrive/project/Unet_Brain_tumor_segmentation/MICCAI_BraTS2020_TrainingData/','**/*seg.nii.gz',4)"
      ],
      "execution_count": null,
      "outputs": []
    },
    {
      "cell_type": "code",
      "metadata": {
        "id": "Z3ApKC2pGOMO"
      },
      "source": [
        "seg_geniş_test = seg_array('/content/drive/MyDrive/MICCAI_BraTS2020_TestingData/','**/*seg.nii.gz',4)"
      ],
      "execution_count": null,
      "outputs": []
    },
    {
      "cell_type": "code",
      "metadata": {
        "id": "PhcrQCtyqy6B"
      },
      "source": [
        "seg_orj = seg_array('/content/drive/MyDrive/project/Unet_Brain_tumor_segmentation/MICCAI_BraTS2020_TrainingData/','**/*seg.nii.gz',0)"
      ],
      "execution_count": null,
      "outputs": []
    },
    {
      "cell_type": "code",
      "metadata": {
        "id": "IY2qJlbgCV1s"
      },
      "source": [
        "seg_orj = seg_array('/content/drive/MyDrive/MICCAI_BraTS2020_TestingData/','**/*seg.nii.gz',0)"
      ],
      "execution_count": null,
      "outputs": []
    },
    {
      "cell_type": "code",
      "metadata": {
        "colab": {
          "base_uri": "https://localhost:8080/"
        },
        "id": "ih9RmHbojIal",
        "outputId": "5fc6334f-de66-4348-ea20-fc05b6b43346"
      },
      "source": [
        "!unzip /content/drive/MyDrive/x_train.zip"
      ],
      "execution_count": null,
      "outputs": [
        {
          "output_type": "stream",
          "text": [
            "Archive:  /content/drive/MyDrive/x_train.zip\n",
            "  inflating: x_train.npy             \n"
          ],
          "name": "stdout"
        }
      ]
    },
    {
      "cell_type": "code",
      "metadata": {
        "colab": {
          "base_uri": "https://localhost:8080/"
        },
        "id": "TV92pczWvC5z",
        "outputId": "e6a95ff7-234e-4442-9628-f7336b733233"
      },
      "source": [
        "!unzip /content/drive/MyDrive/x_test.zip"
      ],
      "execution_count": null,
      "outputs": [
        {
          "output_type": "stream",
          "text": [
            "Archive:  /content/drive/MyDrive/x_test.zip\n",
            "  inflating: x_test.npy              \n"
          ],
          "name": "stdout"
        }
      ]
    },
    {
      "cell_type": "code",
      "metadata": {
        "id": "7h0gLby2jM8Q"
      },
      "source": [
        "x_train = np.load ('x_train.npy')"
      ],
      "execution_count": null,
      "outputs": []
    },
    {
      "cell_type": "code",
      "metadata": {
        "id": "f86YP96LtKTe"
      },
      "source": [
        "x_test = np.load ('x_test.npy')"
      ],
      "execution_count": null,
      "outputs": []
    },
    {
      "cell_type": "code",
      "metadata": {
        "id": "7h6ZzBO_clj_"
      },
      "source": [
        "from keras.models import Model\n",
        "from keras.layers import Dense, Dropout, Activation, Flatten\n",
        "from keras.layers import concatenate, Conv2D, MaxPooling2D, Conv2DTranspose\n",
        "from keras.layers import Input, merge, UpSampling2D,BatchNormalization\n",
        "from keras.callbacks import ModelCheckpoint\n",
        "from keras.optimizers import Adam\n",
        "from keras.preprocessing.image import ImageDataGenerator\n",
        "from keras import backend as K\n",
        "import tensorflow as tf\n",
        "\n",
        "\n",
        "def dice_coef(y_true, y_pred):\n",
        "    smooth = 0.005\n",
        "    y_true_f = K.flatten(y_true)\n",
        "    y_pred_f = K.flatten(y_pred)\n",
        "    intersection = K.sum(y_true_f * y_pred_f)\n",
        "    return (2. * intersection + smooth) / (K.sum(y_true_f) + K.sum(y_pred_f) + smooth)\n",
        "\n",
        "\n",
        "def dice_coef_loss(y_true, y_pred):\n",
        "    return 1-dice_coef(y_true, y_pred)\n",
        "\n",
        "K.set_image_data_format('channels_first')\n",
        "\n",
        "def wU_Net1():\n",
        "\n",
        "    inputs = Input((2, 240 , 240))\n",
        "\n",
        "    conv1 = Conv2D(70, (3, 3), activation='relu', padding='same') (inputs)\n",
        "    batch1 = BatchNormalization(axis=1)(conv1)\n",
        "    conv1 = Conv2D(70, (3, 3), activation='relu', padding='same') (batch1)\n",
        "    batch1 = BatchNormalization(axis=1)(conv1)\n",
        "    pool1 = MaxPooling2D((2, 2)) (batch1)\n",
        "\n",
        "    conv2 = Conv2D(140, (3, 3), activation='relu', padding='same') (pool1)\n",
        "    batch2 = BatchNormalization(axis=1)(conv2)\n",
        "    conv2 = Conv2D(140, (3, 3), activation='relu', padding='same') (batch2)\n",
        "    batch2 = BatchNormalization(axis=1)(conv2)\n",
        "    pool2 = MaxPooling2D((2, 2)) (batch2)\n",
        "\n",
        "    conv3 = Conv2D(280, (3, 3), activation='relu', padding='same') (pool2)\n",
        "    batch3 = BatchNormalization(axis=1)(conv3)\n",
        "    conv3 = Conv2D(280, (3, 3), activation='relu', padding='same') (batch3)\n",
        "    batch3 = BatchNormalization(axis=1)(conv3)\n",
        "    pool3 = MaxPooling2D((2, 2)) (batch3)\n",
        "\n",
        "    conv4 = Conv2D(560, (3, 3), activation='relu', padding='same') (pool3)\n",
        "    batch4 = BatchNormalization(axis=1)(conv4)\n",
        "    conv4 = Conv2D(560, (3, 3), activation='relu', padding='same') (batch4)\n",
        "    batch4 = BatchNormalization(axis=1)(conv4)\n",
        "    pool4 = MaxPooling2D(pool_size=(2, 2)) (batch4)\n",
        "\n",
        "    conv5 = Conv2D(1120, (3, 3), activation='relu', padding='same') (pool4)\n",
        "    batch5 = BatchNormalization(axis=1)(conv5)\n",
        "    conv5 = Conv2D(1120, (3, 3), activation='relu', padding='same') (batch5)\n",
        "    batch5 = BatchNormalization(axis=1)(conv5)\n",
        "\n",
        "    up6 = Conv2DTranspose(560, (2, 2), strides=(2, 2), padding='same') (batch5)\n",
        "    up6 = concatenate([up6, conv4], axis=1)\n",
        "    conv6 = Conv2D(560, (3, 3), activation='relu', padding='same') (up6)\n",
        "    batch6 = BatchNormalization(axis=1)(conv6)\n",
        "    conv6 = Conv2D(560, (3, 3), activation='relu', padding='same') (batch6)\n",
        "    batch6 = BatchNormalization(axis=1)(conv6)\n",
        "\n",
        "    up7 = Conv2DTranspose(280, (2, 2), strides=(2, 2), padding='same') (batch6)\n",
        "    up7 = concatenate([up7, conv3], axis=1)\n",
        "    conv7 = Conv2D(280, (3, 3), activation='relu', padding='same') (up7)\n",
        "    batch7 = BatchNormalization(axis=1)(conv7)\n",
        "    conv7 = Conv2D(280, (3, 3), activation='relu', padding='same') (batch7)\n",
        "    batch7 = BatchNormalization(axis=1)(conv7)\n",
        "\n",
        "    up8 = Conv2DTranspose(140, (2, 2), strides=(2, 2), padding='same') (batch7)\n",
        "    up8 = concatenate([up8, conv2], axis=1)\n",
        "    conv8 = Conv2D(140, (3, 3), activation='relu', padding='same') (up8)\n",
        "    batch8 = BatchNormalization(axis=1)(conv8)\n",
        "    conv8 = Conv2D(140, (3, 3), activation='relu', padding='same') (batch8)\n",
        "    batch8 = BatchNormalization(axis=1)(conv8)\n",
        "\n",
        "    up9 = Conv2DTranspose(70, (2, 2), strides=(2, 2), padding='same') (batch8)\n",
        "    up9 = concatenate([up9, conv1], axis=1)\n",
        "    conv9 = Conv2D(70, (3, 3), activation='relu', padding='same') (up9)\n",
        "    batch9 = BatchNormalization(axis=1)(conv9)\n",
        "    conv9 = Conv2D(70, (3, 3), activation='relu', padding='same') (batch9)\n",
        "    batch9 = BatchNormalization(axis=1)(conv9)\n",
        "\n",
        "    conv10 = Conv2D(1, (1, 1), activation='sigmoid')(batch9)\n",
        "\n",
        "    model = Model(inputs=[inputs], outputs=[conv10])\n",
        "\n",
        "    model.compile(optimizer=Adam(lr=1e-4), loss=dice_coef_loss, metrics=[dice_coef])\n",
        "\n",
        "    return model"
      ],
      "execution_count": null,
      "outputs": []
    },
    {
      "cell_type": "code",
      "metadata": {
        "id": "5LNalbe-ZlRo",
        "colab": {
          "base_uri": "https://localhost:8080/"
        },
        "outputId": "54984913-a383-464a-883c-acc5a3df9bcc"
      },
      "source": [
        "model_tam= wU_Net1()"
      ],
      "execution_count": null,
      "outputs": [
        {
          "output_type": "stream",
          "text": [
            "/usr/local/lib/python3.7/dist-packages/tensorflow/python/keras/optimizer_v2/optimizer_v2.py:375: UserWarning: The `lr` argument is deprecated, use `learning_rate` instead.\n",
            "  \"The `lr` argument is deprecated, use `learning_rate` instead.\")\n"
          ],
          "name": "stderr"
        }
      ]
    },
    {
      "cell_type": "code",
      "metadata": {
        "colab": {
          "base_uri": "https://localhost:8080/"
        },
        "id": "0mjh3X-TUd4I",
        "outputId": "3bb606a7-686c-4283-b4a3-f963c5fe53e7"
      },
      "source": [
        "model_tam.compile(optimizer=Adam(lr=1e-4), loss=dice_coef_loss, metrics=[dice_coef])"
      ],
      "execution_count": null,
      "outputs": [
        {
          "output_type": "stream",
          "text": [
            "/usr/local/lib/python3.7/dist-packages/tensorflow/python/keras/optimizer_v2/optimizer_v2.py:375: UserWarning: The `lr` argument is deprecated, use `learning_rate` instead.\n",
            "  \"The `lr` argument is deprecated, use `learning_rate` instead.\")\n"
          ],
          "name": "stderr"
        }
      ]
    },
    {
      "cell_type": "code",
      "metadata": {
        "colab": {
          "base_uri": "https://localhost:8080/"
        },
        "id": "50K9iA4HUd4J",
        "outputId": "77725d3c-3940-40ba-800b-3140a0f0b1f7"
      },
      "source": [
        "history = model_tam.fit(x_train, seg_tam,\n",
        "          validation_data = (x_test,seg_tam_test),\n",
        "          epochs = 30,\n",
        "          batch_size = 3,\n",
        "          shuffle = True)"
      ],
      "execution_count": null,
      "outputs": [
        {
          "output_type": "stream",
          "text": [
            "Epoch 1/30\n",
            "7894/7894 [==============================] - 1100s 134ms/step - loss: 0.4187 - dice_coef: 0.5813 - val_loss: 0.5744 - val_dice_coef: 0.4255\n",
            "Epoch 2/30\n",
            "7894/7894 [==============================] - 1047s 133ms/step - loss: 0.1844 - dice_coef: 0.8156 - val_loss: 0.4604 - val_dice_coef: 0.5396\n",
            "Epoch 3/30\n",
            "7894/7894 [==============================] - 1045s 132ms/step - loss: 0.1712 - dice_coef: 0.8288 - val_loss: 0.3261 - val_dice_coef: 0.6739\n",
            "Epoch 4/30\n",
            "7894/7894 [==============================] - 1044s 132ms/step - loss: 0.1563 - dice_coef: 0.8437 - val_loss: 0.2995 - val_dice_coef: 0.7004\n",
            "Epoch 5/30\n",
            "7894/7894 [==============================] - 1042s 132ms/step - loss: 0.1605 - dice_coef: 0.8395 - val_loss: 0.2803 - val_dice_coef: 0.7197\n",
            "Epoch 6/30\n",
            "7894/7894 [==============================] - 1040s 132ms/step - loss: 0.1571 - dice_coef: 0.8429 - val_loss: 0.3039 - val_dice_coef: 0.6961\n",
            "Epoch 7/30\n",
            "5512/7894 [===================>..........] - ETA: 4:53 - loss: 0.1381 - dice_coef: 0.8619"
          ],
          "name": "stdout"
        }
      ]
    },
    {
      "cell_type": "code",
      "metadata": {
        "id": "E5v5omwDxzQk"
      },
      "source": [
        "print(history.history.keys())\n",
        "# summarize history for accuracy\n",
        "plt.plot(history.history['dice_coef'])\n",
        "plt.plot(history.history['val_dice_coef'])\n",
        "plt.title('model dice coef')\n",
        "plt.ylabel('dice coef')\n",
        "plt.xlabel('epoch')\n",
        "plt.legend(['train', 'test'], loc='upper left')\n",
        "plt.show()\n",
        "# summarize history for loss\n",
        "plt.plot(history.history['loss'])\n",
        "plt.plot(history.history['val_loss'])\n",
        "plt.title('model loss')\n",
        "plt.ylabel('loss')\n",
        "plt.xlabel('epoch')\n",
        "plt.legend(['train', 'test'], loc='upper left')\n",
        "plt.show()"
      ],
      "execution_count": null,
      "outputs": []
    },
    {
      "cell_type": "code",
      "metadata": {
        "id": "FgM3EJLbc3WG"
      },
      "source": [
        "model_tam.load_weights('/content/drive/MyDrive/model_wU_Net.h5')"
      ],
      "execution_count": null,
      "outputs": []
    },
    {
      "cell_type": "code",
      "metadata": {
        "id": "POQZCuQ98Mka"
      },
      "source": [
        "from keras.models import Model\n",
        "from keras.layers import Dense, Dropout, Activation, Flatten\n",
        "from keras.layers import concatenate, Conv2D, MaxPooling2D, Conv2DTranspose\n",
        "from keras.layers import Input, merge, UpSampling2D,BatchNormalization\n",
        "from keras.callbacks import ModelCheckpoint\n",
        "from keras.optimizers import Adam\n",
        "from keras.preprocessing.image import ImageDataGenerator\n",
        "from keras import backend as K\n",
        "import tensorflow as tf\n",
        "\n",
        "\n",
        "def dice_coef(y_true, y_pred):\n",
        "    smooth = 0.005\n",
        "    y_true_f = K.flatten(y_true)\n",
        "    y_pred_f = K.flatten(y_pred)\n",
        "    intersection = K.sum(y_true_f * y_pred_f)\n",
        "    return (2. * intersection + smooth) / (K.sum(y_true_f) + K.sum(y_pred_f) + smooth)\n",
        "\n",
        "\n",
        "def dice_coef_loss(y_true, y_pred):\n",
        "    return 1-dice_coef(y_true, y_pred)\n",
        "\n",
        "K.set_image_data_format('channels_first')\n",
        "\n",
        "def wU_Net():\n",
        "\n",
        "    inputs = Input((1, 240 , 240))\n",
        "\n",
        "    conv1 = Conv2D(70, (3, 3), activation='relu', padding='same') (inputs)\n",
        "    batch1 = BatchNormalization(axis=1)(conv1)\n",
        "    conv1 = Conv2D(70, (3, 3), activation='relu', padding='same') (batch1)\n",
        "    batch1 = BatchNormalization(axis=1)(conv1)\n",
        "    pool1 = MaxPooling2D((2, 2)) (batch1)\n",
        "\n",
        "    conv2 = Conv2D(140, (3, 3), activation='relu', padding='same') (pool1)\n",
        "    batch2 = BatchNormalization(axis=1)(conv2)\n",
        "    conv2 = Conv2D(140, (3, 3), activation='relu', padding='same') (batch2)\n",
        "    batch2 = BatchNormalization(axis=1)(conv2)\n",
        "    pool2 = MaxPooling2D((2, 2)) (batch2)\n",
        "\n",
        "    conv3 = Conv2D(280, (3, 3), activation='relu', padding='same') (pool2)\n",
        "    batch3 = BatchNormalization(axis=1)(conv3)\n",
        "    conv3 = Conv2D(280, (3, 3), activation='relu', padding='same') (batch3)\n",
        "    batch3 = BatchNormalization(axis=1)(conv3)\n",
        "    pool3 = MaxPooling2D((2, 2)) (batch3)\n",
        "\n",
        "    conv4 = Conv2D(560, (3, 3), activation='relu', padding='same') (pool3)\n",
        "    batch4 = BatchNormalization(axis=1)(conv4)\n",
        "    conv4 = Conv2D(560, (3, 3), activation='relu', padding='same') (batch4)\n",
        "    batch4 = BatchNormalization(axis=1)(conv4)\n",
        "    pool4 = MaxPooling2D(pool_size=(2, 2)) (batch4)\n",
        "\n",
        "    conv5 = Conv2D(1120, (3, 3), activation='relu', padding='same') (pool4)\n",
        "    batch5 = BatchNormalization(axis=1)(conv5)\n",
        "    conv5 = Conv2D(1120, (3, 3), activation='relu', padding='same') (batch5)\n",
        "    batch5 = BatchNormalization(axis=1)(conv5)\n",
        "\n",
        "    up6 = Conv2DTranspose(560, (2, 2), strides=(2, 2), padding='same') (batch5)\n",
        "    up6 = concatenate([up6, conv4], axis=1)\n",
        "    conv6 = Conv2D(560, (3, 3), activation='relu', padding='same') (up6)\n",
        "    batch6 = BatchNormalization(axis=1)(conv6)\n",
        "    conv6 = Conv2D(560, (3, 3), activation='relu', padding='same') (batch6)\n",
        "    batch6 = BatchNormalization(axis=1)(conv6)\n",
        "\n",
        "    up7 = Conv2DTranspose(280, (2, 2), strides=(2, 2), padding='same') (batch6)\n",
        "    up7 = concatenate([up7, conv3], axis=1)\n",
        "    conv7 = Conv2D(280, (3, 3), activation='relu', padding='same') (up7)\n",
        "    batch7 = BatchNormalization(axis=1)(conv7)\n",
        "    conv7 = Conv2D(280, (3, 3), activation='relu', padding='same') (batch7)\n",
        "    batch7 = BatchNormalization(axis=1)(conv7)\n",
        "\n",
        "    up8 = Conv2DTranspose(140, (2, 2), strides=(2, 2), padding='same') (batch7)\n",
        "    up8 = concatenate([up8, conv2], axis=1)\n",
        "    conv8 = Conv2D(140, (3, 3), activation='relu', padding='same') (up8)\n",
        "    batch8 = BatchNormalization(axis=1)(conv8)\n",
        "    conv8 = Conv2D(140, (3, 3), activation='relu', padding='same') (batch8)\n",
        "    batch8 = BatchNormalization(axis=1)(conv8)\n",
        "\n",
        "    up9 = Conv2DTranspose(70, (2, 2), strides=(2, 2), padding='same') (batch8)\n",
        "    up9 = concatenate([up9, conv1], axis=1)\n",
        "    conv9 = Conv2D(70, (3, 3), activation='relu', padding='same') (up9)\n",
        "    batch9 = BatchNormalization(axis=1)(conv9)\n",
        "    conv9 = Conv2D(70, (3, 3), activation='relu', padding='same') (batch9)\n",
        "    batch9 = BatchNormalization(axis=1)(conv9)\n",
        "\n",
        "    conv10 = Conv2D(1, (1, 1), activation='sigmoid')(batch9)\n",
        "\n",
        "    model = Model(inputs=[inputs], outputs=[conv10])\n",
        "\n",
        "    model.compile(optimizer=Adam(lr=1e-4), loss=dice_coef_loss, metrics=[dice_coef])\n",
        "\n",
        "    return model"
      ],
      "execution_count": null,
      "outputs": []
    },
    {
      "cell_type": "code",
      "metadata": {
        "id": "cv22nQPifBWu",
        "colab": {
          "base_uri": "https://localhost:8080/"
        },
        "outputId": "61823b01-72c2-4de8-dc9c-898a17dc8752"
      },
      "source": [
        "model_ödemsiz = wU_Net()"
      ],
      "execution_count": null,
      "outputs": [
        {
          "output_type": "stream",
          "text": [
            "/usr/local/lib/python3.7/dist-packages/tensorflow/python/keras/optimizer_v2/optimizer_v2.py:375: UserWarning: The `lr` argument is deprecated, use `learning_rate` instead.\n",
            "  \"The `lr` argument is deprecated, use `learning_rate` instead.\")\n"
          ],
          "name": "stderr"
        }
      ]
    },
    {
      "cell_type": "code",
      "metadata": {
        "id": "pmyzj5DgfFAB",
        "colab": {
          "base_uri": "https://localhost:8080/"
        },
        "outputId": "9ad84a2c-0c1f-4c23-bdfb-e6c14924f23c"
      },
      "source": [
        "model_genis = wU_Net()"
      ],
      "execution_count": null,
      "outputs": [
        {
          "output_type": "stream",
          "text": [
            "/usr/local/lib/python3.7/dist-packages/tensorflow/python/keras/optimizer_v2/optimizer_v2.py:375: UserWarning: The `lr` argument is deprecated, use `learning_rate` instead.\n",
            "  \"The `lr` argument is deprecated, use `learning_rate` instead.\")\n"
          ],
          "name": "stderr"
        }
      ]
    },
    {
      "cell_type": "code",
      "metadata": {
        "id": "Duh0IYmufAsJ"
      },
      "source": [
        "model_genis.load_weights('/content/drive/MyDrive/model_wU_Net_geniş.h5')"
      ],
      "execution_count": null,
      "outputs": []
    },
    {
      "cell_type": "code",
      "metadata": {
        "id": "0gKtbl_HfIJt"
      },
      "source": [
        "model_ödemsiz.load_weights('/content/drive/MyDrive/model_wunet_ödemsiz.h5')"
      ],
      "execution_count": null,
      "outputs": []
    },
    {
      "cell_type": "code",
      "metadata": {
        "id": "ZudDi9N7KeXN"
      },
      "source": [
        "def isnan(value):\n",
        "  try:\n",
        "      import math\n",
        "      return math.isnan(float(value))\n",
        "  except:\n",
        "      return False"
      ],
      "execution_count": null,
      "outputs": []
    },
    {
      "cell_type": "code",
      "metadata": {
        "id": "q2pvF_OFrxyd",
        "colab": {
          "base_uri": "https://localhost:8080/",
          "height": 231
        },
        "outputId": "c2ecf9a5-5063-4a17-f82c-302709027704"
      },
      "source": [
        "sum_sensitivity=0\n",
        "mean_sensitivity=0\n",
        "\n",
        "sum_dice=0\n",
        "mean_dice=0\n",
        "a=0\n",
        "for i in range(0,len(seg_tam_test)):\n",
        "  pred_tam = model_tam.predict(np.expand_dims(x_test[i,:,:,:],axis=0))\n",
        "  t1ce_tam = pred_tam[0] * t1ce_test[i]\n",
        "  expand_img = np.expand_dims(t1ce_tam,axis=0)\n",
        "  pred_ödemsiz = model_ödemsiz.predict(expand_img)\n",
        "  t1ce_ödemsiz = pred_ödemsiz[0]*t1ce_test[i]\n",
        "  expand_img = np.expand_dims(t1ce_ödemsiz,axis=0)\n",
        "  pred_geniş = model_genis.predict(expand_img)\n",
        "  dice = compute_dice(pred_tam[0,0,:,:],seg_tam_test[i,0,:,:])\n",
        "  r = sensitivity(pred_tam[0,0,:,:],seg_tam_test[i,0,:,:])\n",
        "  sum_dice = sum_dice + dice\n",
        "  if isnan(r) == False:\n",
        "    sum_sensitivity = r + sum_sensitivity\n",
        "    a=a+1\n",
        "  else:\n",
        "    r=0\n",
        "    sum_sensitivity = r+sum_sensitivity\n",
        "\n",
        "\n",
        "mean_dice = sum_dice / len(seg_ödemsiz_test)\n",
        "mean_sensitivity = sum_sensitivity / len(seg_tam_test)\n",
        "\n",
        "\n",
        "print(mean_dice, mean_sensitivity)"
      ],
      "execution_count": null,
      "outputs": [
        {
          "output_type": "error",
          "ename": "NameError",
          "evalue": "ignored",
          "traceback": [
            "\u001b[0;31m---------------------------------------------------------------------------\u001b[0m",
            "\u001b[0;31mNameError\u001b[0m                                 Traceback (most recent call last)",
            "\u001b[0;32m<ipython-input-21-66f69095a87b>\u001b[0m in \u001b[0;36m<module>\u001b[0;34m()\u001b[0m\n\u001b[1;32m     16\u001b[0m   \u001b[0mr\u001b[0m \u001b[0;34m=\u001b[0m \u001b[0msensitivity\u001b[0m\u001b[0;34m(\u001b[0m\u001b[0mpred_tam\u001b[0m\u001b[0;34m[\u001b[0m\u001b[0;36m0\u001b[0m\u001b[0;34m,\u001b[0m\u001b[0;36m0\u001b[0m\u001b[0;34m,\u001b[0m\u001b[0;34m:\u001b[0m\u001b[0;34m,\u001b[0m\u001b[0;34m:\u001b[0m\u001b[0;34m]\u001b[0m\u001b[0;34m,\u001b[0m\u001b[0mseg_tam_test\u001b[0m\u001b[0;34m[\u001b[0m\u001b[0mi\u001b[0m\u001b[0;34m,\u001b[0m\u001b[0;36m0\u001b[0m\u001b[0;34m,\u001b[0m\u001b[0;34m:\u001b[0m\u001b[0;34m,\u001b[0m\u001b[0;34m:\u001b[0m\u001b[0;34m]\u001b[0m\u001b[0;34m)\u001b[0m\u001b[0;34m\u001b[0m\u001b[0;34m\u001b[0m\u001b[0m\n\u001b[1;32m     17\u001b[0m   \u001b[0msum_dice\u001b[0m \u001b[0;34m=\u001b[0m \u001b[0msum_dice\u001b[0m \u001b[0;34m+\u001b[0m \u001b[0mdice\u001b[0m\u001b[0;34m\u001b[0m\u001b[0;34m\u001b[0m\u001b[0m\n\u001b[0;32m---> 18\u001b[0;31m   \u001b[0;32mif\u001b[0m \u001b[0misnan\u001b[0m\u001b[0;34m(\u001b[0m\u001b[0mr\u001b[0m\u001b[0;34m)\u001b[0m \u001b[0;34m==\u001b[0m \u001b[0;32mFalse\u001b[0m\u001b[0;34m:\u001b[0m\u001b[0;34m\u001b[0m\u001b[0;34m\u001b[0m\u001b[0m\n\u001b[0m\u001b[1;32m     19\u001b[0m     \u001b[0msum_sensitivity\u001b[0m \u001b[0;34m=\u001b[0m \u001b[0mr\u001b[0m \u001b[0;34m+\u001b[0m \u001b[0msum_sensitivity\u001b[0m\u001b[0;34m\u001b[0m\u001b[0;34m\u001b[0m\u001b[0m\n\u001b[1;32m     20\u001b[0m     \u001b[0ma\u001b[0m\u001b[0;34m=\u001b[0m\u001b[0ma\u001b[0m\u001b[0;34m+\u001b[0m\u001b[0;36m1\u001b[0m\u001b[0;34m\u001b[0m\u001b[0;34m\u001b[0m\u001b[0m\n",
            "\u001b[0;31mNameError\u001b[0m: name 'isnan' is not defined"
          ]
        }
      ]
    },
    {
      "cell_type": "code",
      "metadata": {
        "id": "8AHtVzvWHvlb"
      },
      "source": [
        "def sensitivity(im1, im2, empty_score=1.0):\n",
        "    im1 = np.asarray(im1>0.5).astype(np.bool)\n",
        "    im2 = np.asarray(im2>0.5).astype(np.bool)\n",
        "    FN=0\n",
        "\n",
        "    if im1.shape != im2.shape:\n",
        "        raise ValueError(\"Shape mismatch: im1 and im2 must have the same shape.\")\n",
        "\n",
        "    im_sum = im1.sum() + im2.sum()\n",
        "    if im_sum == 0:\n",
        "        return empty_score\n",
        "\n",
        "    TP = np.logical_and(im1, im2)\n",
        "\n",
        "    return TP.sum() / im2.sum()"
      ],
      "execution_count": null,
      "outputs": []
    },
    {
      "cell_type": "code",
      "metadata": {
        "id": "qvYGtedhUChS"
      },
      "source": [
        "def üstüne_ekle(pred_tam, pred_ödemsiz , pred_geniş ):\n",
        "\n",
        "    total = np.zeros((1,1,240,240),np.float32)\n",
        "    total[:,:,:,:] = pred_tam[:,:,:,:]\n",
        "\n",
        "    for i in range(pred_ödemsiz.shape[0]):\n",
        "        for j in range(240):\n",
        "            for k in range(240):\n",
        "\n",
        "                if pred_ödemsiz[i,0,j,k] != 0 and pred_tam[i,0,j,k] !=0:\n",
        "                    total[i,0,j,k] = pred_ödemsiz[i,0,j,k]\n",
        "\n",
        "                if pred_geniş[i,0,j,k] != 0 and pred_tam[i,0,j,k] !=0:\n",
        "                    total[i,0,j,k] = pred_geniş[i,0,j,k]\n",
        "\n",
        "    return total"
      ],
      "execution_count": null,
      "outputs": []
    },
    {
      "cell_type": "code",
      "metadata": {
        "id": "WLkGCW4vVi7L"
      },
      "source": [
        "pred_tam = model_tam.predict(x_test)\n",
        "t1ce_tam = pred_tam * t1ce_test\n",
        "expand_img = np.expand_dims(t1ce_tam,axis=0)\n",
        "pred_ödemsiz = model_ödemsiz.predict(t1ce_tam)\n",
        "t1ce_ödemsiz = pred_ödemsiz*t1ce_test\n",
        "expand_img = np.expand_dims(t1ce_ödemsiz,axis=0)\n",
        "pred_geniş = model_genis.predict(t1ce_ödemsiz)"
      ],
      "execution_count": null,
      "outputs": []
    },
    {
      "cell_type": "code",
      "metadata": {
        "id": "DxaT1kjdB-66"
      },
      "source": [
        "orj=show_lable_on_image4(x_test[4848,0], seg_orj[4848,0])"
      ],
      "execution_count": null,
      "outputs": []
    },
    {
      "cell_type": "code",
      "metadata": {
        "colab": {
          "base_uri": "https://localhost:8080/",
          "height": 303
        },
        "id": "0YsCqSm_B-67",
        "outputId": "472f4179-9876-4df2-ae74-472befdbdae5"
      },
      "source": [
        "plt.imshow(orj)"
      ],
      "execution_count": null,
      "outputs": [
        {
          "output_type": "stream",
          "text": [
            "Clipping input data to the valid range for imshow with RGB data ([0..1] for floats or [0..255] for integers).\n"
          ],
          "name": "stderr"
        },
        {
          "output_type": "execute_result",
          "data": {
            "text/plain": [
              "<matplotlib.image.AxesImage at 0x7f736a43a2d0>"
            ]
          },
          "metadata": {
            "tags": []
          },
          "execution_count": 58
        },
        {
          "output_type": "display_data",
          "data": {
            "image/png": "[encoded data removed]",
            "text/plain": [
              "<Figure size 432x288 with 1 Axes>"
            ]
          },
          "metadata": {
            "tags": [],
            "needs_background": "light"
          }
        }
      ]
    },
    {
      "cell_type": "code",
      "metadata": {
        "id": "_U4xVK3IBrkb"
      },
      "source": [
        "a=show_lable_on_image4(x_test[4848,0], seg[0,0])"
      ],
      "execution_count": null,
      "outputs": []
    },
    {
      "cell_type": "code",
      "metadata": {
        "id": "f5HJqPOjCGqR",
        "colab": {
          "base_uri": "https://localhost:8080/",
          "height": 303
        },
        "outputId": "99f2c139-448d-4afb-e9d1-dc5e52b04596"
      },
      "source": [
        "plt.imshow(a)"
      ],
      "execution_count": null,
      "outputs": [
        {
          "output_type": "stream",
          "text": [
            "Clipping input data to the valid range for imshow with RGB data ([0..1] for floats or [0..255] for integers).\n"
          ],
          "name": "stderr"
        },
        {
          "output_type": "execute_result",
          "data": {
            "text/plain": [
              "<matplotlib.image.AxesImage at 0x7f736a441ad0>"
            ]
          },
          "metadata": {
            "tags": []
          },
          "execution_count": 56
        },
        {
          "output_type": "display_data",
          "data": {
            "image/png": "[encoded data removed]",
            "text/plain": [
              "<Figure size 432x288 with 1 Axes>"
            ]
          },
          "metadata": {
            "tags": [],
            "needs_background": "light"
          }
        }
      ]
    },
    {
      "cell_type": "code",
      "metadata": {
        "id": "YZuy_MtEBmNF"
      },
      "source": [
        "from skimage import io, color, img_as_float\n",
        "def show_lable_on_image4(test_img, label_im):\n",
        "\n",
        "    alpha = 0.8\n",
        "\n",
        "    img = img_as_float(test_img/test_img.max())\n",
        "    rows, cols = img.shape\n",
        "\n",
        "    # Construct a colour image to superimpose\n",
        "    color_mask = np.zeros((rows, cols, 3))\n",
        "    red_multiplier = [1, 0.2, 0.2]\n",
        "    green_multiplier = [0.35,0.75,0.25]\n",
        "    blue_multiplier = [0,0.25,0.9]\n",
        "    yellow_multiplier = [1,1,0.25]\n",
        "    brown_miltiplier = [40./255, 26./255, 13./255]\n",
        "\n",
        "\n",
        "    color_mask[label_im==1] = [0, 0, 1]  # Red block\n",
        "    color_mask[label_im==2] = [0, 1, 0] # Green block\n",
        "    color_mask[label_im==3] = [0, 0, 1] # Blue block\n",
        "    color_mask[label_im==4] = [1, 0, 0] # Yellow block\n",
        "\n",
        "    # Construct RGB version of grey-level image\n",
        "    img_color = np.dstack((img, img, img))\n",
        "\n",
        "    # Convert the input image and color mask to Hue Saturation Value (HSV)\n",
        "    # colorspace\n",
        "    img_hsv = color.rgb2hsv(img_color)\n",
        "    color_mask_hsv = color.rgb2hsv(color_mask)\n",
        "\n",
        "    # Replace the hue and saturation of the original image\n",
        "    # with that of the color mask\n",
        "    img_hsv[..., 0] = color_mask_hsv[..., 0]\n",
        "    img_hsv[..., 1] = color_mask_hsv[..., 1] * alpha\n",
        "\n",
        "    img_masked = color.hsv2rgb(img_hsv)\n",
        "\n",
        "    return img_masked"
      ],
      "execution_count": null,
      "outputs": []
    },
    {
      "cell_type": "code",
      "metadata": {
        "id": "eoDOWb46tO75",
        "colab": {
          "base_uri": "https://localhost:8080/",
          "height": 592
        },
        "outputId": "97658e28-4b1e-4502-86e1-aacf60547856"
      },
      "source": [
        "renk = { 0:'magma',\n",
        "        1:'viridis',\n",
        "        2:'gray',\n",
        "        3:'inferno',\n",
        "        4:'cividis',\n",
        "        5:'hot', }\n",
        "a  = 2\n",
        "x=4848\n",
        "\n",
        "pred_tam = model_tam.predict(np.expand_dims(x_test[x,:,:,:],axis=0))\n",
        "t1ce_tam = pred_tam[0] * t1ce_test[x]\n",
        "expand_img = np.expand_dims(t1ce_tam,axis=0)\n",
        "pred_ödemsiz = model_ödemsiz.predict(expand_img)\n",
        "t1ce_ödemsiz = pred_ödemsiz[0] * t1ce_test[x]\n",
        "expand_img = np.expand_dims(t1ce_ödemsiz,axis=0)\n",
        "pred_genis = model_genis.predict(expand_img)\n",
        "pred_tam[pred_tam > 0.2] = 2\n",
        "pred_tam[pred_tam != 2 ] = 0\n",
        "pred_ödemsiz[pred_ödemsiz > 0.2] = 1\n",
        "pred_ödemsiz[pred_ödemsiz != 1 ] = 0\n",
        "pred_genis[pred_genis > 0.2] = 4\n",
        "pred_genis[pred_genis != 4 ] = 0\n",
        "seg = üstüne_ekle(pred_tam, pred_ödemsiz, pred_genis)\n",
        "plt.figure(figsize=(15,15))\n",
        "\n",
        "plt.subplot(331)\n",
        "plt.title('Flair')\n",
        "plt.axis('off')\n",
        "plt.imshow(x_test[x, 0, :, :], cmap= renk[a])\n",
        "\n",
        "plt.subplot(332)\n",
        "plt.title('T2')\n",
        "plt.axis('off')\n",
        "plt.imshow(x_test[x, 1, :, :],cmap= renk[a])\n",
        "\n",
        "plt.subplot(333)\n",
        "plt.title('T1ce')\n",
        "plt.axis('off')\n",
        "plt.imshow(t1ce_test[x, 0, :, :],cmap= renk[a])\n",
        "\n",
        "plt.subplot(334)\n",
        "plt.title('Segmentasyon')\n",
        "plt.axis('off')\n",
        "plt.imshow(seg_orj[x, 0, :, :],cmap= renk[a])\n",
        "\n",
        "plt.subplot(335)\n",
        "plt.title('Predict')\n",
        "plt.axis('off')\n",
        "plt.imshow(seg[0, 0, :, :],cmap= renk[a])\n",
        "\n",
        "\n",
        "plt.subplot(336)\n",
        "plt.title('Flair + Tumor Segmentasyonu')\n",
        "plt.axis('off')\n",
        "y = cv2.addWeighted(x_test[x,1,:,:],0.1, seg[0,0,:,:], 0.9,0)\n",
        "plt.imshow(y, cmap= renk[a])"
      ],
      "execution_count": null,
      "outputs": [
        {
          "output_type": "execute_result",
          "data": {
            "text/plain": [
              "<matplotlib.image.AxesImage at 0x7fcc028ae750>"
            ]
          },
          "metadata": {
            "tags": []
          },
          "execution_count": 22
        },
        {
          "output_type": "display_data",
          "data": {
            "image/png": "[encoded data removed]",
            "text/plain": [
              "<Figure size 1080x1080 with 6 Axes>"
            ]
          },
          "metadata": {
            "tags": [],
            "needs_background": "light"
          }
        }
      ]
    },
    {
      "cell_type": "code",
      "metadata": {
        "id": "SLFFpYCH5vBY"
      },
      "source": [
        "orj=show_lable_on_image4(x_test[197,0], seg[0,0])"
      ],
      "execution_count": null,
      "outputs": []
    },
    {
      "cell_type": "code",
      "metadata": {
        "colab": {
          "base_uri": "https://localhost:8080/",
          "height": 303
        },
        "id": "q-6sjGHfhLAB",
        "outputId": "771ee196-719a-4143-aa7e-a78dd627a81b"
      },
      "source": [
        "plt.imshow(orj)"
      ],
      "execution_count": null,
      "outputs": [
        {
          "output_type": "stream",
          "text": [
            "Clipping input data to the valid range for imshow with RGB data ([0..1] for floats or [0..255] for integers).\n"
          ],
          "name": "stderr"
        },
        {
          "output_type": "execute_result",
          "data": {
            "text/plain": [
              "<matplotlib.image.AxesImage at 0x7f0a0372aad0>"
            ]
          },
          "metadata": {
            "tags": []
          },
          "execution_count": 54
        },
        {
          "output_type": "display_data",
          "data": {
            "image/png": "[encoded data removed]",
            "text/plain": [
              "<Figure size 432x288 with 1 Axes>"
            ]
          },
          "metadata": {
            "tags": [],
            "needs_background": "light"
          }
        }
      ]
    },
    {
      "cell_type": "code",
      "metadata": {
        "colab": {
          "base_uri": "https://localhost:8080/",
          "height": 416
        },
        "id": "MkOtQylZtzUT",
        "outputId": "5c92b953-4a07-4f44-ab82-408f7f7f367d"
      },
      "source": [
        "renk = { 0:'magma',\n",
        "        1:'viridis',\n",
        "        2:'gray',\n",
        "        3:'inferno',\n",
        "        4:'cividis',\n",
        "        5:'hot', }\n",
        "a  = 2\n",
        "x=4000\n",
        "\n",
        "pred_tam = model_tam.predict(np.expand_dims(x_test[x,:,:,:],axis=0))\n",
        "t1ce_tam = pred_tam[0] * t1ce_test[x]\n",
        "expand_img = np.expand_dims(t1ce_tam,axis=0)\n",
        "pred_ödemsiz = model_ödemsiz.predict(expand_img)\n",
        "t1ce_ödemsiz = pred_ödemsiz[0] * t1ce_test[x]\n",
        "expand_img = np.expand_dims(t1ce_ödemsiz,axis=0)\n",
        "pred_genis = model_genis.predict(expand_img)\n",
        "b = cv2.add(pred_tam, pred_ödemsiz)\n",
        "c = cv2.add(pred_genis, b)\n",
        "total = np.zeros((1,240,240),np.float32)\n",
        "total = c\n",
        "plt.figure(figsize=(15,10))\n",
        "\n",
        "plt.subplot(331)\n",
        "plt.title('Tam Tümör')\n",
        "plt.axis('off')\n",
        "plt.imshow(seg_tam_test[x,0 ,:,:],cmap= renk[a])\n",
        "\n",
        "plt.subplot(332)\n",
        "plt.title('Ödemsiz ')\n",
        "plt.axis('off')\n",
        "plt.imshow(seg_ödemsiz_test[x, 0, :, :],cmap= renk[a])\n",
        "\n",
        "plt.subplot(333)\n",
        "plt.title('Geniş ')\n",
        "plt.axis('off')\n",
        "plt.imshow(seg_geniş_test[x, 0, :, :],cmap= renk[a])\n",
        "\n",
        "\n",
        "plt.subplot(334)\n",
        "plt.title('Pred Tam ')\n",
        "plt.axis('off')\n",
        "plt.imshow(pred_tam[0,0,:,:],cmap= renk[a])\n",
        "\n",
        "\n",
        "plt.subplot(335)\n",
        "plt.title('Pred Ödemsiz')\n",
        "plt.axis('off')\n",
        "plt.imshow(pred_ödemsiz[ 0, 0, :, :],cmap= renk[a])\n",
        "\n",
        "\n",
        "plt.subplot(336)\n",
        "plt.title('Pred Geniş')\n",
        "plt.axis('off')\n",
        "plt.imshow(pred_genis[ 0, 0, :, :],cmap= renk[a])\n"
      ],
      "execution_count": null,
      "outputs": [
        {
          "output_type": "execute_result",
          "data": {
            "text/plain": [
              "<matplotlib.image.AxesImage at 0x7f736a8c3f50>"
            ]
          },
          "metadata": {
            "tags": []
          },
          "execution_count": 51
        },
        {
          "output_type": "display_data",
          "data": {
            "image/png": "[encoded data removed]",
            "text/plain": [
              "<Figure size 1080x720 with 6 Axes>"
            ]
          },
          "metadata": {
            "tags": [],
            "needs_background": "light"
          }
        }
      ]
    },
    {
      "cell_type": "code",
      "metadata": {
        "colab": {
          "base_uri": "https://localhost:8080/"
        },
        "id": "iU8mGJ8Wvsf7",
        "outputId": "bcf81b81-467e-497c-a2b6-fed4b0393158"
      },
      "source": [
        "sensitivity, specificity, accuracy = calculate_sensitivity_specificity(seg_tam_test[x][0], pred_tam[0][0])\n",
        "dice = compute_dice(seg_tam_test[x][0], pred_tam[0][0])\n",
        "print ('WT Sensitivity:', sensitivity)\n",
        "print ('WT Specificity:', specificity)\n",
        "print ('WT Accuracy:', accuracy)\n",
        "print ('WT Dice:', dice)\n",
        "sensitivity, specificity, accuracy = calculate_sensitivity_specificity(seg_ödemsiz_test[x][0], pred_ödemsiz[0][0])\n",
        "dice = compute_dice(seg_ödemsiz_test[x][0], pred_ödemsiz[0][0])\n",
        "print ('TC Sensitivity:', sensitivity)\n",
        "print ('TC Specificity:', specificity)\n",
        "print ('TC Accuracy:', accuracy)\n",
        "print ('TC Dice:', dice)\n",
        "sensitivity, specificity, accuracy = calculate_sensitivity_specificity(seg_geniş_test[x][0], pred_genis[0][0])\n",
        "dice = compute_dice(seg_geniş_test[x][0], pred_genis[0][0])\n",
        "print ('ET Sensitivity:', sensitivity)\n",
        "print ('ET Specificity:', specificity)\n",
        "print ('ET Accuracy:', accuracy)\n",
        "print ('ET Dice:', dice)"
      ],
      "execution_count": null,
      "outputs": [
        {
          "output_type": "stream",
          "text": [
            "WT Sensitivity: 0.0\n",
            "WT Specificity: 0.9977949695406809\n",
            "WT Accuracy: 0.9270138888888889\n",
            "WT Dice: 0.9775021281770643\n",
            "TC Sensitivity: 0.9465381244522348\n",
            "TC Specificity: 0.9999645760640464\n",
            "TC Accuracy: 0.99890625\n",
            "TC Dice: 0.97165991902834\n",
            "ET Sensitivity: 0.0\n",
            "ET Specificity: 0.9999120910033933\n",
            "ET Accuracy: 0.9873611111111111\n",
            "ET Dice: 0.9246676514032496\n"
          ],
          "name": "stdout"
        }
      ]
    },
    {
      "cell_type": "code",
      "metadata": {
        "id": "mXHJsjqOOLdy"
      },
      "source": [
        "def compute_dice(im1, im2, empty_score=1.0):\n",
        "    im1 = np.asarray(im1>0.5).astype(np.bool)\n",
        "    im2 = np.asarray(im2>0.5).astype(np.bool)\n",
        "\n",
        "    if im1.shape != im2.shape:\n",
        "        raise ValueError(\"Shape mismatch: im1 and im2 must have the same shape.\")\n",
        "\n",
        "    im_sum = im1.sum() + im2.sum()\n",
        "    if im_sum == 0:\n",
        "        return empty_score\n",
        "\n",
        "    intersection = np.logical_and(im1, im2)\n",
        "\n",
        "    return 2. * intersection.sum() / im_sum"
      ],
      "execution_count": null,
      "outputs": []
    },
    {
      "cell_type": "code",
      "metadata": {
        "id": "vKxs9PqgOLd0"
      },
      "source": [
        "def calculate_sensitivity_specificity(y_test, y_pred_test):\n",
        "    # Note: More parameters are defined than necessary.\n",
        "    # This would allow return of other measures other than sensitivity and specificity\n",
        "\n",
        "    # Get true/false for whether a breach actually occurred\n",
        "    actual_pos = y_test == 1\n",
        "    actual_neg = y_test == 0\n",
        "\n",
        "    # Get true and false test (true test match actual, false tests differ from actual)\n",
        "    true_pos = (y_pred_test == 1) & (actual_pos)\n",
        "    false_pos = (y_pred_test == 1) & (actual_neg)\n",
        "    true_neg = (y_pred_test == 0) & (actual_neg)\n",
        "    false_neg = (y_pred_test == 0) & (actual_pos)\n",
        "\n",
        "    # Calculate accuracy\n",
        "    accuracy = np.mean(y_pred_test == y_test)\n",
        "\n",
        "    # Calculate sensitivity and specificity\n",
        "    sensitivity = np.sum(true_pos) / np.sum(actual_pos)\n",
        "    specificity = np.sum(true_neg) / np.sum(actual_neg)\n",
        "\n",
        "    return sensitivity, specificity, accuracy"
      ],
      "execution_count": null,
      "outputs": []
    },
    {
      "cell_type": "markdown",
      "metadata": {
        "id": "e2orD1Ygfl7d"
      },
      "source": [
        "Tam Tümör"
      ]
    },
    {
      "cell_type": "code",
      "metadata": {
        "id": "zhIK75ZtXhnL",
        "colab": {
          "base_uri": "https://localhost:8080/",
          "height": 442
        },
        "outputId": "e8d42007-b652-43a9-e150-2a107b5fb159"
      },
      "source": [
        "sum_dice=0\n",
        "mean_dice=0\n",
        "for i in range(1,len(seg_tam_test)):\n",
        "  pred_tam = model_tam.predict(x_test[i-1:i,:,:,:])\n",
        "  dice = compute_dice(pred_tam[0,0,:,:],seg_tam_test[i,0,:,:])\n",
        "  sum_dice = sum_dice + dice\n",
        "mean_dice = sum_dice / len(seg_tam_test)\n",
        "print(mean_dice)"
      ],
      "execution_count": null,
      "outputs": [
        {
          "output_type": "error",
          "ename": "InvalidArgumentError",
          "evalue": "ignored",
          "traceback": [
            "\u001b[0;31m---------------------------------------------------------------------------\u001b[0m",
            "\u001b[0;31mInvalidArgumentError\u001b[0m                      Traceback (most recent call last)",
            "\u001b[0;32m<ipython-input-17-8e04c81c8c0f>\u001b[0m in \u001b[0;36m<module>\u001b[0;34m()\u001b[0m\n\u001b[1;32m      2\u001b[0m \u001b[0mmean_dice\u001b[0m\u001b[0;34m=\u001b[0m\u001b[0;36m0\u001b[0m\u001b[0;34m\u001b[0m\u001b[0;34m\u001b[0m\u001b[0m\n\u001b[1;32m      3\u001b[0m \u001b[0;32mfor\u001b[0m \u001b[0mi\u001b[0m \u001b[0;32min\u001b[0m \u001b[0mrange\u001b[0m\u001b[0;34m(\u001b[0m\u001b[0;36m1\u001b[0m\u001b[0;34m,\u001b[0m\u001b[0mlen\u001b[0m\u001b[0;34m(\u001b[0m\u001b[0mseg_tam_test\u001b[0m\u001b[0;34m)\u001b[0m\u001b[0;34m)\u001b[0m\u001b[0;34m:\u001b[0m\u001b[0;34m\u001b[0m\u001b[0;34m\u001b[0m\u001b[0m\n\u001b[0;32m----> 4\u001b[0;31m   \u001b[0mpred_tam\u001b[0m \u001b[0;34m=\u001b[0m \u001b[0mmodel_tam\u001b[0m\u001b[0;34m.\u001b[0m\u001b[0mpredict\u001b[0m\u001b[0;34m(\u001b[0m\u001b[0mx_test\u001b[0m\u001b[0;34m[\u001b[0m\u001b[0mi\u001b[0m\u001b[0;34m-\u001b[0m\u001b[0;36m1\u001b[0m\u001b[0;34m:\u001b[0m\u001b[0mi\u001b[0m\u001b[0;34m,\u001b[0m\u001b[0;34m:\u001b[0m\u001b[0;34m,\u001b[0m\u001b[0;34m:\u001b[0m\u001b[0;34m,\u001b[0m\u001b[0;34m:\u001b[0m\u001b[0;34m]\u001b[0m\u001b[0;34m)\u001b[0m\u001b[0;34m\u001b[0m\u001b[0;34m\u001b[0m\u001b[0m\n\u001b[0m\u001b[1;32m      5\u001b[0m   \u001b[0mdice\u001b[0m \u001b[0;34m=\u001b[0m \u001b[0mcompute_dice\u001b[0m\u001b[0;34m(\u001b[0m\u001b[0mpred_tam\u001b[0m\u001b[0;34m[\u001b[0m\u001b[0;36m0\u001b[0m\u001b[0;34m,\u001b[0m\u001b[0;36m0\u001b[0m\u001b[0;34m,\u001b[0m\u001b[0;34m:\u001b[0m\u001b[0;34m,\u001b[0m\u001b[0;34m:\u001b[0m\u001b[0;34m]\u001b[0m\u001b[0;34m,\u001b[0m\u001b[0mseg_tam_test\u001b[0m\u001b[0;34m[\u001b[0m\u001b[0mi\u001b[0m\u001b[0;34m,\u001b[0m\u001b[0;36m0\u001b[0m\u001b[0;34m,\u001b[0m\u001b[0;34m:\u001b[0m\u001b[0;34m,\u001b[0m\u001b[0;34m:\u001b[0m\u001b[0;34m]\u001b[0m\u001b[0;34m)\u001b[0m\u001b[0;34m\u001b[0m\u001b[0;34m\u001b[0m\u001b[0m\n\u001b[1;32m      6\u001b[0m   \u001b[0msum_dice\u001b[0m \u001b[0;34m=\u001b[0m \u001b[0msum_dice\u001b[0m \u001b[0;34m+\u001b[0m \u001b[0mdice\u001b[0m\u001b[0;34m\u001b[0m\u001b[0;34m\u001b[0m\u001b[0m\n",
            "\u001b[0;32m/usr/local/lib/python3.7/dist-packages/tensorflow/python/keras/engine/training.py\u001b[0m in \u001b[0;36mpredict\u001b[0;34m(self, x, batch_size, verbose, steps, callbacks, max_queue_size, workers, use_multiprocessing)\u001b[0m\n\u001b[1;32m   1627\u001b[0m           \u001b[0;32mfor\u001b[0m \u001b[0mstep\u001b[0m \u001b[0;32min\u001b[0m \u001b[0mdata_handler\u001b[0m\u001b[0;34m.\u001b[0m\u001b[0msteps\u001b[0m\u001b[0;34m(\u001b[0m\u001b[0;34m)\u001b[0m\u001b[0;34m:\u001b[0m\u001b[0;34m\u001b[0m\u001b[0;34m\u001b[0m\u001b[0m\n\u001b[1;32m   1628\u001b[0m             \u001b[0mcallbacks\u001b[0m\u001b[0;34m.\u001b[0m\u001b[0mon_predict_batch_begin\u001b[0m\u001b[0;34m(\u001b[0m\u001b[0mstep\u001b[0m\u001b[0;34m)\u001b[0m\u001b[0;34m\u001b[0m\u001b[0;34m\u001b[0m\u001b[0m\n\u001b[0;32m-> 1629\u001b[0;31m             \u001b[0mtmp_batch_outputs\u001b[0m \u001b[0;34m=\u001b[0m \u001b[0mself\u001b[0m\u001b[0;34m.\u001b[0m\u001b[0mpredict_function\u001b[0m\u001b[0;34m(\u001b[0m\u001b[0miterator\u001b[0m\u001b[0;34m)\u001b[0m\u001b[0;34m\u001b[0m\u001b[0;34m\u001b[0m\u001b[0m\n\u001b[0m\u001b[1;32m   1630\u001b[0m             \u001b[0;32mif\u001b[0m \u001b[0mdata_handler\u001b[0m\u001b[0;34m.\u001b[0m\u001b[0mshould_sync\u001b[0m\u001b[0;34m:\u001b[0m\u001b[0;34m\u001b[0m\u001b[0;34m\u001b[0m\u001b[0m\n\u001b[1;32m   1631\u001b[0m               \u001b[0mcontext\u001b[0m\u001b[0;34m.\u001b[0m\u001b[0masync_wait\u001b[0m\u001b[0;34m(\u001b[0m\u001b[0;34m)\u001b[0m\u001b[0;34m\u001b[0m\u001b[0;34m\u001b[0m\u001b[0m\n",
            "\u001b[0;32m/usr/local/lib/python3.7/dist-packages/tensorflow/python/eager/def_function.py\u001b[0m in \u001b[0;36m__call__\u001b[0;34m(self, *args, **kwds)\u001b[0m\n\u001b[1;32m    826\u001b[0m     \u001b[0mtracing_count\u001b[0m \u001b[0;34m=\u001b[0m \u001b[0mself\u001b[0m\u001b[0;34m.\u001b[0m\u001b[0mexperimental_get_tracing_count\u001b[0m\u001b[0;34m(\u001b[0m\u001b[0;34m)\u001b[0m\u001b[0;34m\u001b[0m\u001b[0;34m\u001b[0m\u001b[0m\n\u001b[1;32m    827\u001b[0m     \u001b[0;32mwith\u001b[0m \u001b[0mtrace\u001b[0m\u001b[0;34m.\u001b[0m\u001b[0mTrace\u001b[0m\u001b[0;34m(\u001b[0m\u001b[0mself\u001b[0m\u001b[0;34m.\u001b[0m\u001b[0m_name\u001b[0m\u001b[0;34m)\u001b[0m \u001b[0;32mas\u001b[0m \u001b[0mtm\u001b[0m\u001b[0;34m:\u001b[0m\u001b[0;34m\u001b[0m\u001b[0;34m\u001b[0m\u001b[0m\n\u001b[0;32m--> 828\u001b[0;31m       \u001b[0mresult\u001b[0m \u001b[0;34m=\u001b[0m \u001b[0mself\u001b[0m\u001b[0;34m.\u001b[0m\u001b[0m_call\u001b[0m\u001b[0;34m(\u001b[0m\u001b[0;34m*\u001b[0m\u001b[0margs\u001b[0m\u001b[0;34m,\u001b[0m \u001b[0;34m**\u001b[0m\u001b[0mkwds\u001b[0m\u001b[0;34m)\u001b[0m\u001b[0;34m\u001b[0m\u001b[0;34m\u001b[0m\u001b[0m\n\u001b[0m\u001b[1;32m    829\u001b[0m       \u001b[0mcompiler\u001b[0m \u001b[0;34m=\u001b[0m \u001b[0;34m\"xla\"\u001b[0m \u001b[0;32mif\u001b[0m \u001b[0mself\u001b[0m\u001b[0;34m.\u001b[0m\u001b[0m_experimental_compile\u001b[0m \u001b[0;32melse\u001b[0m \u001b[0;34m\"nonXla\"\u001b[0m\u001b[0;34m\u001b[0m\u001b[0;34m\u001b[0m\u001b[0m\n\u001b[1;32m    830\u001b[0m       \u001b[0mnew_tracing_count\u001b[0m \u001b[0;34m=\u001b[0m \u001b[0mself\u001b[0m\u001b[0;34m.\u001b[0m\u001b[0mexperimental_get_tracing_count\u001b[0m\u001b[0;34m(\u001b[0m\u001b[0;34m)\u001b[0m\u001b[0;34m\u001b[0m\u001b[0;34m\u001b[0m\u001b[0m\n",
            "\u001b[0;32m/usr/local/lib/python3.7/dist-packages/tensorflow/python/eager/def_function.py\u001b[0m in \u001b[0;36m_call\u001b[0;34m(self, *args, **kwds)\u001b[0m\n\u001b[1;32m    893\u001b[0m       \u001b[0;31m# If we did not create any variables the trace we have is good enough.\u001b[0m\u001b[0;34m\u001b[0m\u001b[0;34m\u001b[0m\u001b[0;34m\u001b[0m\u001b[0m\n\u001b[1;32m    894\u001b[0m       return self._concrete_stateful_fn._call_flat(\n\u001b[0;32m--> 895\u001b[0;31m           filtered_flat_args, self._concrete_stateful_fn.captured_inputs)  # pylint: disable=protected-access\n\u001b[0m\u001b[1;32m    896\u001b[0m \u001b[0;34m\u001b[0m\u001b[0m\n\u001b[1;32m    897\u001b[0m     \u001b[0;32mdef\u001b[0m \u001b[0mfn_with_cond\u001b[0m\u001b[0;34m(\u001b[0m\u001b[0minner_args\u001b[0m\u001b[0;34m,\u001b[0m \u001b[0minner_kwds\u001b[0m\u001b[0;34m,\u001b[0m \u001b[0minner_filtered_flat_args\u001b[0m\u001b[0;34m)\u001b[0m\u001b[0;34m:\u001b[0m\u001b[0;34m\u001b[0m\u001b[0;34m\u001b[0m\u001b[0m\n",
            "\u001b[0;32m/usr/local/lib/python3.7/dist-packages/tensorflow/python/eager/function.py\u001b[0m in \u001b[0;36m_call_flat\u001b[0;34m(self, args, captured_inputs, cancellation_manager)\u001b[0m\n\u001b[1;32m   1917\u001b[0m       \u001b[0;31m# No tape is watching; skip to running the function.\u001b[0m\u001b[0;34m\u001b[0m\u001b[0;34m\u001b[0m\u001b[0;34m\u001b[0m\u001b[0m\n\u001b[1;32m   1918\u001b[0m       return self._build_call_outputs(self._inference_function.call(\n\u001b[0;32m-> 1919\u001b[0;31m           ctx, args, cancellation_manager=cancellation_manager))\n\u001b[0m\u001b[1;32m   1920\u001b[0m     forward_backward = self._select_forward_and_backward_functions(\n\u001b[1;32m   1921\u001b[0m         \u001b[0margs\u001b[0m\u001b[0;34m,\u001b[0m\u001b[0;34m\u001b[0m\u001b[0;34m\u001b[0m\u001b[0m\n",
            "\u001b[0;32m/usr/local/lib/python3.7/dist-packages/tensorflow/python/eager/function.py\u001b[0m in \u001b[0;36mcall\u001b[0;34m(self, ctx, args, cancellation_manager)\u001b[0m\n\u001b[1;32m    558\u001b[0m               \u001b[0minputs\u001b[0m\u001b[0;34m=\u001b[0m\u001b[0margs\u001b[0m\u001b[0;34m,\u001b[0m\u001b[0;34m\u001b[0m\u001b[0;34m\u001b[0m\u001b[0m\n\u001b[1;32m    559\u001b[0m               \u001b[0mattrs\u001b[0m\u001b[0;34m=\u001b[0m\u001b[0mattrs\u001b[0m\u001b[0;34m,\u001b[0m\u001b[0;34m\u001b[0m\u001b[0;34m\u001b[0m\u001b[0m\n\u001b[0;32m--> 560\u001b[0;31m               ctx=ctx)\n\u001b[0m\u001b[1;32m    561\u001b[0m         \u001b[0;32melse\u001b[0m\u001b[0;34m:\u001b[0m\u001b[0;34m\u001b[0m\u001b[0;34m\u001b[0m\u001b[0m\n\u001b[1;32m    562\u001b[0m           outputs = execute.execute_with_cancellation(\n",
            "\u001b[0;32m/usr/local/lib/python3.7/dist-packages/tensorflow/python/eager/execute.py\u001b[0m in \u001b[0;36mquick_execute\u001b[0;34m(op_name, num_outputs, inputs, attrs, ctx, name)\u001b[0m\n\u001b[1;32m     58\u001b[0m     \u001b[0mctx\u001b[0m\u001b[0;34m.\u001b[0m\u001b[0mensure_initialized\u001b[0m\u001b[0;34m(\u001b[0m\u001b[0;34m)\u001b[0m\u001b[0;34m\u001b[0m\u001b[0;34m\u001b[0m\u001b[0m\n\u001b[1;32m     59\u001b[0m     tensors = pywrap_tfe.TFE_Py_Execute(ctx._handle, device_name, op_name,\n\u001b[0;32m---> 60\u001b[0;31m                                         inputs, attrs, num_outputs)\n\u001b[0m\u001b[1;32m     61\u001b[0m   \u001b[0;32mexcept\u001b[0m \u001b[0mcore\u001b[0m\u001b[0;34m.\u001b[0m\u001b[0m_NotOkStatusException\u001b[0m \u001b[0;32mas\u001b[0m \u001b[0me\u001b[0m\u001b[0;34m:\u001b[0m\u001b[0;34m\u001b[0m\u001b[0;34m\u001b[0m\u001b[0m\n\u001b[1;32m     62\u001b[0m     \u001b[0;32mif\u001b[0m \u001b[0mname\u001b[0m \u001b[0;32mis\u001b[0m \u001b[0;32mnot\u001b[0m \u001b[0;32mNone\u001b[0m\u001b[0;34m:\u001b[0m\u001b[0;34m\u001b[0m\u001b[0;34m\u001b[0m\u001b[0m\n",
            "\u001b[0;31mInvalidArgumentError\u001b[0m:  Default MaxPoolingOp only supports NHWC on device type CPU\n\t [[node model/max_pooling2d/MaxPool (defined at <ipython-input-17-8e04c81c8c0f>:4) ]] [Op:__inference_predict_function_2071]\n\nFunction call stack:\npredict_function\n"
          ]
        }
      ]
    },
    {
      "cell_type": "code",
      "metadata": {
        "id": "ZpQ-CoPPCiln",
        "colab": {
          "base_uri": "https://localhost:8080/"
        },
        "outputId": "3e5abfcd-51ec-4fbc-b7c4-e42be04d5009"
      },
      "source": [
        "sum_sensitivity=0\n",
        "mean_sensitivity=0\n",
        "sum_specifity=0\n",
        "mean_specifity=0\n",
        "sum_accuracy=0\n",
        "mean_accuracy=0\n",
        "sum_dice=0\n",
        "mean_dice=0\n",
        "for i in range(0,len(seg_tam_test)):\n",
        "  pred_tam = model_tam.predict(np.expand_dims(x_test[i,:,:,:],axis=0))\n",
        "  dice = compute_dice(pred_tam[0,0,:,:],seg_tam_test[i,0,:,:])\n",
        "  sensitivity, specifity, accuracy = calculate_sensitivity_specificity(seg_tam_test[i][0], pred_tam[0][0])\n",
        "  sum_dice = sum_dice + dice\n",
        "  sum_sensitivity = sum_sensitivity + sensitivity\n",
        "  sum_specifity = sum_specifity + specifity\n",
        "  sum_accuracy = sum_accuracy + accuracy\n",
        "mean_dice = sum_dice / len(seg_tam_test)\n",
        "mean_sensitivity = sum_sensitivity / len(seg_tam_test)\n",
        "mean_specifity = sum_specifity / len(seg_tam_test)\n",
        "mean_accuracy = sum_accuracy / len(seg_tam_test)\n",
        "\n",
        "print(mean_dice, mean_sensitivity, mean_specifity, mean_accuracy)"
      ],
      "execution_count": null,
      "outputs": [
        {
          "output_type": "stream",
          "text": [
            "/usr/local/lib/python3.7/dist-packages/ipykernel_launcher.py:19: RuntimeWarning: invalid value encountered in long_scalars\n"
          ],
          "name": "stderr"
        },
        {
          "output_type": "stream",
          "text": [
            "0.8229860686556393 nan 0.0021725927879466807 0.02180108150209284\n"
          ],
          "name": "stdout"
        }
      ]
    },
    {
      "cell_type": "markdown",
      "metadata": {
        "id": "zXCE4MJKJex1"
      },
      "source": [
        "Tümör Merkezi (Ödemsiz Tümör)"
      ]
    },
    {
      "cell_type": "code",
      "metadata": {
        "id": "wsfAMoGM-PD2",
        "colab": {
          "base_uri": "https://localhost:8080/"
        },
        "outputId": "0a4c8ccb-bde5-4d07-b7d9-73ebb95d951a"
      },
      "source": [
        "sum_sensitivity=0\n",
        "mean_sensitivity=0\n",
        "sum_specifity=0\n",
        "mean_specifity=0\n",
        "sum_accuracy=0\n",
        "mean_accuracy=0\n",
        "sum_dice=0\n",
        "mean_dice=0\n",
        "a=0\n",
        "for i in range(0,len(seg_tam_test)):\n",
        "  pred_tam = model_tam.predict(np.expand_dims(x_test[i,:,:,:],axis=0))\n",
        "  t1ce_tam = pred_tam[0] * t1ce_test[i]\n",
        "  expand_img = np.expand_dims(t1ce_tam,axis=0)\n",
        "  pred_ödemsiz = model_ödemsiz.predict(expand_img)\n",
        "  dice = compute_dice(pred_ödemsiz[0,0,:,:],seg_ödemsiz_test[i,0,:,:])\n",
        "  sensitivity, specifity, accuracy = calculate_sensitivity_specificity(seg_ödemsiz_test[i][0], pred_ödemsiz[0][0])\n",
        "  sum_dice = sum_dice + dice\n",
        "  if sensitivity != 'nan':\n",
        "    sum_sensitivity = sum_sensitivity + sensitivity\n",
        "    a=a+1\n",
        "\n",
        "  sum_specifity = sum_specifity + specifity\n",
        "  sum_accuracy = sum_accuracy + accuracy\n",
        "mean_dice = sum_dice / len(seg_ödemsiz_test)\n",
        "mean_sensitivity = sum_sensitivity / a\n",
        "mean_specifity = sum_specifity / len(seg_ödemsiz_test)\n",
        "mean_accuracy = sum_accuracy / len(seg_ödemsiz_test)\n",
        "\n",
        "print(mean_dice, mean_sensitivity, mean_specifity, mean_accuracy)"
      ],
      "execution_count": null,
      "outputs": [
        {
          "output_type": "stream",
          "text": [
            "/usr/local/lib/python3.7/dist-packages/ipykernel_launcher.py:19: RuntimeWarning: invalid value encountered in long_scalars\n"
          ],
          "name": "stderr"
        },
        {
          "output_type": "stream",
          "text": [
            "0.7542894171625046 nan 0.9982338020822542 0.9944252253377089\n"
          ],
          "name": "stdout"
        }
      ]
    },
    {
      "cell_type": "markdown",
      "metadata": {
        "id": "M3YZn8e_Jhi9"
      },
      "source": [
        "Genişleyen Tümör"
      ]
    },
    {
      "cell_type": "code",
      "metadata": {
        "colab": {
          "base_uri": "https://localhost:8080/"
        },
        "id": "JZXCD7L0JkAm",
        "outputId": "da867b15-a45e-4ffe-8b73-855e6033ef4b"
      },
      "source": [
        "sum_sensitivity=0\n",
        "mean_sensitivity=0\n",
        "sum_specifity=0\n",
        "mean_specifity=0\n",
        "sum_accuracy=0\n",
        "mean_accuracy=0\n",
        "sum_dice=0\n",
        "mean_dice=0\n",
        "for i in range(0,len(seg_tam_test)):\n",
        "  pred_tam = model_tam.predict(np.expand_dims(x_test[i,:,:,:],axis=0))\n",
        "  t1ce_tam = pred_tam[0] * t1ce_test[i]\n",
        "  expand_img = np.expand_dims(t1ce_tam,axis=0)\n",
        "  pred_ödemsiz = model_ödemsiz.predict(expand_img)\n",
        "  t1ce_ödemsiz = pred_ödemsiz[0]*t1ce_test[i]\n",
        "  expand_img = np.expand_dims(t1ce_ödemsiz,axis=0)\n",
        "  pred_geniş = model_genis.predict(expand_img)\n",
        "  dice = compute_dice(pred_geniş[0,0,:,:],seg_geniş_test[i,0,:,:])\n",
        "  sensitivity, specifity, accuracy = calculate_sensitivity_specificity(seg_geniş_test[i][0], pred_geniş[0][0])\n",
        "  sum_dice = sum_dice + dice\n",
        "  sum_sensitivity = sum_sensitivity + sensitivity\n",
        "  sum_specifity = sum_specifity + specifity\n",
        "  sum_accuracy = sum_accuracy + accuracy\n",
        "mean_dice = sum_dice / len(seg_ödemsiz_test)\n",
        "mean_sensitivity = sum_sensitivity / len(seg_ödemsiz_test)\n",
        "mean_specifity = sum_specifity / len(seg_ödemsiz_test)\n",
        "mean_accuracy = sum_accuracy / len(seg_ödemsiz_test)\n",
        "\n",
        "print(mean_dice, mean_sensitivity, mean_specifity, mean_accuracy)"
      ],
      "execution_count": null,
      "outputs": [
        {
          "output_type": "stream",
          "text": [
            "/usr/local/lib/python3.7/dist-packages/ipykernel_launcher.py:19: RuntimeWarning: invalid value encountered in long_scalars\n"
          ],
          "name": "stderr"
        },
        {
          "output_type": "stream",
          "text": [
            "0.7141453836811085 nan 0.009327492894386903 0.011292424728881286\n"
          ],
          "name": "stdout"
        }
      ]
    }
  ]
}