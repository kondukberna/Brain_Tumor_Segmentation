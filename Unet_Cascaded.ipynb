{
  "nbformat": 4,
  "nbformat_minor": 0,
  "metadata": {
    "accelerator": "GPU",
    "colab": {
      "provenance": [],
      "machine_shape": "hm"
    },
    "kernelspec": {
      "display_name": "Python 3",
      "name": "python3"
    },
    "language_info": {
      "name": "python"
    }
  },
  "cells": [
    {
      "cell_type": "code",
      "metadata": {
        "id": "ZudDi9N7KeXN"
      },
      "source": [
        "def isnan(value):\n",
        "  try:\n",
        "      import math\n",
        "      return math.isnan(float(value))\n",
        "  except:\n",
        "      return False"
      ],
      "execution_count": null,
      "outputs": []
    },
    {
      "cell_type": "code",
      "metadata": {
        "colab": {
          "background_save": true,
          "base_uri": "https://localhost:8080/"
        },
        "id": "t6sXb-ijgXvK",
        "outputId": "08c0838c-4b61-4fb9-e28b-63a935c8b0ff"
      },
      "source": [
        "sum_sensitivity=0\n",
        "mean_sensitivity=0\n",
        "\n",
        "sum_dice=0\n",
        "mean_dice=0\n",
        "a=0\n",
        "for i in range(0,len(seg_tam_test)):\n",
        "  pred_tam = model_tam.predict(np.expand_dims(x_test[i,:,:,:],axis=0))\n",
        "  t1ce_tam = pred_tam[0] * t1ce_test[i]\n",
        "  expand_img = np.expand_dims(t1ce_tam,axis=0)\n",
        "  pred_ödemsiz = model_ödemsiz.predict(expand_img)\n",
        "  t1ce_ödemsiz = pred_ödemsiz[0]*t1ce_test[i]\n",
        "  expand_img = np.expand_dims(t1ce_ödemsiz,axis=0)\n",
        "  pred_geniş = model_genis.predict(expand_img)\n",
        "  dice = compute_dice(pred_ödemsiz[0,0,:,:],seg_ödemsiz_test[i,0,:,:])\n",
        "  r = sensitivity(pred_ödemsiz[0,0,:,:],seg_ödemsiz_test[i,0,:,:])\n",
        "  sum_dice = sum_dice + dice\n",
        "  if isnan(r) == False:\n",
        "    sum_sensitivity = r + sum_sensitivity\n",
        "    a=a+1\n",
        "\n",
        "\n",
        "mean_dice = sum_dice / len(seg_ödemsiz_test)\n",
        "mean_sensitivity = sum_sensitivity / a\n",
        "\n",
        "\n",
        "print(mean_dice, mean_sensitivity)"
      ],
      "execution_count": null,
      "outputs": [
        {
          "output_type": "stream",
          "text": [
            "/usr/local/lib/python3.7/dist-packages/ipykernel_launcher.py:15: RuntimeWarning: invalid value encountered in long_scalars\n",
            "  from ipykernel import kernelapp as app\n"
          ],
          "name": "stderr"
        },
        {
          "output_type": "stream",
          "text": [
            "0.674109760515483 0.670677525028057\n"
          ],
          "name": "stdout"
        }
      ]
    },
    {
      "cell_type": "code",
      "metadata": {
        "colab": {
          "base_uri": "https://localhost:8080/"
        },
        "id": "q2pvF_OFrxyd",
        "outputId": "a3f2c280-9fd8-4973-b478-6d90964505fe"
      },
      "source": [
        "sum_sensitivity=0\n",
        "mean_sensitivity=0\n",
        "\n",
        "sum_dice=0\n",
        "mean_dice=0\n",
        "a=0\n",
        "for i in range(0,len(seg_tam_test)):\n",
        "  pred_tam = model_tam.predict(np.expand_dims(x_test[i,:,:,:],axis=0))\n",
        "  t1ce_tam = pred_tam[0] * t1ce_test[i]\n",
        "  expand_img = np.expand_dims(t1ce_tam,axis=0)\n",
        "  pred_ödemsiz = model_ödemsiz.predict(expand_img)\n",
        "  t1ce_ödemsiz = pred_ödemsiz[0]*t1ce_test[i]\n",
        "  expand_img = np.expand_dims(t1ce_ödemsiz,axis=0)\n",
        "  pred_geniş = model_genis.predict(expand_img)\n",
        "  dice = compute_dice(pred_tam[0,0,:,:],seg_tam_test[i,0,:,:])\n",
        "  r = sensitivity(pred_tam[0,0,:,:],seg_tam_test[i,0,:,:])\n",
        "  sum_dice = sum_dice + dice\n",
        "  if isnan(r) == False:\n",
        "    sum_sensitivity = r + sum_sensitivity\n",
        "  else:\n",
        "    r=0\n",
        "    sum_sensitivity = r + sum_sensitivity\n",
        "\n",
        "mean_dice = sum_dice / len(seg_ödemsiz_test)\n",
        "mean_sensitivity = sum_sensitivity / len(seg_tam_test)\n",
        "\n",
        "\n",
        "print(mean_dice, mean_sensitivity)"
      ],
      "execution_count": null,
      "outputs": [
        {
          "output_type": "stream",
          "text": [
            "/usr/local/lib/python3.7/dist-packages/ipykernel_launcher.py:15: RuntimeWarning: invalid value encountered in long_scalars\n",
            "  from ipykernel import kernelapp as app\n"
          ],
          "name": "stderr"
        },
        {
          "output_type": "stream",
          "text": [
            "0.8322886307316949 0.8142529513584802\n"
          ],
          "name": "stdout"
        }
      ]
    },
    {
      "cell_type": "code",
      "metadata": {
        "colab": {
          "base_uri": "https://localhost:8080/"
        },
        "id": "QnNaLexXJZVH",
        "outputId": "490d7eef-8722-46d3-db05-64fbcf6deea6"
      },
      "source": [
        "sum=0\n",
        "a=0\n",
        "mean=0\n",
        "for i in range(0,len(seg_tam_test)):\n",
        "  a=sensitivity(pred_tam[i][0],seg_tam_test[i][0])\n",
        "  if isnan(a) == False:\n",
        "    sum=a+sum\n",
        "mean=sum/len(seg_tam_test)\n",
        "print(mean)"
      ],
      "execution_count": null,
      "outputs": [
        {
          "output_type": "stream",
          "text": [
            "/usr/local/lib/python3.7/dist-packages/ipykernel_launcher.py:15: RuntimeWarning: invalid value encountered in long_scalars\n",
            "  from ipykernel import kernelapp as app\n"
          ],
          "name": "stderr"
        },
        {
          "output_type": "stream",
          "text": [
            "0.8142529568463687\n"
          ],
          "name": "stdout"
        }
      ]
    },
    {
      "cell_type": "code",
      "metadata": {
        "id": "jjav7qirdxIt"
      },
      "source": [
        "import skimage.io as io\n",
        "import matplotlib.pyplot as plt\n",
        "import numpy as np\n",
        "import glob\n",
        "import cv2"
      ],
      "execution_count": null,
      "outputs": []
    },
    {
      "cell_type": "code",
      "metadata": {
        "colab": {
          "base_uri": "https://localhost:8080/"
        },
        "id": "UbGuaz7Rxr0e",
        "outputId": "921fdb8e-67e6-40b0-9b94-636b55db66e1"
      },
      "source": [
        "!pip install simpleitk"
      ],
      "execution_count": null,
      "outputs": [
        {
          "output_type": "stream",
          "text": [
            "Collecting simpleitk\n",
            "\u001b[?25l  Downloading https://files.pythonhosted.org/packages/9c/6b/85df5eb3a8059b23a53a9f224476e75473f9bcc0a8583ed1a9c34619f372/SimpleITK-2.0.2-cp37-cp37m-manylinux2010_x86_64.whl (47.4MB)\n",
            "\u001b[K     |████████████████████████████████| 47.4MB 116kB/s \n",
            "\u001b[?25hInstalling collected packages: simpleitk\n",
            "Successfully installed simpleitk-2.0.2\n"
          ],
          "name": "stdout"
        }
      ]
    },
    {
      "cell_type": "code",
      "metadata": {
        "id": "1I1QdOz5eTb8"
      },
      "source": [
        "import numpy as np\n",
        "import random as r\n",
        "import glob\n",
        "\n",
        "def train_array(path,end):\n",
        "    files = glob.glob(path+end,recursive=True)\n",
        "    img_liste = []\n",
        "    r.seed(9)\n",
        "    r.shuffle(files)\n",
        "    for file in files:\n",
        "        img = io.imread(file, plugin='simpleitk')\n",
        "        img = (img-img.mean())/ img.std()\n",
        "        img = img.astype(np.float32)\n",
        "\n",
        "        for slice in range(50,130):\n",
        "            img_s = img[slice,:,:]\n",
        "            img_s = cv2.resize(img_s, (240,240))\n",
        "            img_s = np.expand_dims(img_s,axis=0)\n",
        "            img_liste.append(img_s)\n",
        "\n",
        "    return np.array(img_liste)"
      ],
      "execution_count": null,
      "outputs": []
    },
    {
      "cell_type": "code",
      "metadata": {
        "id": "8UsMJoBENGzS"
      },
      "source": [
        "t1ce = train_array('/content/drive/MyDrive/project/Unet_Brain_tumor_segmentation/MICCAI_BraTS2020_TrainingData/','**/*t1ce_nb4.nii.gz')"
      ],
      "execution_count": null,
      "outputs": []
    },
    {
      "cell_type": "code",
      "metadata": {
        "id": "dR3EIvu-NNX3"
      },
      "source": [
        "t1ce_test = train_array('/content/drive/MyDrive/MICCAI_BraTS2020_TestingData/','**/*t1ce_nb4.nii.gz')"
      ],
      "execution_count": null,
      "outputs": []
    },
    {
      "cell_type": "code",
      "metadata": {
        "id": "sMKlOQ2DDjqF"
      },
      "source": [
        "import numpy as np\n",
        "import random as r\n",
        "\n",
        "def seg_array(path,end,label):\n",
        "    files = glob.glob(path+end,recursive=True)\n",
        "    img_liste = []\n",
        "    r.seed(9)\n",
        "    r.shuffle(files)\n",
        "    for file in files:\n",
        "        img = io.imread(file, plugin='simpleitk')\n",
        "\n",
        "        if label == 1:\n",
        "          img[img != 0] = 1 #tam tümör\n",
        "        elif label == 2:\n",
        "          img[img != 1] = 0 #nekroz\n",
        "        elif label == 3:\n",
        "          img[img == 2] = 0\n",
        "          img[img != 0] = 1 #ödemsiz tümör\n",
        "        elif label == 4:\n",
        "          img[img != 4] = 0\n",
        "          img[img == 4] = 1 #genişleyen tümör\n",
        "\n",
        "        img=img.astype(np.float32)\n",
        "\n",
        "        for slice in range(50,130):\n",
        "            img_s = img[slice,:,:]\n",
        "            img_s = cv2.resize(img_s, (240,240))\n",
        "            img_s = np.expand_dims(img_s,axis=0)\n",
        "            img_liste.append(img_s)\n",
        "\n",
        "    return np.array(img_liste)"
      ],
      "execution_count": null,
      "outputs": []
    },
    {
      "cell_type": "code",
      "metadata": {
        "id": "o9nVB0nzJ2cm"
      },
      "source": [
        "seg_tam = seg_array('/content/drive/MyDrive/project/Unet_Brain_tumor_segmentation/MICCAI_BraTS2020_TrainingData/','**/*seg.nii.gz',1)"
      ],
      "execution_count": null,
      "outputs": []
    },
    {
      "cell_type": "code",
      "metadata": {
        "id": "KbjVkIrpHS0j"
      },
      "source": [
        "seg_tam_test = seg_array('/content/drive/MyDrive/MICCAI_BraTS2020_TestingData/','**/*seg.nii.gz',1)"
      ],
      "execution_count": null,
      "outputs": []
    },
    {
      "cell_type": "code",
      "metadata": {
        "id": "jOEo1F16tKXC"
      },
      "source": [
        "seg_nekroz = seg_array('/content/drive/MyDrive/MICCAI_BraTS2020_TrainingData/','**/*seg.nii.gz',2)"
      ],
      "execution_count": null,
      "outputs": []
    },
    {
      "cell_type": "code",
      "metadata": {
        "id": "wfWC8FhycuB5"
      },
      "source": [
        "seg_nekroz_test = seg_array('/content/drive/MyDrive/MICCAI_BraTS2020_TestingData/','**/*seg.nii.gz',2)"
      ],
      "execution_count": null,
      "outputs": []
    },
    {
      "cell_type": "code",
      "metadata": {
        "id": "htFfFdk2bL2T"
      },
      "source": [
        "seg_ödemsiz = seg_array('/content/drive/MyDrive/project/Unet_Brain_tumor_segmentation/MICCAI_BraTS2020_TrainingData/','**/*seg.nii.gz',3)"
      ],
      "execution_count": null,
      "outputs": []
    },
    {
      "cell_type": "code",
      "metadata": {
        "id": "eCe3xyPC-jQn"
      },
      "source": [
        "seg_ödemsiz_test = seg_array('/content/drive/MyDrive/MICCAI_BraTS2020_TestingData/','**/*seg.nii.gz',3)"
      ],
      "execution_count": null,
      "outputs": []
    },
    {
      "cell_type": "code",
      "metadata": {
        "id": "W5081XKRqYLJ"
      },
      "source": [
        "seg_geniş = seg_array('/content/drive/MyDrive/project/Unet_Brain_tumor_segmentation/MICCAI_BraTS2020_TrainingData/','**/*seg.nii.gz',4)"
      ],
      "execution_count": null,
      "outputs": []
    },
    {
      "cell_type": "code",
      "metadata": {
        "id": "Z3ApKC2pGOMO"
      },
      "source": [
        "seg_geniş_test = seg_array('/content/drive/MyDrive/MICCAI_BraTS2020_TestingData/','**/*seg.nii.gz',4)"
      ],
      "execution_count": null,
      "outputs": []
    },
    {
      "cell_type": "code",
      "metadata": {
        "id": "PhcrQCtyqy6B"
      },
      "source": [
        "seg_orj = seg_array('/content/drive/MyDrive/project/Unet_Brain_tumor_segmentation/MICCAI_BraTS2020_TrainingData/','**/*seg.nii.gz',0)"
      ],
      "execution_count": null,
      "outputs": []
    },
    {
      "cell_type": "code",
      "metadata": {
        "id": "IY2qJlbgCV1s"
      },
      "source": [
        "seg_orj = seg_array('/content/drive/MyDrive/MICCAI_BraTS2020_TestingData/','**/*seg.nii.gz',0)"
      ],
      "execution_count": null,
      "outputs": []
    },
    {
      "cell_type": "code",
      "metadata": {
        "colab": {
          "base_uri": "https://localhost:8080/"
        },
        "id": "BOw8VCDf3JG6",
        "outputId": "a3ad4634-b7f9-485c-eac6-7ecdad2d05c1"
      },
      "source": [
        "!unzip /content/drive/MyDrive/t1ce_ödemsiz.zip"
      ],
      "execution_count": null,
      "outputs": [
        {
          "output_type": "stream",
          "text": [
            "Archive:  /content/drive/MyDrive/t1ce_ödemsiz.zip\n",
            "  inflating: t1ce_ödemsiz.npy       \n",
            "  inflating: t1ce_ödemsiz_test.npy  \n"
          ],
          "name": "stdout"
        }
      ]
    },
    {
      "cell_type": "code",
      "metadata": {
        "colab": {
          "base_uri": "https://localhost:8080/"
        },
        "id": "NhBL8DUx3JG7",
        "outputId": "2258ba91-8b39-4fd9-9cc7-3291de6c753b"
      },
      "source": [
        "!unzip /content/drive/MyDrive/x_test.zip"
      ],
      "execution_count": null,
      "outputs": [
        {
          "output_type": "stream",
          "text": [
            "Archive:  /content/drive/MyDrive/x_test.zip\n",
            "  inflating: x_test.npy              \n"
          ],
          "name": "stdout"
        }
      ]
    },
    {
      "cell_type": "code",
      "metadata": {
        "id": "hR2vGQsa3JG8"
      },
      "source": [
        "x_test = np.load ('x_test.npy')"
      ],
      "execution_count": null,
      "outputs": []
    },
    {
      "cell_type": "code",
      "metadata": {
        "id": "q_AEL1iL3JG8"
      },
      "source": [
        "t1ce_tam_test = np.load ('t1ce_ödemsiz_test.npy')"
      ],
      "execution_count": null,
      "outputs": []
    },
    {
      "cell_type": "code",
      "metadata": {
        "id": "wzz5UGv8gYJM"
      },
      "source": [
        "from keras.models import Model\n",
        "from keras.layers import Dense, Dropout, Activation, Flatten\n",
        "from keras.layers import concatenate, Conv2D, MaxPooling2D, Conv2DTranspose\n",
        "from keras.layers import Input, merge, UpSampling2D,BatchNormalization\n",
        "from keras.callbacks import ModelCheckpoint\n",
        "from keras.optimizers import Adam\n",
        "from keras.preprocessing.image import ImageDataGenerator\n",
        "from keras import backend as K\n",
        "import tensorflow as tf\n",
        "\n",
        "\n",
        "def dice_coef(y_true, y_pred):\n",
        "    smooth = 0.005\n",
        "    y_true_f = K.flatten(y_true)\n",
        "    y_pred_f = K.flatten(y_pred)\n",
        "    intersection = K.sum(y_true_f * y_pred_f)\n",
        "    return (2. * intersection + smooth) / (K.sum(y_true_f) + K.sum(y_pred_f) + smooth)\n",
        "\n",
        "\n",
        "def dice_coef_loss(y_true, y_pred):\n",
        "    return 1-dice_coef(y_true, y_pred)\n",
        "\n",
        "K.set_image_data_format('channels_first')\n",
        "\n",
        "def unet_plusplus_model():\n",
        "\n",
        "    inputs = Input((1, 240 , 240))\n",
        "\n",
        "    conv1 = Conv2D(64, (3, 3), activation='relu', padding='same') (inputs)\n",
        "    batch1 = BatchNormalization(axis=1)(conv1)\n",
        "    conv1 = Conv2D(64, (3, 3), activation='relu', padding='same') (batch1)\n",
        "    batch1 = BatchNormalization(axis=1)(conv1)\n",
        "    pool1 = MaxPooling2D((2, 2)) (batch1)\n",
        "\n",
        "    conv2 = Conv2D(128, (3, 3), activation='relu', padding='same') (pool1)\n",
        "    batch2 = BatchNormalization(axis=1)(conv2)\n",
        "    conv2 = Conv2D(128, (3, 3), activation='relu', padding='same') (batch2)\n",
        "    batch2 = BatchNormalization(axis=1)(conv2)\n",
        "    pool2 = MaxPooling2D((2, 2)) (batch2)\n",
        "\n",
        "    up3 = Conv2DTranspose(64, (2, 2), strides=(2, 2), padding='same') (conv2)\n",
        "    up3 = concatenate([up3, conv1], axis=1)\n",
        "    conv3 = Conv2D(64, (3, 3), activation='relu', padding='same') (up3)\n",
        "    batch3 = BatchNormalization(axis=1)(conv3)\n",
        "    conv3 = Conv2D(64, (3, 3), activation='relu', padding='same') (batch3)\n",
        "    batch3 = BatchNormalization(axis=1)(conv3)\n",
        "\n",
        "    conv4 = Conv2D(256, (3, 3), activation='relu', padding='same') (pool2)\n",
        "    batch4 = BatchNormalization(axis=1)(conv4)\n",
        "    conv4 = Conv2D(256, (3, 3), activation='relu', padding='same') (batch4)\n",
        "    batch4 = BatchNormalization(axis=1)(conv4)\n",
        "    pool3 = MaxPooling2D(pool_size=(2, 2)) (batch4)\n",
        "\n",
        "    up5 = Conv2DTranspose(128, (2, 2), strides=(2, 2), padding='same') (conv4)\n",
        "    up5 = concatenate([up5, conv2], axis=1)\n",
        "    conv5 = Conv2D(128, (3, 3), activation='relu', padding='same') (up5)\n",
        "    batch5 = BatchNormalization(axis=1)(conv5)\n",
        "    conv5 = Conv2D(128, (3, 3), activation='relu', padding='same') (batch5)\n",
        "    batch5 = BatchNormalization(axis=1)(conv5)\n",
        "\n",
        "    up6 = Conv2DTranspose(64, (2, 2), strides=(2, 2), padding='same') (conv5)\n",
        "    up6 = concatenate([up6, conv1, conv3], axis=1)\n",
        "    conv6 = Conv2D(64, (3, 3), activation='relu', padding='same') (up6)\n",
        "    batch6 = BatchNormalization(axis=1)(conv6)\n",
        "    conv6 = Conv2D(64, (3, 3), activation='relu', padding='same') (batch6)\n",
        "    batch6 = BatchNormalization(axis=1)(conv6)\n",
        "\n",
        "    conv7 = Conv2D(512, (3, 3), activation='relu', padding='same') (pool3)\n",
        "    batch7 = BatchNormalization(axis=1)(conv7)\n",
        "    conv7 = Conv2D(512, (3, 3), activation='relu', padding='same') (batch7)\n",
        "    batch7 = BatchNormalization(axis=1)(conv7)\n",
        "    pool4 = MaxPooling2D(pool_size=(2, 2))(conv7)\n",
        "\n",
        "\n",
        "    up8 = Conv2DTranspose(256, (2, 2), strides=(2, 2), padding='same') (conv7)\n",
        "    up8 = concatenate([up8, conv4], axis=1)\n",
        "    conv8 = Conv2D(256, (3, 3), activation='relu', padding='same') (up8)\n",
        "    batch8 = BatchNormalization(axis=1)(conv8)\n",
        "    conv8 = Conv2D(256, (3, 3), activation='relu', padding='same') (batch8)\n",
        "    batch8 = BatchNormalization(axis=1)(conv8)\n",
        "\n",
        "    up9 = Conv2DTranspose(128, (2, 2), strides=(2, 2), padding='same') (conv8)\n",
        "    up9 = concatenate([up9, conv2, conv5], axis=1)\n",
        "    conv9 = Conv2D(128, (3, 3), activation='relu', padding='same') (up9)\n",
        "    batch9 = BatchNormalization(axis=1)(conv9)\n",
        "    conv9 = Conv2D(128, (3, 3), activation='relu', padding='same') (batch9)\n",
        "    batch9 = BatchNormalization(axis=1)(conv9)\n",
        "\n",
        "    up10 = Conv2DTranspose(64, (2, 2), strides=(2, 2), padding='same') (conv9)\n",
        "    up10 = concatenate([up10, conv1, conv3, conv6], axis=1)\n",
        "    conv10 = Conv2D(64, (3, 3), activation='relu', padding='same') (up10)\n",
        "    batch10 = BatchNormalization(axis=1)(conv10)\n",
        "    conv10 = Conv2D(64, (3, 3), activation='relu', padding='same') (batch10)\n",
        "    batch10 = BatchNormalization(axis=1)(conv10)\n",
        "\n",
        "    conv11 = Conv2D(1024, (3, 3), activation='relu', padding='same') (pool4)\n",
        "    batch11 = BatchNormalization(axis=1)(conv11)\n",
        "    conv11 = Conv2D(1024, (3, 3), activation='relu', padding='same') (batch11)\n",
        "    batch11 = BatchNormalization(axis=1)(conv11)\n",
        "\n",
        "    up12 = Conv2DTranspose(512, (2, 2), strides=(2, 2), padding='same') (conv11)\n",
        "    up12 = concatenate([up12, conv7], axis=1)\n",
        "    conv12 = Conv2D(512, (3, 3), activation='relu', padding='same') (up12)\n",
        "    batch12 = BatchNormalization(axis=1)(conv12)\n",
        "    conv12 = Conv2D(512, (3, 3), activation='relu', padding='same') (batch12)\n",
        "    batch12 = BatchNormalization(axis=1)(conv12)\n",
        "\n",
        "    up13 = Conv2DTranspose(256, (2, 2), strides=(2, 2), padding='same') (conv12)\n",
        "    up13 = concatenate([up13, conv4, conv8], axis=1)\n",
        "    conv13 = Conv2D(256, (3, 3), activation='relu', padding='same') (up13)\n",
        "    batch13 = BatchNormalization(axis=1)(conv13)\n",
        "    conv13 = Conv2D(256, (3, 3), activation='relu', padding='same') (batch13)\n",
        "    batch13 = BatchNormalization(axis=1)(conv13)\n",
        "\n",
        "    up14 = Conv2DTranspose(128, (2, 2), strides=(2, 2), padding='same') (conv13)\n",
        "    up14 = concatenate([up14, conv2, conv5, conv9], axis=1)\n",
        "    conv14 = Conv2D(128, (3, 3), activation='relu', padding='same') (up14)\n",
        "    batch14 = BatchNormalization(axis=1)(conv14)\n",
        "    conv14 = Conv2D(128, (3, 3), activation='relu', padding='same') (batch14)\n",
        "    batch14 = BatchNormalization(axis=1)(conv14)\n",
        "\n",
        "    up15 = Conv2DTranspose(64, (2, 2), strides=(2, 2), padding='same') (conv14)\n",
        "    up15 = concatenate([up15, conv1, conv3, conv6, conv10], axis=1)\n",
        "    conv15 = Conv2D(64, (3, 3), activation='relu', padding='same') (up15)\n",
        "    batch15 = BatchNormalization(axis=1)(conv15)\n",
        "    conv15 = Conv2D(64, (3, 3), activation='relu', padding='same') (batch15)\n",
        "    batch15 = BatchNormalization(axis=1)(conv15)\n",
        "\n",
        "    nestnet_output_1 = Conv2D(1, (1, 1), activation='sigmoid', name='output_1', padding='same')(conv3)\n",
        "    nestnet_output_2 = Conv2D(1, (1, 1), activation='sigmoid', name='output_2', padding='same')(conv6)\n",
        "    nestnet_output_3 = Conv2D(1, (1, 1), activation='sigmoid', name='output_3', padding='same')(conv10)\n",
        "    nestnet_output_4 = Conv2D(1, (1, 1), activation='sigmoid', name='output_4', padding='same')(conv15)\n",
        "\n",
        "\n",
        "    model = Model(inputs=inputs, outputs=[nestnet_output_4])\n",
        "\n",
        "    return model"
      ],
      "execution_count": null,
      "outputs": []
    },
    {
      "cell_type": "code",
      "metadata": {
        "colab": {
          "base_uri": "https://localhost:8080/"
        },
        "id": "oimkxabvvs3K",
        "outputId": "fa3ae12f-1a1c-41d4-dda1-f3220dc6f715"
      },
      "source": [
        "model_unetplusplus = unet_plusplus_model()\n",
        "model_unetplusplus.summary()"
      ],
      "execution_count": null,
      "outputs": [
        {
          "output_type": "stream",
          "text": [
            "Model: \"model\"\n",
            "__________________________________________________________________________________________________\n",
            "Layer (type)                    Output Shape         Param #     Connected to                     \n",
            "==================================================================================================\n",
            "input_1 (InputLayer)            [(None, 1, 240, 240) 0                                            \n",
            "__________________________________________________________________________________________________\n",
            "conv2d (Conv2D)                 (None, 64, 240, 240) 640         input_1[0][0]                    \n",
            "__________________________________________________________________________________________________\n",
            "batch_normalization (BatchNorma (None, 64, 240, 240) 256         conv2d[0][0]                     \n",
            "__________________________________________________________________________________________________\n",
            "conv2d_1 (Conv2D)               (None, 64, 240, 240) 36928       batch_normalization[0][0]        \n",
            "__________________________________________________________________________________________________\n",
            "batch_normalization_1 (BatchNor (None, 64, 240, 240) 256         conv2d_1[0][0]                   \n",
            "__________________________________________________________________________________________________\n",
            "max_pooling2d (MaxPooling2D)    (None, 64, 120, 120) 0           batch_normalization_1[0][0]      \n",
            "__________________________________________________________________________________________________\n",
            "conv2d_2 (Conv2D)               (None, 128, 120, 120 73856       max_pooling2d[0][0]              \n",
            "__________________________________________________________________________________________________\n",
            "batch_normalization_2 (BatchNor (None, 128, 120, 120 512         conv2d_2[0][0]                   \n",
            "__________________________________________________________________________________________________\n",
            "conv2d_3 (Conv2D)               (None, 128, 120, 120 147584      batch_normalization_2[0][0]      \n",
            "__________________________________________________________________________________________________\n",
            "batch_normalization_3 (BatchNor (None, 128, 120, 120 512         conv2d_3[0][0]                   \n",
            "__________________________________________________________________________________________________\n",
            "max_pooling2d_1 (MaxPooling2D)  (None, 128, 60, 60)  0           batch_normalization_3[0][0]      \n",
            "__________________________________________________________________________________________________\n",
            "conv2d_6 (Conv2D)               (None, 256, 60, 60)  295168      max_pooling2d_1[0][0]            \n",
            "__________________________________________________________________________________________________\n",
            "batch_normalization_6 (BatchNor (None, 256, 60, 60)  1024        conv2d_6[0][0]                   \n",
            "__________________________________________________________________________________________________\n",
            "conv2d_7 (Conv2D)               (None, 256, 60, 60)  590080      batch_normalization_6[0][0]      \n",
            "__________________________________________________________________________________________________\n",
            "batch_normalization_7 (BatchNor (None, 256, 60, 60)  1024        conv2d_7[0][0]                   \n",
            "__________________________________________________________________________________________________\n",
            "max_pooling2d_2 (MaxPooling2D)  (None, 256, 30, 30)  0           batch_normalization_7[0][0]      \n",
            "__________________________________________________________________________________________________\n",
            "conv2d_12 (Conv2D)              (None, 512, 30, 30)  1180160     max_pooling2d_2[0][0]            \n",
            "__________________________________________________________________________________________________\n",
            "batch_normalization_12 (BatchNo (None, 512, 30, 30)  2048        conv2d_12[0][0]                  \n",
            "__________________________________________________________________________________________________\n",
            "conv2d_13 (Conv2D)              (None, 512, 30, 30)  2359808     batch_normalization_12[0][0]     \n",
            "__________________________________________________________________________________________________\n",
            "max_pooling2d_3 (MaxPooling2D)  (None, 512, 15, 15)  0           conv2d_13[0][0]                  \n",
            "__________________________________________________________________________________________________\n",
            "conv2d_20 (Conv2D)              (None, 1024, 15, 15) 4719616     max_pooling2d_3[0][0]            \n",
            "__________________________________________________________________________________________________\n",
            "batch_normalization_20 (BatchNo (None, 1024, 15, 15) 4096        conv2d_20[0][0]                  \n",
            "__________________________________________________________________________________________________\n",
            "conv2d_21 (Conv2D)              (None, 1024, 15, 15) 9438208     batch_normalization_20[0][0]     \n",
            "__________________________________________________________________________________________________\n",
            "conv2d_transpose_6 (Conv2DTrans (None, 512, 30, 30)  2097664     conv2d_21[0][0]                  \n",
            "__________________________________________________________________________________________________\n",
            "concatenate_6 (Concatenate)     (None, 1024, 30, 30) 0           conv2d_transpose_6[0][0]         \n",
            "                                                                 conv2d_13[0][0]                  \n",
            "__________________________________________________________________________________________________\n",
            "conv2d_transpose_3 (Conv2DTrans (None, 256, 60, 60)  524544      conv2d_13[0][0]                  \n",
            "__________________________________________________________________________________________________\n",
            "conv2d_22 (Conv2D)              (None, 512, 30, 30)  4719104     concatenate_6[0][0]              \n",
            "__________________________________________________________________________________________________\n",
            "concatenate_3 (Concatenate)     (None, 512, 60, 60)  0           conv2d_transpose_3[0][0]         \n",
            "                                                                 conv2d_7[0][0]                   \n",
            "__________________________________________________________________________________________________\n",
            "conv2d_transpose_1 (Conv2DTrans (None, 128, 120, 120 131200      conv2d_7[0][0]                   \n",
            "__________________________________________________________________________________________________\n",
            "batch_normalization_22 (BatchNo (None, 512, 30, 30)  2048        conv2d_22[0][0]                  \n",
            "__________________________________________________________________________________________________\n",
            "conv2d_14 (Conv2D)              (None, 256, 60, 60)  1179904     concatenate_3[0][0]              \n",
            "__________________________________________________________________________________________________\n",
            "concatenate_1 (Concatenate)     (None, 256, 120, 120 0           conv2d_transpose_1[0][0]         \n",
            "                                                                 conv2d_3[0][0]                   \n",
            "__________________________________________________________________________________________________\n",
            "conv2d_transpose (Conv2DTranspo (None, 64, 240, 240) 32832       conv2d_3[0][0]                   \n",
            "__________________________________________________________________________________________________\n",
            "conv2d_23 (Conv2D)              (None, 512, 30, 30)  2359808     batch_normalization_22[0][0]     \n",
            "__________________________________________________________________________________________________\n",
            "batch_normalization_14 (BatchNo (None, 256, 60, 60)  1024        conv2d_14[0][0]                  \n",
            "__________________________________________________________________________________________________\n",
            "conv2d_8 (Conv2D)               (None, 128, 120, 120 295040      concatenate_1[0][0]              \n",
            "__________________________________________________________________________________________________\n",
            "concatenate (Concatenate)       (None, 128, 240, 240 0           conv2d_transpose[0][0]           \n",
            "                                                                 conv2d_1[0][0]                   \n",
            "__________________________________________________________________________________________________\n",
            "conv2d_transpose_7 (Conv2DTrans (None, 256, 60, 60)  524544      conv2d_23[0][0]                  \n",
            "__________________________________________________________________________________________________\n",
            "conv2d_15 (Conv2D)              (None, 256, 60, 60)  590080      batch_normalization_14[0][0]     \n",
            "__________________________________________________________________________________________________\n",
            "batch_normalization_8 (BatchNor (None, 128, 120, 120 512         conv2d_8[0][0]                   \n",
            "__________________________________________________________________________________________________\n",
            "conv2d_4 (Conv2D)               (None, 64, 240, 240) 73792       concatenate[0][0]                \n",
            "__________________________________________________________________________________________________\n",
            "concatenate_7 (Concatenate)     (None, 768, 60, 60)  0           conv2d_transpose_7[0][0]         \n",
            "                                                                 conv2d_7[0][0]                   \n",
            "                                                                 conv2d_15[0][0]                  \n",
            "__________________________________________________________________________________________________\n",
            "conv2d_9 (Conv2D)               (None, 128, 120, 120 147584      batch_normalization_8[0][0]      \n",
            "__________________________________________________________________________________________________\n",
            "conv2d_transpose_4 (Conv2DTrans (None, 128, 120, 120 131200      conv2d_15[0][0]                  \n",
            "__________________________________________________________________________________________________\n",
            "batch_normalization_4 (BatchNor (None, 64, 240, 240) 256         conv2d_4[0][0]                   \n",
            "__________________________________________________________________________________________________\n",
            "conv2d_24 (Conv2D)              (None, 256, 60, 60)  1769728     concatenate_7[0][0]              \n",
            "__________________________________________________________________________________________________\n",
            "concatenate_4 (Concatenate)     (None, 384, 120, 120 0           conv2d_transpose_4[0][0]         \n",
            "                                                                 conv2d_3[0][0]                   \n",
            "                                                                 conv2d_9[0][0]                   \n",
            "__________________________________________________________________________________________________\n",
            "conv2d_5 (Conv2D)               (None, 64, 240, 240) 36928       batch_normalization_4[0][0]      \n",
            "__________________________________________________________________________________________________\n",
            "conv2d_transpose_2 (Conv2DTrans (None, 64, 240, 240) 32832       conv2d_9[0][0]                   \n",
            "__________________________________________________________________________________________________\n",
            "batch_normalization_24 (BatchNo (None, 256, 60, 60)  1024        conv2d_24[0][0]                  \n",
            "__________________________________________________________________________________________________\n",
            "conv2d_16 (Conv2D)              (None, 128, 120, 120 442496      concatenate_4[0][0]              \n",
            "__________________________________________________________________________________________________\n",
            "concatenate_2 (Concatenate)     (None, 192, 240, 240 0           conv2d_transpose_2[0][0]         \n",
            "                                                                 conv2d_1[0][0]                   \n",
            "                                                                 conv2d_5[0][0]                   \n",
            "__________________________________________________________________________________________________\n",
            "conv2d_25 (Conv2D)              (None, 256, 60, 60)  590080      batch_normalization_24[0][0]     \n",
            "__________________________________________________________________________________________________\n",
            "batch_normalization_16 (BatchNo (None, 128, 120, 120 512         conv2d_16[0][0]                  \n",
            "__________________________________________________________________________________________________\n",
            "conv2d_10 (Conv2D)              (None, 64, 240, 240) 110656      concatenate_2[0][0]              \n",
            "__________________________________________________________________________________________________\n",
            "conv2d_transpose_8 (Conv2DTrans (None, 128, 120, 120 131200      conv2d_25[0][0]                  \n",
            "__________________________________________________________________________________________________\n",
            "conv2d_17 (Conv2D)              (None, 128, 120, 120 147584      batch_normalization_16[0][0]     \n",
            "__________________________________________________________________________________________________\n",
            "batch_normalization_10 (BatchNo (None, 64, 240, 240) 256         conv2d_10[0][0]                  \n",
            "__________________________________________________________________________________________________\n",
            "concatenate_8 (Concatenate)     (None, 512, 120, 120 0           conv2d_transpose_8[0][0]         \n",
            "                                                                 conv2d_3[0][0]                   \n",
            "                                                                 conv2d_9[0][0]                   \n",
            "                                                                 conv2d_17[0][0]                  \n",
            "__________________________________________________________________________________________________\n",
            "conv2d_11 (Conv2D)              (None, 64, 240, 240) 36928       batch_normalization_10[0][0]     \n",
            "__________________________________________________________________________________________________\n",
            "conv2d_transpose_5 (Conv2DTrans (None, 64, 240, 240) 32832       conv2d_17[0][0]                  \n",
            "__________________________________________________________________________________________________\n",
            "conv2d_26 (Conv2D)              (None, 128, 120, 120 589952      concatenate_8[0][0]              \n",
            "__________________________________________________________________________________________________\n",
            "concatenate_5 (Concatenate)     (None, 256, 240, 240 0           conv2d_transpose_5[0][0]         \n",
            "                                                                 conv2d_1[0][0]                   \n",
            "                                                                 conv2d_5[0][0]                   \n",
            "                                                                 conv2d_11[0][0]                  \n",
            "__________________________________________________________________________________________________\n",
            "batch_normalization_26 (BatchNo (None, 128, 120, 120 512         conv2d_26[0][0]                  \n",
            "__________________________________________________________________________________________________\n",
            "conv2d_18 (Conv2D)              (None, 64, 240, 240) 147520      concatenate_5[0][0]              \n",
            "__________________________________________________________________________________________________\n",
            "conv2d_27 (Conv2D)              (None, 128, 120, 120 147584      batch_normalization_26[0][0]     \n",
            "__________________________________________________________________________________________________\n",
            "batch_normalization_18 (BatchNo (None, 64, 240, 240) 256         conv2d_18[0][0]                  \n",
            "__________________________________________________________________________________________________\n",
            "conv2d_transpose_9 (Conv2DTrans (None, 64, 240, 240) 32832       conv2d_27[0][0]                  \n",
            "__________________________________________________________________________________________________\n",
            "conv2d_19 (Conv2D)              (None, 64, 240, 240) 36928       batch_normalization_18[0][0]     \n",
            "__________________________________________________________________________________________________\n",
            "concatenate_9 (Concatenate)     (None, 320, 240, 240 0           conv2d_transpose_9[0][0]         \n",
            "                                                                 conv2d_1[0][0]                   \n",
            "                                                                 conv2d_5[0][0]                   \n",
            "                                                                 conv2d_11[0][0]                  \n",
            "                                                                 conv2d_19[0][0]                  \n",
            "__________________________________________________________________________________________________\n",
            "conv2d_28 (Conv2D)              (None, 64, 240, 240) 184384      concatenate_9[0][0]              \n",
            "__________________________________________________________________________________________________\n",
            "batch_normalization_28 (BatchNo (None, 64, 240, 240) 256         conv2d_28[0][0]                  \n",
            "__________________________________________________________________________________________________\n",
            "conv2d_29 (Conv2D)              (None, 64, 240, 240) 36928       batch_normalization_28[0][0]     \n",
            "__________________________________________________________________________________________________\n",
            "output_4 (Conv2D)               (None, 1, 240, 240)  65          conv2d_29[0][0]                  \n",
            "==================================================================================================\n",
            "Total params: 36,173,185\n",
            "Trainable params: 36,164,993\n",
            "Non-trainable params: 8,192\n",
            "__________________________________________________________________________________________________\n"
          ],
          "name": "stdout"
        }
      ]
    },
    {
      "cell_type": "code",
      "metadata": {
        "id": "pktlCQfwUvcX",
        "colab": {
          "base_uri": "https://localhost:8080/"
        },
        "outputId": "4b969592-e9a4-42e3-9ca0-a7f38e54bece"
      },
      "source": [
        "model_unetplusplus.compile(optimizer=Adam(lr=1e-4), loss=dice_coef_loss, metrics=[dice_coef])"
      ],
      "execution_count": null,
      "outputs": [
        {
          "output_type": "stream",
          "text": [
            "/usr/local/lib/python3.7/dist-packages/tensorflow/python/keras/optimizer_v2/optimizer_v2.py:375: UserWarning: The `lr` argument is deprecated, use `learning_rate` instead.\n",
            "  \"The `lr` argument is deprecated, use `learning_rate` instead.\")\n"
          ],
          "name": "stderr"
        }
      ]
    },
    {
      "cell_type": "code",
      "metadata": {
        "colab": {
          "base_uri": "https://localhost:8080/"
        },
        "id": "ANGCyYfeQMzd",
        "outputId": "f1d40c05-7df6-4860-d4aa-5f9acaa55fc8"
      },
      "source": [
        "history = model_unetplusplus.fit(t1ce_tam, seg_geniş,\n",
        "          validation_data = (t1ce_tam_test,seg_geniş_test),\n",
        "          epochs = 30,\n",
        "          batch_size = 3,\n",
        "          shuffle = True)"
      ],
      "execution_count": null,
      "outputs": [
        {
          "output_type": "stream",
          "text": [
            "Epoch 1/30\n",
            "7894/7894 [==============================] - 1066s 130ms/step - loss: 0.2481 - dice_coef: 0.7519 - val_loss: 0.2498 - val_dice_coef: 0.7502\n",
            "Epoch 2/30\n",
            "7894/7894 [==============================] - 1018s 129ms/step - loss: 0.1485 - dice_coef: 0.8515 - val_loss: 0.2505 - val_dice_coef: 0.7495\n",
            "Epoch 3/30\n",
            "7894/7894 [==============================] - 1018s 129ms/step - loss: 0.1425 - dice_coef: 0.8575 - val_loss: 0.2356 - val_dice_coef: 0.7644\n",
            "Epoch 4/30\n",
            "7894/7894 [==============================] - 1018s 129ms/step - loss: 0.1351 - dice_coef: 0.8649 - val_loss: 0.2679 - val_dice_coef: 0.7321\n",
            "Epoch 5/30\n",
            "7894/7894 [==============================] - 1017s 129ms/step - loss: 0.1429 - dice_coef: 0.8571 - val_loss: 0.2505 - val_dice_coef: 0.7496\n",
            "Epoch 6/30\n",
            "7894/7894 [==============================] - 1017s 129ms/step - loss: 0.1337 - dice_coef: 0.8663 - val_loss: 0.2510 - val_dice_coef: 0.7491\n",
            "Epoch 7/30\n",
            "7894/7894 [==============================] - 1018s 129ms/step - loss: 0.1329 - dice_coef: 0.8671 - val_loss: 0.2650 - val_dice_coef: 0.7350\n",
            "Epoch 8/30\n",
            "7894/7894 [==============================] - 1018s 129ms/step - loss: 0.1254 - dice_coef: 0.8746 - val_loss: 0.2665 - val_dice_coef: 0.7335\n",
            "Epoch 9/30\n",
            "7894/7894 [==============================] - 1018s 129ms/step - loss: 0.1221 - dice_coef: 0.8779 - val_loss: 0.2615 - val_dice_coef: 0.7385\n",
            "Epoch 10/30\n",
            "7894/7894 [==============================] - 1018s 129ms/step - loss: 0.1250 - dice_coef: 0.8750 - val_loss: 0.2653 - val_dice_coef: 0.7348\n",
            "Epoch 11/30\n",
            "7894/7894 [==============================] - 1019s 129ms/step - loss: 0.1307 - dice_coef: 0.8693 - val_loss: 0.2646 - val_dice_coef: 0.7355\n",
            "Epoch 12/30\n",
            "7894/7894 [==============================] - 1017s 129ms/step - loss: 0.1205 - dice_coef: 0.8795 - val_loss: 0.2276 - val_dice_coef: 0.7724\n",
            "Epoch 13/30\n",
            "7894/7894 [==============================] - 1016s 129ms/step - loss: 0.1474 - dice_coef: 0.8526 - val_loss: 0.2223 - val_dice_coef: 0.7778\n",
            "Epoch 14/30\n",
            "7894/7894 [==============================] - 1017s 129ms/step - loss: 0.1237 - dice_coef: 0.8763 - val_loss: 0.2349 - val_dice_coef: 0.7652\n",
            "Epoch 15/30\n",
            "7894/7894 [==============================] - 1017s 129ms/step - loss: 0.1303 - dice_coef: 0.8697 - val_loss: 0.2678 - val_dice_coef: 0.7322\n",
            "Epoch 16/30\n",
            "7894/7894 [==============================] - 1019s 129ms/step - loss: 0.1169 - dice_coef: 0.8831 - val_loss: 0.2411 - val_dice_coef: 0.7590\n",
            "Epoch 17/30\n",
            "7894/7894 [==============================] - 1018s 129ms/step - loss: 0.1163 - dice_coef: 0.8837 - val_loss: 0.2585 - val_dice_coef: 0.7416\n",
            "Epoch 18/30\n",
            "7894/7894 [==============================] - 1017s 129ms/step - loss: 0.1147 - dice_coef: 0.8853 - val_loss: 0.2615 - val_dice_coef: 0.7386\n",
            "Epoch 19/30\n",
            "7894/7894 [==============================] - 1018s 129ms/step - loss: 0.1145 - dice_coef: 0.8855 - val_loss: 0.2488 - val_dice_coef: 0.7512\n",
            "Epoch 20/30\n",
            "7894/7894 [==============================] - 1018s 129ms/step - loss: 0.1114 - dice_coef: 0.8886 - val_loss: 0.3360 - val_dice_coef: 0.6641\n",
            "Epoch 21/30\n",
            "7894/7894 [==============================] - 1017s 129ms/step - loss: 0.1096 - dice_coef: 0.8904 - val_loss: 0.2299 - val_dice_coef: 0.7702\n",
            "Epoch 22/30\n",
            "1544/7894 [====>.........................] - ETA: 12:41 - loss: 0.1105 - dice_coef: 0.8895"
          ],
          "name": "stdout"
        }
      ]
    },
    {
      "cell_type": "code",
      "metadata": {
        "id": "rwxf8SdJVU4u"
      },
      "source": [
        "print(history.history.keys())\n",
        "# summarize history for accuracy\n",
        "plt.plot(history.history['dice_coef'])\n",
        "plt.plot(history.history['val_dice_coef'])\n",
        "plt.title('model dice coef')\n",
        "plt.ylabel('dice_coef')\n",
        "plt.xlabel('epoch')\n",
        "plt.legend(['train', 'test'], loc='upper left')\n",
        "plt.show()\n",
        "# summarize history for loss\n",
        "plt.plot(history.history['loss'])\n",
        "plt.plot(history.history['val_loss'])\n",
        "plt.title('model loss')\n",
        "plt.ylabel('loss')\n",
        "plt.xlabel('epoch')\n",
        "plt.legend(['train', 'test'], loc='upper left')\n",
        "plt.show()"
      ],
      "execution_count": null,
      "outputs": []
    },
    {
      "cell_type": "code",
      "metadata": {
        "colab": {
          "base_uri": "https://localhost:8080/"
        },
        "id": "Q0JhbrqFvIZc",
        "outputId": "05779631-1d28-479e-d21e-6fe03c068f84"
      },
      "source": [
        "!unzip /content/drive/MyDrive/x_train.zip"
      ],
      "execution_count": null,
      "outputs": [
        {
          "output_type": "stream",
          "text": [
            "Archive:  /content/drive/MyDrive/x_train.zip\n",
            "  inflating: x_train.npy             "
          ],
          "name": "stdout"
        }
      ]
    },
    {
      "cell_type": "code",
      "metadata": {
        "colab": {
          "base_uri": "https://localhost:8080/"
        },
        "id": "TV92pczWvC5z",
        "outputId": "c7114890-56fb-4e46-c8a5-b7cfbe8d934e"
      },
      "source": [
        "!unzip /content/drive/MyDrive/x_test.zip"
      ],
      "execution_count": null,
      "outputs": [
        {
          "output_type": "stream",
          "text": [
            "Archive:  /content/drive/MyDrive/x_test.zip\n",
            "  inflating: x_test.npy              \n"
          ],
          "name": "stdout"
        }
      ]
    },
    {
      "cell_type": "code",
      "metadata": {
        "id": "zHg0GAtnwKZ-"
      },
      "source": [
        "x_train = np.load ('x_train.npy')"
      ],
      "execution_count": null,
      "outputs": []
    },
    {
      "cell_type": "code",
      "metadata": {
        "id": "f86YP96LtKTe"
      },
      "source": [
        "x_test = np.load ('x_test.npy')"
      ],
      "execution_count": null,
      "outputs": []
    },
    {
      "cell_type": "code",
      "metadata": {
        "id": "EMbU5tCokY5l"
      },
      "source": [
        "from keras.models import Model\n",
        "from keras.layers import Dense, Dropout, Activation, Flatten\n",
        "from keras.layers import concatenate, Conv2D, MaxPooling2D, Conv2DTranspose\n",
        "from keras.layers import Input, merge, UpSampling2D,BatchNormalization\n",
        "from keras.callbacks import ModelCheckpoint\n",
        "from keras.optimizers import Adam\n",
        "from keras.preprocessing.image import ImageDataGenerator\n",
        "from keras import backend as K\n",
        "import tensorflow as tf\n",
        "\n",
        "\n",
        "def dice_coef(y_true, y_pred):\n",
        "    smooth = 0.005\n",
        "    y_true_f = K.flatten(y_true)\n",
        "    y_pred_f = K.flatten(y_pred)\n",
        "    intersection = K.sum(y_true_f * y_pred_f)\n",
        "    return (2. * intersection + smooth) / (K.sum(y_true_f) + K.sum(y_pred_f) + smooth)\n",
        "\n",
        "\n",
        "def dice_coef_loss(y_true, y_pred):\n",
        "    return 1-dice_coef(y_true, y_pred)\n",
        "\n",
        "K.set_image_data_format('channels_first')\n",
        "\n",
        "def unet_model():\n",
        "\n",
        "    inputs = Input((2, 240 , 240))\n",
        "\n",
        "    conv1 = Conv2D(64, (3, 3), activation='relu', padding='same') (inputs)\n",
        "    batch1 = BatchNormalization(axis=1)(conv1)\n",
        "    conv1 = Conv2D(64, (3, 3), activation='relu', padding='same') (batch1)\n",
        "    batch1 = BatchNormalization(axis=1)(conv1)\n",
        "    pool1 = MaxPooling2D((2, 2)) (batch1)\n",
        "\n",
        "    conv2 = Conv2D(128, (3, 3), activation='relu', padding='same') (pool1)\n",
        "    batch2 = BatchNormalization(axis=1)(conv2)\n",
        "    conv2 = Conv2D(128, (3, 3), activation='relu', padding='same') (batch2)\n",
        "    batch2 = BatchNormalization(axis=1)(conv2)\n",
        "    pool2 = MaxPooling2D((2, 2)) (batch2)\n",
        "\n",
        "    conv3 = Conv2D(256, (3, 3), activation='relu', padding='same') (pool2)\n",
        "    batch3 = BatchNormalization(axis=1)(conv3)\n",
        "    conv3 = Conv2D(256, (3, 3), activation='relu', padding='same') (batch3)\n",
        "    batch3 = BatchNormalization(axis=1)(conv3)\n",
        "    pool3 = MaxPooling2D((2, 2)) (batch3)\n",
        "\n",
        "    conv4 = Conv2D(512, (3, 3), activation='relu', padding='same') (pool3)\n",
        "    batch4 = BatchNormalization(axis=1)(conv4)\n",
        "    conv4 = Conv2D(512, (3, 3), activation='relu', padding='same') (batch4)\n",
        "    batch4 = BatchNormalization(axis=1)(conv4)\n",
        "    pool4 = MaxPooling2D(pool_size=(2, 2)) (batch4)\n",
        "\n",
        "    conv5 = Conv2D(1024, (3, 3), activation='relu', padding='same') (pool4)\n",
        "    batch5 = BatchNormalization(axis=1)(conv5)\n",
        "    conv5 = Conv2D(1024, (3, 3), activation='relu', padding='same') (batch5)\n",
        "    batch5 = BatchNormalization(axis=1)(conv5)\n",
        "\n",
        "    up6 = Conv2DTranspose(512, (2, 2), strides=(2, 2), padding='same') (batch5)\n",
        "    up6 = concatenate([up6, conv4], axis=1)\n",
        "    conv6 = Conv2D(512, (3, 3), activation='relu', padding='same') (up6)\n",
        "    batch6 = BatchNormalization(axis=1)(conv6)\n",
        "    conv6 = Conv2D(512, (3, 3), activation='relu', padding='same') (batch6)\n",
        "    batch6 = BatchNormalization(axis=1)(conv6)\n",
        "\n",
        "    up7 = Conv2DTranspose(256, (2, 2), strides=(2, 2), padding='same') (batch6)\n",
        "    up7 = concatenate([up7, conv3], axis=1)\n",
        "    conv7 = Conv2D(256, (3, 3), activation='relu', padding='same') (up7)\n",
        "    batch7 = BatchNormalization(axis=1)(conv7)\n",
        "    conv7 = Conv2D(256, (3, 3), activation='relu', padding='same') (batch7)\n",
        "    batch7 = BatchNormalization(axis=1)(conv7)\n",
        "\n",
        "    up8 = Conv2DTranspose(128, (2, 2), strides=(2, 2), padding='same') (batch7)\n",
        "    up8 = concatenate([up8, conv2], axis=1)\n",
        "    conv8 = Conv2D(128, (3, 3), activation='relu', padding='same') (up8)\n",
        "    batch8 = BatchNormalization(axis=1)(conv8)\n",
        "    conv8 = Conv2D(128, (3, 3), activation='relu', padding='same') (batch8)\n",
        "    batch8 = BatchNormalization(axis=1)(conv8)\n",
        "\n",
        "    up9 = Conv2DTranspose(64, (2, 2), strides=(2, 2), padding='same') (batch8)\n",
        "    up9 = concatenate([up9, conv1], axis=1)\n",
        "    conv9 = Conv2D(64, (3, 3), activation='relu', padding='same') (up9)\n",
        "    batch9 = BatchNormalization(axis=1)(conv9)\n",
        "    conv9 = Conv2D(64, (3, 3), activation='relu', padding='same') (batch9)\n",
        "    batch9 = BatchNormalization(axis=1)(conv9)\n",
        "\n",
        "    conv10 = Conv2D(1, (1, 1), activation='sigmoid')(batch9)\n",
        "\n",
        "    model = Model(inputs=[inputs], outputs=[conv10])\n",
        "\n",
        "    model.compile(optimizer=Adam(lr=1e-4), loss=dice_coef_loss, metrics=[dice_coef])\n",
        "\n",
        "    return model"
      ],
      "execution_count": null,
      "outputs": []
    },
    {
      "cell_type": "code",
      "metadata": {
        "id": "zCen5MSS3-n-",
        "colab": {
          "base_uri": "https://localhost:8080/"
        },
        "outputId": "5e158654-6eef-423e-86ae-05efdf21e0cc"
      },
      "source": [
        "model_tam = unet_model()"
      ],
      "execution_count": null,
      "outputs": [
        {
          "output_type": "stream",
          "text": [
            "/usr/local/lib/python3.7/dist-packages/tensorflow/python/keras/optimizer_v2/optimizer_v2.py:375: UserWarning: The `lr` argument is deprecated, use `learning_rate` instead.\n",
            "  \"The `lr` argument is deprecated, use `learning_rate` instead.\")\n"
          ],
          "name": "stderr"
        }
      ]
    },
    {
      "cell_type": "code",
      "metadata": {
        "colab": {
          "base_uri": "https://localhost:8080/"
        },
        "id": "0mjh3X-TUd4I",
        "outputId": "c73b5523-501b-4af0-ae2b-3c4d84c53c16"
      },
      "source": [
        "model_tam.compile(optimizer=Adam(lr=1e-4), loss=dice_coef_loss, metrics=[dice_coef])"
      ],
      "execution_count": null,
      "outputs": [
        {
          "output_type": "stream",
          "text": [
            "/usr/local/lib/python3.7/dist-packages/tensorflow/python/keras/optimizer_v2/optimizer_v2.py:375: UserWarning: The `lr` argument is deprecated, use `learning_rate` instead.\n",
            "  \"The `lr` argument is deprecated, use `learning_rate` instead.\")\n"
          ],
          "name": "stderr"
        }
      ]
    },
    {
      "cell_type": "code",
      "metadata": {
        "colab": {
          "base_uri": "https://localhost:8080/"
        },
        "id": "50K9iA4HUd4J",
        "outputId": "1bcd4700-c19c-4565-a6b6-1a29dbc2a6a3"
      },
      "source": [
        "history = model_tam.fit(t1ce_tam_test, seg_tam,\n",
        "          validation_data = (t1ce_tam,seg_tam_test),\n",
        "          epochs = 30,\n",
        "          batch_size = 3,\n",
        "          shuffle = True)"
      ],
      "execution_count": null,
      "outputs": [
        {
          "output_type": "stream",
          "text": [
            "Epoch 1/30\n",
            "7894/7894 [==============================] - 823s 100ms/step - loss: 0.4230 - dice_coef: 0.5770 - val_loss: 0.4694 - val_dice_coef: 0.5306\n",
            "Epoch 2/30\n",
            "7894/7894 [==============================] - 784s 99ms/step - loss: 0.1842 - dice_coef: 0.8158 - val_loss: 0.4877 - val_dice_coef: 0.5122\n",
            "Epoch 3/30\n",
            "7894/7894 [==============================] - 784s 99ms/step - loss: 0.1771 - dice_coef: 0.8229 - val_loss: 0.3799 - val_dice_coef: 0.6201\n",
            "Epoch 4/30\n",
            "7894/7894 [==============================] - 783s 99ms/step - loss: 0.1603 - dice_coef: 0.8397 - val_loss: 0.4049 - val_dice_coef: 0.5951\n",
            "Epoch 5/30\n",
            "7894/7894 [==============================] - 783s 99ms/step - loss: 0.1664 - dice_coef: 0.8336 - val_loss: 0.2971 - val_dice_coef: 0.7029\n",
            "Epoch 6/30\n",
            "7894/7894 [==============================] - 783s 99ms/step - loss: 0.1608 - dice_coef: 0.8392 - val_loss: 0.2893 - val_dice_coef: 0.7107\n",
            "Epoch 7/30\n",
            "7894/7894 [==============================] - 783s 99ms/step - loss: 0.1544 - dice_coef: 0.8456 - val_loss: 0.2282 - val_dice_coef: 0.7719\n",
            "Epoch 8/30\n",
            "7894/7894 [==============================] - 783s 99ms/step - loss: 0.1446 - dice_coef: 0.8554 - val_loss: 0.3111 - val_dice_coef: 0.6889\n",
            "Epoch 9/30\n",
            "7894/7894 [==============================] - 783s 99ms/step - loss: 0.1466 - dice_coef: 0.8534 - val_loss: 0.3776 - val_dice_coef: 0.6223\n",
            "Epoch 10/30\n",
            "7894/7894 [==============================] - 783s 99ms/step - loss: 0.1436 - dice_coef: 0.8564 - val_loss: 0.2433 - val_dice_coef: 0.7566\n",
            "Epoch 11/30\n",
            "7894/7894 [==============================] - 783s 99ms/step - loss: 0.1433 - dice_coef: 0.8567 - val_loss: 0.2006 - val_dice_coef: 0.7995\n",
            "Epoch 12/30\n",
            "7894/7894 [==============================] - 783s 99ms/step - loss: 0.1381 - dice_coef: 0.8619 - val_loss: 0.2306 - val_dice_coef: 0.7694\n",
            "Epoch 13/30\n",
            "7894/7894 [==============================] - 783s 99ms/step - loss: 0.1358 - dice_coef: 0.8642 - val_loss: 0.3541 - val_dice_coef: 0.6459\n",
            "Epoch 14/30\n",
            "7894/7894 [==============================] - 783s 99ms/step - loss: 0.1366 - dice_coef: 0.8634 - val_loss: 0.2093 - val_dice_coef: 0.7907\n",
            "Epoch 15/30\n",
            "7894/7894 [==============================] - 783s 99ms/step - loss: 0.1352 - dice_coef: 0.8648 - val_loss: 0.3832 - val_dice_coef: 0.6167\n",
            "Epoch 16/30\n",
            "7894/7894 [==============================] - 783s 99ms/step - loss: 0.1342 - dice_coef: 0.8658 - val_loss: 0.2778 - val_dice_coef: 0.7222\n",
            "Epoch 17/30\n",
            "7894/7894 [==============================] - 783s 99ms/step - loss: 0.1310 - dice_coef: 0.8690 - val_loss: 0.2174 - val_dice_coef: 0.7826\n",
            "Epoch 18/30\n",
            "7894/7894 [==============================] - 783s 99ms/step - loss: 0.1310 - dice_coef: 0.8690 - val_loss: 0.1960 - val_dice_coef: 0.8040\n",
            "Epoch 19/30\n",
            "7894/7894 [==============================] - 783s 99ms/step - loss: 0.1305 - dice_coef: 0.8695 - val_loss: 0.1851 - val_dice_coef: 0.8150\n",
            "Epoch 20/30\n",
            "7894/7894 [==============================] - 783s 99ms/step - loss: 0.1299 - dice_coef: 0.8701 - val_loss: 0.1847 - val_dice_coef: 0.8153\n",
            "Epoch 21/30\n",
            "7894/7894 [==============================] - 783s 99ms/step - loss: 0.1262 - dice_coef: 0.8738 - val_loss: 0.1910 - val_dice_coef: 0.8090\n",
            "Epoch 22/30\n",
            "7894/7894 [==============================] - 782s 99ms/step - loss: 0.1246 - dice_coef: 0.8754 - val_loss: 0.1958 - val_dice_coef: 0.8043\n",
            "Epoch 23/30\n",
            "7894/7894 [==============================] - 782s 99ms/step - loss: 0.1182 - dice_coef: 0.8818 - val_loss: 0.2366 - val_dice_coef: 0.7634\n",
            "Epoch 24/30\n",
            "7894/7894 [==============================] - 782s 99ms/step - loss: 0.1251 - dice_coef: 0.8749 - val_loss: 0.2540 - val_dice_coef: 0.7460\n",
            "Epoch 25/30\n",
            "7894/7894 [==============================] - 782s 99ms/step - loss: 0.1218 - dice_coef: 0.8782 - val_loss: 0.1913 - val_dice_coef: 0.8087\n",
            "Epoch 26/30\n",
            "7894/7894 [==============================] - 782s 99ms/step - loss: 0.1183 - dice_coef: 0.8817 - val_loss: 0.1795 - val_dice_coef: 0.8205\n",
            "Epoch 27/30\n",
            "7894/7894 [==============================] - 782s 99ms/step - loss: 0.1267 - dice_coef: 0.8733 - val_loss: 0.1712 - val_dice_coef: 0.8288\n",
            "Epoch 28/30\n",
            "7894/7894 [==============================] - 783s 99ms/step - loss: 0.1195 - dice_coef: 0.8805 - val_loss: 0.1750 - val_dice_coef: 0.8251\n",
            "Epoch 29/30\n",
            "7894/7894 [==============================] - 783s 99ms/step - loss: 0.1196 - dice_coef: 0.8804 - val_loss: 0.1794 - val_dice_coef: 0.8207\n",
            "Epoch 30/30\n",
            "7894/7894 [==============================] - 783s 99ms/step - loss: 0.1159 - dice_coef: 0.8841 - val_loss: 0.1725 - val_dice_coef: 0.8275\n"
          ],
          "name": "stdout"
        }
      ]
    },
    {
      "cell_type": "code",
      "metadata": {
        "colab": {
          "base_uri": "https://localhost:8080/",
          "height": 590
        },
        "id": "S6fX9VwWUd4L",
        "outputId": "53c6394c-181a-490a-c927-16c24ed98fb9"
      },
      "source": [
        "print(history.history.keys())\n",
        "# summarize history for accuracy\n",
        "plt.plot(history.history['dice_coef'])\n",
        "plt.plot(history.history['val_dice_coef'])\n",
        "plt.title('model dice coef')\n",
        "plt.ylabel('dice_coef')\n",
        "plt.xlabel('epoch')\n",
        "plt.legend(['train', 'test'], loc='upper left')\n",
        "plt.show()\n",
        "# summarize history for loss\n",
        "plt.plot(history.history['loss'])\n",
        "plt.plot(history.history['val_loss'])\n",
        "plt.title('model loss')\n",
        "plt.ylabel('loss')\n",
        "plt.xlabel('epoch')\n",
        "plt.legend(['train', 'test'], loc='upper left')\n",
        "plt.show()"
      ],
      "execution_count": null,
      "outputs": [
        {
          "output_type": "stream",
          "text": [
            "dict_keys(['loss', 'dice_coef', 'val_loss', 'val_dice_coef'])\n"
          ],
          "name": "stdout"
        },
        {
          "output_type": "display_data",
          "data": {
            "image/png": "[encoded data removed]",
            "text/plain": [
              "<Figure size 432x288 with 1 Axes>"
            ]
          },
          "metadata": {
            "tags": [],
            "needs_background": "light"
          }
        },
        {
          "output_type": "display_data",
          "data": {
            "image/png": "[encoded data removed]",
            "text/plain": [
              "<Figure size 432x288 with 1 Axes>"
            ]
          },
          "metadata": {
            "tags": [],
            "needs_background": "light"
          }
        }
      ]
    },
    {
      "cell_type": "code",
      "metadata": {
        "colab": {
          "base_uri": "https://localhost:8080/"
        },
        "id": "V_fZtmJmXB8i",
        "outputId": "8c66b893-c1a4-4850-aa64-175ff8a1f4c9"
      },
      "source": [
        "!unzip /content/drive/MyDrive/model.zip"
      ],
      "execution_count": null,
      "outputs": [
        {
          "output_type": "stream",
          "text": [
            "Archive:  /content/drive/MyDrive/model.zip\n",
            "  inflating: model (2).h5            \n"
          ],
          "name": "stdout"
        }
      ]
    },
    {
      "cell_type": "code",
      "metadata": {
        "id": "6BCK6HuV4DpF"
      },
      "source": [
        "model_tam.load_weights('/content/model (2).h5')"
      ],
      "execution_count": null,
      "outputs": []
    },
    {
      "cell_type": "code",
      "metadata": {
        "colab": {
          "base_uri": "https://localhost:8080/"
        },
        "id": "oejXaQi09LGI",
        "outputId": "6222763f-ce4a-453a-e485-37363bb7eb07"
      },
      "source": [
        "FP=0\n",
        "TN=0\n",
        "TP=0\n",
        "FN=0\n",
        "i=225\n",
        "for k in range(0,240):\n",
        "  for j in range (0,240):\n",
        "    if pred_tam[i,0,k,j] == 0 and seg_tam_test[i,0,k,j]==1:\n",
        "      FP= FP+1\n",
        "    elif pred_tam[i,0,k,j] == 1 and seg_tam_test[i,0,k,j]==0:\n",
        "      FN=FN+1\n",
        "    elif pred_tam[i,0,k,j] == 1 and seg_tam_test[i,0,k,j]==1:\n",
        "      TP=TP+1\n",
        "    elif pred_tam[i,0,k,j] == 0 and seg_tam_test[i,0,k,j]==0:\n",
        "      TN=TN+1\n",
        "sensitivity = (TP/(TP+FN))\n",
        "print(sensitivity)"
      ],
      "execution_count": null,
      "outputs": [
        {
          "output_type": "stream",
          "text": [
            "0.930379746835443\n"
          ],
          "name": "stdout"
        }
      ]
    },
    {
      "cell_type": "code",
      "metadata": {
        "id": "aNIO7TzbGc9j"
      },
      "source": [
        "im1 = np.asarray(pred_tam[225][0]>0.5).astype(np.bool)"
      ],
      "execution_count": null,
      "outputs": []
    },
    {
      "cell_type": "code",
      "metadata": {
        "id": "YynJoW3PGm1y"
      },
      "source": [
        "im2 = np.asarray(seg_tam_test[225][0]>0.5).astype(np.bool)"
      ],
      "execution_count": null,
      "outputs": []
    },
    {
      "cell_type": "code",
      "metadata": {
        "id": "8AHtVzvWHvlb"
      },
      "source": [
        "def sensitivity(im1, im2, empty_score=1.0):\n",
        "    im1 = np.asarray(im1>0.5).astype(np.bool)\n",
        "    im2 = np.asarray(im2>0.5).astype(np.bool)\n",
        "    FN=0\n",
        "\n",
        "    if im1.shape != im2.shape:\n",
        "        raise ValueError(\"Shape mismatch: im1 and im2 must have the same shape.\")\n",
        "\n",
        "    im_sum = im1.sum() + im2.sum()\n",
        "    if im_sum == 0:\n",
        "        return empty_score\n",
        "\n",
        "    TP = np.logical_and(im1, im2)\n",
        "\n",
        "    return TP.sum() / im2.sum()"
      ],
      "execution_count": null,
      "outputs": []
    },
    {
      "cell_type": "code",
      "metadata": {
        "colab": {
          "base_uri": "https://localhost:8080/"
        },
        "id": "3XWqn8UHH1F-",
        "outputId": "72ce6d20-af2f-4d1b-a3e9-a8d3c72e1fae"
      },
      "source": [
        "sensitivity(pred_tam[225][0],seg_tam_test[225][0])"
      ],
      "execution_count": null,
      "outputs": [
        {
          "output_type": "execute_result",
          "data": {
            "text/plain": [
              "0.9805081796032022"
            ]
          },
          "metadata": {
            "tags": []
          },
          "execution_count": 27
        }
      ]
    },
    {
      "cell_type": "code",
      "metadata": {
        "id": "NubHdjgxXN1x"
      },
      "source": [
        "from keras.models import Model\n",
        "from keras.layers import Dense, Dropout, Activation, Flatten\n",
        "from keras.layers import concatenate, Conv2D, MaxPooling2D, Conv2DTranspose\n",
        "from keras.layers import Input, merge, UpSampling2D,BatchNormalization\n",
        "from keras.callbacks import ModelCheckpoint\n",
        "from keras.optimizers import Adam\n",
        "from keras.preprocessing.image import ImageDataGenerator\n",
        "from keras import backend as K\n",
        "import tensorflow as tf\n",
        "\n",
        "\n",
        "def dice_coef(y_true, y_pred):\n",
        "    smooth = 0.005\n",
        "    y_true_f = K.flatten(y_true)\n",
        "    y_pred_f = K.flatten(y_pred)\n",
        "    intersection = K.sum(y_true_f * y_pred_f)\n",
        "    return (2. * intersection + smooth) / (K.sum(y_true_f) + K.sum(y_pred_f) + smooth)\n",
        "\n",
        "\n",
        "def dice_coef_loss(y_true, y_pred):\n",
        "    return 1-dice_coef(y_true, y_pred)\n",
        "\n",
        "K.set_image_data_format('channels_first')\n",
        "\n",
        "def unet_model1():\n",
        "\n",
        "    inputs = Input((1, 240 , 240))\n",
        "\n",
        "    conv1 = Conv2D(64, (3, 3), activation='relu', padding='same') (inputs)\n",
        "    batch1 = BatchNormalization(axis=1)(conv1)\n",
        "    conv1 = Conv2D(64, (3, 3), activation='relu', padding='same') (batch1)\n",
        "    batch1 = BatchNormalization(axis=1)(conv1)\n",
        "    pool1 = MaxPooling2D((2, 2)) (batch1)\n",
        "\n",
        "    conv2 = Conv2D(128, (3, 3), activation='relu', padding='same') (pool1)\n",
        "    batch2 = BatchNormalization(axis=1)(conv2)\n",
        "    conv2 = Conv2D(128, (3, 3), activation='relu', padding='same') (batch2)\n",
        "    batch2 = BatchNormalization(axis=1)(conv2)\n",
        "    pool2 = MaxPooling2D((2, 2)) (batch2)\n",
        "\n",
        "    conv3 = Conv2D(256, (3, 3), activation='relu', padding='same') (pool2)\n",
        "    batch3 = BatchNormalization(axis=1)(conv3)\n",
        "    conv3 = Conv2D(256, (3, 3), activation='relu', padding='same') (batch3)\n",
        "    batch3 = BatchNormalization(axis=1)(conv3)\n",
        "    pool3 = MaxPooling2D((2, 2)) (batch3)\n",
        "\n",
        "    conv4 = Conv2D(512, (3, 3), activation='relu', padding='same') (pool3)\n",
        "    batch4 = BatchNormalization(axis=1)(conv4)\n",
        "    conv4 = Conv2D(512, (3, 3), activation='relu', padding='same') (batch4)\n",
        "    batch4 = BatchNormalization(axis=1)(conv4)\n",
        "    pool4 = MaxPooling2D(pool_size=(2, 2)) (batch4)\n",
        "\n",
        "    conv5 = Conv2D(1024, (3, 3), activation='relu', padding='same') (pool4)\n",
        "    batch5 = BatchNormalization(axis=1)(conv5)\n",
        "    conv5 = Conv2D(1024, (3, 3), activation='relu', padding='same') (batch5)\n",
        "    batch5 = BatchNormalization(axis=1)(conv5)\n",
        "\n",
        "    up6 = Conv2DTranspose(512, (2, 2), strides=(2, 2), padding='same') (batch5)\n",
        "    up6 = concatenate([up6, conv4], axis=1)\n",
        "    conv6 = Conv2D(512, (3, 3), activation='relu', padding='same') (up6)\n",
        "    batch6 = BatchNormalization(axis=1)(conv6)\n",
        "    conv6 = Conv2D(512, (3, 3), activation='relu', padding='same') (batch6)\n",
        "    batch6 = BatchNormalization(axis=1)(conv6)\n",
        "\n",
        "    up7 = Conv2DTranspose(256, (2, 2), strides=(2, 2), padding='same') (batch6)\n",
        "    up7 = concatenate([up7, conv3], axis=1)\n",
        "    conv7 = Conv2D(256, (3, 3), activation='relu', padding='same') (up7)\n",
        "    batch7 = BatchNormalization(axis=1)(conv7)\n",
        "    conv7 = Conv2D(256, (3, 3), activation='relu', padding='same') (batch7)\n",
        "    batch7 = BatchNormalization(axis=1)(conv7)\n",
        "\n",
        "    up8 = Conv2DTranspose(128, (2, 2), strides=(2, 2), padding='same') (batch7)\n",
        "    up8 = concatenate([up8, conv2], axis=1)\n",
        "    conv8 = Conv2D(128, (3, 3), activation='relu', padding='same') (up8)\n",
        "    batch8 = BatchNormalization(axis=1)(conv8)\n",
        "    conv8 = Conv2D(128, (3, 3), activation='relu', padding='same') (batch8)\n",
        "    batch8 = BatchNormalization(axis=1)(conv8)\n",
        "\n",
        "    up9 = Conv2DTranspose(64, (2, 2), strides=(2, 2), padding='same') (batch8)\n",
        "    up9 = concatenate([up9, conv1], axis=1)\n",
        "    conv9 = Conv2D(64, (3, 3), activation='relu', padding='same') (up9)\n",
        "    batch9 = BatchNormalization(axis=1)(conv9)\n",
        "    conv9 = Conv2D(64, (3, 3), activation='relu', padding='same') (batch9)\n",
        "    batch9 = BatchNormalization(axis=1)(conv9)\n",
        "\n",
        "    conv10 = Conv2D(1, (1, 1), activation='sigmoid')(batch9)\n",
        "\n",
        "    model = Model(inputs=[inputs], outputs=[conv10])\n",
        "\n",
        "    model.compile(optimizer=Adam(lr=1e-4), loss=dice_coef_loss, metrics=[dice_coef])\n",
        "\n",
        "    return model"
      ],
      "execution_count": null,
      "outputs": []
    },
    {
      "cell_type": "code",
      "metadata": {
        "id": "MhPCrc_hgipR"
      },
      "source": [
        "model_ödemsiz.compile(optimizer=Adam(lr=1e-4), loss=dice_coef_loss, metrics=[dice_coef])"
      ],
      "execution_count": null,
      "outputs": []
    },
    {
      "cell_type": "code",
      "metadata": {
        "id": "K0C2DoDrXdOz"
      },
      "source": [
        "model_ödemsiz.save_weights(\"model_unet_cascade_odemsiz.h5\")"
      ],
      "execution_count": null,
      "outputs": []
    },
    {
      "cell_type": "code",
      "metadata": {
        "colab": {
          "base_uri": "https://localhost:8080/"
        },
        "id": "zHbnYWNQgipR",
        "outputId": "a591402e-7996-43ef-b302-0ecae2f96e1e"
      },
      "source": [
        "history = model_ödemsiz.fit(t1ce_tam, seg_ödemsiz,\n",
        "          validation_data = (t1ce_tam_test,seg_ödemsiz_test),\n",
        "          epochs = 30,\n",
        "          batch_size = 3,\n",
        "          shuffle = True)"
      ],
      "execution_count": null,
      "outputs": [
        {
          "output_type": "stream",
          "text": [
            "Epoch 1/30\n",
            "7894/7894 [==============================] - 805s 100ms/step - loss: 0.5998 - dice_coef: 0.4002 - val_loss: 0.6544 - val_dice_coef: 0.3455\n",
            "Epoch 2/30\n",
            "7894/7894 [==============================] - 783s 99ms/step - loss: 0.3021 - dice_coef: 0.6979 - val_loss: 0.9733 - val_dice_coef: 0.0267\n",
            "Epoch 3/30\n",
            "7894/7894 [==============================] - 783s 99ms/step - loss: 0.2834 - dice_coef: 0.7166 - val_loss: 0.2321 - val_dice_coef: 0.7680\n",
            "Epoch 4/30\n",
            "7894/7894 [==============================] - 784s 99ms/step - loss: 0.2749 - dice_coef: 0.7251 - val_loss: 0.9187 - val_dice_coef: 0.0813\n",
            "Epoch 5/30\n",
            "7894/7894 [==============================] - 784s 99ms/step - loss: 0.2733 - dice_coef: 0.7267 - val_loss: 0.3809 - val_dice_coef: 0.6191\n",
            "Epoch 6/30\n",
            "7894/7894 [==============================] - 783s 99ms/step - loss: 0.2666 - dice_coef: 0.7334 - val_loss: 0.2329 - val_dice_coef: 0.7671\n",
            "Epoch 7/30\n",
            "7894/7894 [==============================] - 781s 99ms/step - loss: 0.2626 - dice_coef: 0.7374 - val_loss: 0.2497 - val_dice_coef: 0.7503\n",
            "Epoch 8/30\n",
            "7894/7894 [==============================] - 782s 99ms/step - loss: 0.2622 - dice_coef: 0.7378 - val_loss: 0.2430 - val_dice_coef: 0.7571\n",
            "Epoch 9/30\n",
            "7894/7894 [==============================] - 784s 99ms/step - loss: 0.2567 - dice_coef: 0.7433 - val_loss: 0.3014 - val_dice_coef: 0.6986\n",
            "Epoch 10/30\n",
            "7894/7894 [==============================] - 786s 100ms/step - loss: 0.2519 - dice_coef: 0.7481 - val_loss: 0.2486 - val_dice_coef: 0.7514\n",
            "Epoch 11/30\n",
            "7894/7894 [==============================] - 785s 99ms/step - loss: 0.2522 - dice_coef: 0.7478 - val_loss: 0.3376 - val_dice_coef: 0.6625\n",
            "Epoch 12/30\n",
            "7894/7894 [==============================] - 785s 99ms/step - loss: 0.2472 - dice_coef: 0.7528 - val_loss: 0.2309 - val_dice_coef: 0.7692\n",
            "Epoch 13/30\n",
            "7894/7894 [==============================] - 785s 99ms/step - loss: 0.2454 - dice_coef: 0.7546 - val_loss: 0.3373 - val_dice_coef: 0.6627\n",
            "Epoch 14/30\n",
            "7894/7894 [==============================] - 785s 99ms/step - loss: 0.2545 - dice_coef: 0.7455 - val_loss: 0.2344 - val_dice_coef: 0.7656\n",
            "Epoch 15/30\n",
            "7894/7894 [==============================] - 785s 99ms/step - loss: 0.2433 - dice_coef: 0.7567 - val_loss: 0.2222 - val_dice_coef: 0.7778\n",
            "Epoch 16/30\n",
            "7894/7894 [==============================] - 785s 99ms/step - loss: 0.2440 - dice_coef: 0.7560 - val_loss: 0.2365 - val_dice_coef: 0.7635\n",
            "Epoch 17/30\n",
            "7894/7894 [==============================] - 783s 99ms/step - loss: 0.2459 - dice_coef: 0.7541 - val_loss: 0.2470 - val_dice_coef: 0.7530\n",
            "Epoch 18/30\n",
            "7894/7894 [==============================] - 782s 99ms/step - loss: 0.2492 - dice_coef: 0.7508 - val_loss: 0.2708 - val_dice_coef: 0.7292\n",
            "Epoch 19/30\n",
            "7894/7894 [==============================] - 781s 99ms/step - loss: 0.2413 - dice_coef: 0.7587 - val_loss: 0.2349 - val_dice_coef: 0.7652\n",
            "Epoch 20/30\n",
            "7894/7894 [==============================] - 781s 99ms/step - loss: 0.2440 - dice_coef: 0.7560 - val_loss: 0.2360 - val_dice_coef: 0.7641\n",
            "Epoch 21/30\n",
            "7894/7894 [==============================] - 781s 99ms/step - loss: 0.2366 - dice_coef: 0.7634 - val_loss: 0.2145 - val_dice_coef: 0.7855\n",
            "Epoch 22/30\n",
            "7894/7894 [==============================] - 781s 99ms/step - loss: 0.2378 - dice_coef: 0.7622 - val_loss: 0.2352 - val_dice_coef: 0.7649\n",
            "Epoch 23/30\n",
            "7894/7894 [==============================] - 781s 99ms/step - loss: 0.2336 - dice_coef: 0.7664 - val_loss: 0.2520 - val_dice_coef: 0.7480\n",
            "Epoch 24/30\n",
            "7894/7894 [==============================] - 782s 99ms/step - loss: 0.1997 - dice_coef: 0.8003 - val_loss: 0.2382 - val_dice_coef: 0.7619\n",
            "Epoch 25/30\n",
            "7894/7894 [==============================] - 781s 99ms/step - loss: 0.1920 - dice_coef: 0.8080 - val_loss: 0.2209 - val_dice_coef: 0.7792\n",
            "Epoch 26/30\n",
            "7894/7894 [==============================] - 781s 99ms/step - loss: 0.1855 - dice_coef: 0.8145 - val_loss: 0.2211 - val_dice_coef: 0.7790\n",
            "Epoch 27/30\n",
            "7894/7894 [==============================] - 782s 99ms/step - loss: 0.1996 - dice_coef: 0.8004 - val_loss: 0.2074 - val_dice_coef: 0.7926\n",
            "Epoch 28/30\n",
            "7894/7894 [==============================] - 781s 99ms/step - loss: 0.2188 - dice_coef: 0.7812 - val_loss: 0.2180 - val_dice_coef: 0.7821\n",
            "Epoch 29/30\n",
            "7894/7894 [==============================] - 780s 99ms/step - loss: 0.1976 - dice_coef: 0.8024 - val_loss: 0.2478 - val_dice_coef: 0.7522\n",
            "Epoch 30/30\n",
            "7894/7894 [==============================] - 781s 99ms/step - loss: 0.1983 - dice_coef: 0.8017 - val_loss: 0.2627 - val_dice_coef: 0.7373\n"
          ],
          "name": "stdout"
        }
      ]
    },
    {
      "cell_type": "code",
      "metadata": {
        "id": "4E_9-c4mXUze",
        "colab": {
          "base_uri": "https://localhost:8080/"
        },
        "outputId": "9d06223b-b3b5-4042-e922-c69e350603cd"
      },
      "source": [
        "model_ödemsiz = unet_model1()"
      ],
      "execution_count": null,
      "outputs": [
        {
          "output_type": "stream",
          "text": [
            "/usr/local/lib/python3.7/dist-packages/tensorflow/python/keras/optimizer_v2/optimizer_v2.py:375: UserWarning: The `lr` argument is deprecated, use `learning_rate` instead.\n",
            "  \"The `lr` argument is deprecated, use `learning_rate` instead.\")\n"
          ],
          "name": "stderr"
        }
      ]
    },
    {
      "cell_type": "code",
      "metadata": {
        "id": "hkZ7lc0qUGc8",
        "colab": {
          "base_uri": "https://localhost:8080/"
        },
        "outputId": "cf88c3df-ce33-4633-b3ec-b2c24a77ffb0"
      },
      "source": [
        "model_genis = unet_model1()"
      ],
      "execution_count": null,
      "outputs": [
        {
          "output_type": "stream",
          "text": [
            "/usr/local/lib/python3.7/dist-packages/tensorflow/python/keras/optimizer_v2/optimizer_v2.py:375: UserWarning: The `lr` argument is deprecated, use `learning_rate` instead.\n",
            "  \"The `lr` argument is deprecated, use `learning_rate` instead.\")\n"
          ],
          "name": "stderr"
        }
      ]
    },
    {
      "cell_type": "code",
      "metadata": {
        "id": "YUgBzHS4B6ak"
      },
      "source": [
        "model_genis.load_weights('/content/drive/MyDrive/model_unet_cascade_genis.h5')"
      ],
      "execution_count": null,
      "outputs": []
    },
    {
      "cell_type": "code",
      "metadata": {
        "id": "QrGjE13sXdO1"
      },
      "source": [
        "model_ödemsiz.load_weights('/content/drive/MyDrive/model_unet_cascade_odemsiz.h5')"
      ],
      "execution_count": null,
      "outputs": []
    },
    {
      "cell_type": "code",
      "metadata": {
        "colab": {
          "base_uri": "https://localhost:8080/",
          "height": 592
        },
        "id": "MjlbRF1lcQNB",
        "outputId": "dbff5e3d-636c-4e8d-b773-c15e23ab8cf4"
      },
      "source": [
        "i = 225\n",
        "a=1\n",
        "pred_tam = model_tam.predict(np.expand_dims(x_test[i,:,:,:],axis=0))\n",
        "dst = pred_tam[0] * t1ce_test[i]\n",
        "\n",
        "pred_ödemsiz = model_ödemsiz.predict(np.expand_dims(dst,axis=0))\n",
        "dst2 = pred_ödemsiz[0] * t1ce_test[i]\n",
        "\n",
        "plt.figure(figsize=(15,15))\n",
        "\n",
        "plt.subplot(331)\n",
        "plt.title('T1ce')\n",
        "plt.axis('off')\n",
        "plt.imshow(t1ce_test[i, 0, :, :], cmap= renk[a])\n",
        "\n",
        "plt.subplot(332)\n",
        "plt.title('WT')\n",
        "plt.axis('off')\n",
        "plt.imshow(seg_tam_test[i, 0, :, :], cmap= renk[a])\n",
        "\n",
        "plt.subplot(333)\n",
        "plt.title('WT*T1ce')\n",
        "plt.axis('off')\n",
        "plt.imshow(dst[0],cmap= renk[a])\n",
        "\n",
        "plt.subplot(334)\n",
        "plt.title('T1ce')\n",
        "plt.axis('off')\n",
        "plt.imshow(t1ce_test[i, 0, :, :], cmap= renk[a])\n",
        "\n",
        "plt.subplot(335)\n",
        "plt.title('TC')\n",
        "plt.axis('off')\n",
        "plt.imshow(seg_ödemsiz_test[i, 0, :, :], cmap= renk[a])\n",
        "\n",
        "plt.subplot(336)\n",
        "plt.title('TC*T1ce')\n",
        "plt.axis('off')\n",
        "plt.imshow(dst2[0],cmap= renk[a])"
      ],
      "execution_count": null,
      "outputs": [
        {
          "output_type": "execute_result",
          "data": {
            "text/plain": [
              "<matplotlib.image.AxesImage at 0x7efaa85bd290>"
            ]
          },
          "metadata": {
            "tags": []
          },
          "execution_count": 25
        },
        {
          "output_type": "display_data",
          "data": {
            "image/png": "[encoded data removed]",
            "text/plain": [
              "<Figure size 1080x1080 with 6 Axes>"
            ]
          },
          "metadata": {
            "tags": []
          }
        }
      ]
    },
    {
      "cell_type": "code",
      "metadata": {
        "id": "qvYGtedhUChS"
      },
      "source": [
        "def üstüne_ekle(pred_tam, pred_ödemsiz , pred_geniş ):\n",
        "\n",
        "    total = np.zeros((1,1,240,240),np.float32)\n",
        "    total[:,:,:,:] = pred_tam[:,:,:,:]\n",
        "\n",
        "    for i in range(pred_ödemsiz.shape[0]):\n",
        "        for j in range(240):\n",
        "            for k in range(240):\n",
        "\n",
        "                if pred_ödemsiz[i,0,j,k] != 0 and pred_tam[i,0,j,k] !=0:\n",
        "                    total[i,0,j,k] = pred_ödemsiz[i,0,j,k]\n",
        "\n",
        "                if pred_geniş[i,0,j,k] != 0 and pred_tam[i,0,j,k] !=0:\n",
        "                    total[i,0,j,k] = pred_geniş[i,0,j,k]\n",
        "\n",
        "    return total"
      ],
      "execution_count": null,
      "outputs": []
    },
    {
      "cell_type": "code",
      "metadata": {
        "colab": {
          "base_uri": "https://localhost:8080/",
          "height": 592
        },
        "id": "eoDOWb46tO75",
        "outputId": "8f5e9bc4-697b-49ee-d2cc-4baa63c534b5"
      },
      "source": [
        "renk = { 0:'magma',\n",
        "        1:'viridis',\n",
        "        2:'gray',\n",
        "        3:'inferno',\n",
        "        4:'cividis',\n",
        "        5:'hot', }\n",
        "a  = 2\n",
        "x=197\n",
        "\n",
        "pred_tam = model_tam.predict(np.expand_dims(x_test[x,:,:,:],axis=0))\n",
        "t1ce_tam = pred_tam[0] * t1ce_test[x]\n",
        "expand_img = np.expand_dims(t1ce_tam,axis=0)\n",
        "pred_ödemsiz = model_ödemsiz.predict(expand_img)\n",
        "t1ce_ödemsiz = pred_ödemsiz[0] * t1ce_test[x]\n",
        "expand_img = np.expand_dims(t1ce_ödemsiz,axis=0)\n",
        "pred_genis = model_genis.predict(expand_img)\n",
        "pred_tam[pred_tam > 0.2] = 2\n",
        "pred_tam[pred_tam != 2 ] = 0\n",
        "pred_ödemsiz[pred_ödemsiz > 0.2] = 1\n",
        "pred_ödemsiz[pred_ödemsiz != 1 ] = 0\n",
        "pred_genis[pred_genis > 0.2] = 4\n",
        "pred_genis[pred_genis != 4 ] = 0\n",
        "seg = üstüne_ekle(pred_tam, pred_ödemsiz, pred_genis)\n",
        "plt.figure(figsize=(15,15))\n",
        "\n",
        "plt.subplot(331)\n",
        "plt.title('Flair')\n",
        "plt.axis('off')\n",
        "plt.imshow(x_test[x, 0, :, :], cmap= renk[a])\n",
        "\n",
        "plt.subplot(332)\n",
        "plt.title('T2')\n",
        "plt.axis('off')\n",
        "plt.imshow(x_test[x, 1, :, :],cmap= renk[a])\n",
        "\n",
        "plt.subplot(333)\n",
        "plt.title('T1ce')\n",
        "plt.axis('off')\n",
        "plt.imshow(t1ce_test[x, 0, :, :],cmap= renk[a])\n",
        "\n",
        "plt.subplot(334)\n",
        "plt.title('Segmentasyon')\n",
        "plt.axis('off')\n",
        "plt.imshow(seg_orj[x, 0, :, :],cmap= renk[a])\n",
        "\n",
        "plt.subplot(335)\n",
        "plt.title('Predict')\n",
        "plt.axis('off')\n",
        "plt.imshow(seg[0, 0, :, :],cmap= renk[a])\n",
        "\n",
        "\n",
        "plt.subplot(336)\n",
        "plt.title('Flair + Tumor Segmentasyonu')\n",
        "plt.axis('off')\n",
        "y = cv2.addWeighted(x_test[x,1,:,:],0.1, seg[0,0,:,:], 0.9,0)\n",
        "plt.imshow(y, cmap= renk[a])"
      ],
      "execution_count": null,
      "outputs": [
        {
          "output_type": "execute_result",
          "data": {
            "text/plain": [
              "<matplotlib.image.AxesImage at 0x7fdaf25ac4d0>"
            ]
          },
          "metadata": {
            "tags": []
          },
          "execution_count": 29
        },
        {
          "output_type": "display_data",
          "data": {
            "image/png": "[encoded data removed]",
            "text/plain": [
              "<Figure size 1080x1080 with 6 Axes>"
            ]
          },
          "metadata": {
            "tags": [],
            "needs_background": "light"
          }
        }
      ]
    },
    {
      "cell_type": "code",
      "metadata": {
        "colab": {
          "base_uri": "https://localhost:8080/"
        },
        "id": "4AO04MarJboF",
        "outputId": "72af7690-5dbc-47be-bd81-ebe54dc09ad4"
      },
      "source": [
        "sensitivity, specificity, accuracy = calculate_sensitivity_specificity(seg_tam_test[x][0], pred_tam[0][0])\n",
        "dice = compute_dice(seg_tam_test[x][0], pred_tam[0][0])\n",
        "print ('WT Sensitivity:', sensitivity)\n",
        "print ('WT Specificity:', specificity)\n",
        "print ('WT Accuracy:', accuracy)\n",
        "print ('WT Dice:', dice)\n",
        "sensitivity, specificity, accuracy = calculate_sensitivity_specificity(seg_ödemsiz_test[x][0], pred_ödemsiz[0][0])\n",
        "dice = compute_dice(seg_ödemsiz_test[x][0], pred_ödemsiz[0][0])\n",
        "print ('TC Sensitivity:', sensitivity)\n",
        "print ('TC Specificity:', specificity)\n",
        "print ('TC Accuracy:', accuracy)\n",
        "print ('TC Dice:', dice)\n",
        "sensitivity, specificity, accuracy = calculate_sensitivity_specificity(seg_geniş_test[x][0], pred_genis[0][0])\n",
        "dice = compute_dice(seg_geniş_test[x][0], pred_genis[0][0])\n",
        "print ('ET Sensitivity:', sensitivity)\n",
        "print ('ET Specificity:', specificity)\n",
        "print ('ET Accuracy:', accuracy)\n",
        "print ('ET Dice:', dice)"
      ],
      "execution_count": null,
      "outputs": [
        {
          "output_type": "stream",
          "text": [
            "WT Sensitivity: 0.0\n",
            "WT Specificity: 0.99911753052624\n",
            "WT Accuracy: 0.9631423611111111\n",
            "WT Dice: 0.9790815099783602\n",
            "TC Sensitivity: 0.9664363277393879\n",
            "TC Specificity: 0.9999646561931186\n",
            "TC Accuracy: 0.999375\n",
            "TC Dice: 0.9819458375125376\n",
            "ET Sensitivity: 0.0\n",
            "ET Specificity: 1.0\n",
            "ET Accuracy: 0.9867361111111111\n",
            "ET Dice: 0.8353658536585366\n"
          ],
          "name": "stdout"
        }
      ]
    },
    {
      "cell_type": "code",
      "metadata": {
        "id": "v4w4STJwfNck"
      },
      "source": [
        "from skimage import io, color, img_as_float\n",
        "from skimage.exposure import adjust_gamma\n",
        "def show_lable_on_image4(test_img, label_im):\n",
        "\n",
        "    alpha = 0.8\n",
        "\n",
        "    img = img_as_float(test_img/test_img.max())\n",
        "    rows, cols = img.shape\n",
        "\n",
        "    # Construct a colour image to superimpose\n",
        "    color_mask = np.zeros((rows, cols, 3))\n",
        "    red_multiplier = [1, 0.2, 0.2]\n",
        "    green_multiplier = [0.35,0.75,0.25]\n",
        "    blue_multiplier = [0,0.25,0.9]\n",
        "    yellow_multiplier = [1,1,0.25]\n",
        "    brown_miltiplier = [40./255, 26./255, 13./255]\n",
        "\n",
        "\n",
        "    color_mask[label_im==1] = blue_multiplier#[1, 0, 0]  # Red block\n",
        "    color_mask[label_im==2] = yellow_multiplier#[0, 1, 0] # Green block\n",
        "    color_mask[label_im==3] = brown_miltiplier#[0, 0, 1] # Blue block\n",
        "    color_mask[label_im==4] = green_multiplier#[0, 1, 1] # Blue block\n",
        "\n",
        "    # Construct RGB version of grey-level image\n",
        "    img_color = np.dstack((img, img, img))\n",
        "\n",
        "    # Convert the input image and color mask to Hue Saturation Value (HSV)\n",
        "    # colorspace\n",
        "    img_hsv = color.rgb2hsv(img_color)\n",
        "    color_mask_hsv = color.rgb2hsv(color_mask)\n",
        "\n",
        "    # Replace the hue and saturation of the original image\n",
        "    # with that of the color mask\n",
        "    img_hsv[..., 0] = color_mask_hsv[..., 0]\n",
        "    img_hsv[..., 1] = color_mask_hsv[..., 1] * alpha\n",
        "\n",
        "    img_masked = color.hsv2rgb(img_hsv)\n",
        "\n",
        "    return img_masked"
      ],
      "execution_count": null,
      "outputs": []
    },
    {
      "cell_type": "code",
      "metadata": {
        "id": "SLFFpYCH5vBY"
      },
      "source": [
        "orj=show_lable_on_image4(x_test[197,0], seg[0,0])"
      ],
      "execution_count": null,
      "outputs": []
    },
    {
      "cell_type": "code",
      "metadata": {
        "colab": {
          "base_uri": "https://localhost:8080/",
          "height": 303
        },
        "id": "0YsCqSm_B-67",
        "outputId": "c062eb6b-0fb9-42d1-fdeb-ee10559360c9"
      },
      "source": [
        "plt.imshow(orj)"
      ],
      "execution_count": null,
      "outputs": [
        {
          "output_type": "stream",
          "text": [
            "Clipping input data to the valid range for imshow with RGB data ([0..1] for floats or [0..255] for integers).\n"
          ],
          "name": "stderr"
        },
        {
          "output_type": "execute_result",
          "data": {
            "text/plain": [
              "<matplotlib.image.AxesImage at 0x7fdad1eb5f10>"
            ]
          },
          "metadata": {
            "tags": []
          },
          "execution_count": 34
        },
        {
          "output_type": "display_data",
          "data": {
            "image/png": "[encoded data removed]",
            "text/plain": [
              "<Figure size 432x288 with 1 Axes>"
            ]
          },
          "metadata": {
            "tags": [],
            "needs_background": "light"
          }
        }
      ]
    },
    {
      "cell_type": "code",
      "metadata": {
        "colab": {
          "base_uri": "https://localhost:8080/",
          "height": 416
        },
        "id": "MkOtQylZtzUT",
        "outputId": "b1518fcf-de4d-4ff2-c880-00adfab00e47"
      },
      "source": [
        "renk = { 0:'magma',\n",
        "        1:'viridis',\n",
        "        2:'gray',\n",
        "        3:'inferno',\n",
        "        4:'cividis',\n",
        "        5:'hot', }\n",
        "a  = 2\n",
        "x=1949\n",
        "\n",
        "pred_tam = model_tam.predict(np.expand_dims(x_test[x,:,:,:],axis=0))\n",
        "t1ce_tam = pred_tam[0] * t1ce_test[x]\n",
        "expand_img = np.expand_dims(t1ce_tam,axis=0)\n",
        "pred_ödemsiz = model_ödemsiz.predict(expand_img)\n",
        "t1ce_ödemsiz = pred_ödemsiz[0] * t1ce_test[x]\n",
        "expand_img = np.expand_dims(t1ce_ödemsiz,axis=0)\n",
        "pred_genis = model_genis.predict(expand_img)\n",
        "b = cv2.add(pred_tam, pred_ödemsiz)\n",
        "c = cv2.add(pred_genis, b)\n",
        "total = np.zeros((1,240,240),np.float32)\n",
        "total = c\n",
        "plt.figure(figsize=(15,10))\n",
        "\n",
        "plt.subplot(331)\n",
        "plt.title('Tam Tümör')\n",
        "plt.axis('off')\n",
        "plt.imshow(seg_tam_test[x,0 ,:,:],cmap= renk[a])\n",
        "\n",
        "plt.subplot(332)\n",
        "plt.title('Ödemsiz ')\n",
        "plt.axis('off')\n",
        "plt.imshow(seg_ödemsiz_test[x, 0, :, :],cmap= renk[a])\n",
        "\n",
        "plt.subplot(333)\n",
        "plt.title('Geniş ')\n",
        "plt.axis('off')\n",
        "plt.imshow(seg_geniş_test[x, 0, :, :],cmap= renk[a])\n",
        "\n",
        "\n",
        "plt.subplot(334)\n",
        "plt.title('Pred Tam ')\n",
        "plt.axis('off')\n",
        "plt.imshow(pred_tam[0,0,:,:],cmap= renk[a])\n",
        "\n",
        "\n",
        "plt.subplot(335)\n",
        "plt.title('Pred Ödemsiz')\n",
        "plt.axis('off')\n",
        "plt.imshow(pred_ödemsiz[ 0, 0, :, :],cmap= renk[a])\n",
        "\n",
        "\n",
        "plt.subplot(336)\n",
        "plt.title('Pred Geniş')\n",
        "plt.axis('off')\n",
        "plt.imshow(pred_genis[ 0, 0, :, :],cmap= renk[a])\n"
      ],
      "execution_count": null,
      "outputs": [
        {
          "output_type": "execute_result",
          "data": {
            "text/plain": [
              "<matplotlib.image.AxesImage at 0x7ef932671990>"
            ]
          },
          "metadata": {
            "tags": []
          },
          "execution_count": 74
        },
        {
          "output_type": "display_data",
          "data": {
            "image/png": "[encoded data removed]",
            "text/plain": [
              "<Figure size 1080x720 with 6 Axes>"
            ]
          },
          "metadata": {
            "tags": []
          }
        }
      ]
    },
    {
      "cell_type": "code",
      "metadata": {
        "id": "WLkGCW4vVi7L"
      },
      "source": [
        "pred_tam = model_tam.predict(x_test)\n",
        "t1ce_tam = pred_tam * t1ce_test\n",
        "expand_img = np.expand_dims(t1ce_tam,axis=0)\n",
        "pred_ödemsiz = model_ödemsiz.predict(t1ce_tam)\n",
        "t1ce_ödemsiz = pred_ödemsiz*t1ce_test\n",
        "expand_img = np.expand_dims(t1ce_ödemsiz,axis=0)\n",
        "pred_geniş = model_genis.predict(t1ce_ödemsiz)"
      ],
      "execution_count": null,
      "outputs": []
    },
    {
      "cell_type": "code",
      "metadata": {
        "id": "aFa_QlD5xeJL"
      },
      "source": [
        "pred_tam = model_tam.predict(x_test)"
      ],
      "execution_count": null,
      "outputs": []
    },
    {
      "cell_type": "code",
      "metadata": {
        "colab": {
          "base_uri": "https://localhost:8080/"
        },
        "id": "V8yzWqRtxgC8",
        "outputId": "f9679435-006e-4814-da7c-6aa9250c1569"
      },
      "source": [
        "calculate_sensitivity_specificity(seg_tam_test[225][0], pred_tam[225][0])"
      ],
      "execution_count": null,
      "outputs": [
        {
          "output_type": "execute_result",
          "data": {
            "text/plain": [
              "(0.9721545422902889, 0.005774115153397774, 0.053975694444444444)"
            ]
          },
          "metadata": {
            "tags": []
          },
          "execution_count": 13
        }
      ]
    },
    {
      "cell_type": "code",
      "metadata": {
        "id": "2rBTJcrixiwo"
      },
      "source": [
        "def calculate_sensitivity_specificity(y_test, y_pred_test):\n",
        "    # Note: More parameters are defined than necessary.\n",
        "    # This would allow return of other measures other than sensitivity and specificity\n",
        "\n",
        "    # Get true/false for whether a breach actually occurred\n",
        "    actual_pos = y_test == 1\n",
        "    actual_neg = y_test == 0\n",
        "\n",
        "    # Get true and false test (true test match actual, false tests differ from actual)\n",
        "    true_pos = (y_pred_test == 1) & (actual_pos)\n",
        "    false_pos = (y_pred_test == 1) & (actual_neg)\n",
        "    true_neg = (y_pred_test == 0) & (actual_neg)\n",
        "    false_neg = (y_pred_test == 0) & (actual_pos)\n",
        "\n",
        "    # Calculate accuracy\n",
        "    accuracy = np.mean(y_pred_test == y_test)\n",
        "\n",
        "    # Calculate sensitivity and specificity\n",
        "    sensitivity = np.sum(true_pos) / np.sum(actual_pos)\n",
        "    specificity = np.sum(true_neg) / np.sum(actual_neg)\n",
        "\n",
        "    return sensitivity, specificity, accuracy"
      ],
      "execution_count": null,
      "outputs": []
    },
    {
      "cell_type": "code",
      "metadata": {
        "id": "bgt3ufxkOL4D"
      },
      "source": [
        "Y_pred = pred_tam"
      ],
      "execution_count": null,
      "outputs": []
    },
    {
      "cell_type": "code",
      "metadata": {
        "id": "tX5R88S8ORQX"
      },
      "source": [
        "Y_val = seg_tam_test"
      ],
      "execution_count": null,
      "outputs": []
    },
    {
      "cell_type": "code",
      "metadata": {
        "colab": {
          "base_uri": "https://localhost:8080/"
        },
        "id": "0oqy3dc0nwXM",
        "outputId": "1f2754d6-8769-4190-8e29-efd45f111936"
      },
      "source": [
        "print(FN)"
      ],
      "execution_count": null,
      "outputs": [
        {
          "output_type": "stream",
          "text": [
            "209\n"
          ],
          "name": "stdout"
        }
      ]
    },
    {
      "cell_type": "code",
      "metadata": {
        "colab": {
          "base_uri": "https://localhost:8080/"
        },
        "id": "_AnHa6vBnTzH",
        "outputId": "b5e7bcaf-d50d-42e2-aa3b-92b2fe4c4db1"
      },
      "source": [
        "print(TP)"
      ],
      "execution_count": null,
      "outputs": [
        {
          "output_type": "stream",
          "text": [
            "2793\n"
          ],
          "name": "stdout"
        }
      ]
    },
    {
      "cell_type": "code",
      "metadata": {
        "colab": {
          "base_uri": "https://localhost:8080/"
        },
        "id": "AsxxV46ljJk6",
        "outputId": "a2d15177-8770-490d-a810-23e249de116e"
      },
      "source": [
        "i=225\n",
        "FP = len(np.where(Y_pred[i][0] - Y_val[i][0]  == -1)[0])\n",
        "FN = len(np.where(Y_pred[i][0] - Y_val[i][0]  == 1)[0])\n",
        "TP = len(np.where(Y_pred[i][0] + Y_val[i][0] == 2)[0])\n",
        "TN = len(np.where(Y_pred[i][0] + Y_val[i][0] == 0)[0])\n",
        "sensitivity = (TP/(TP+FN))\n",
        "print(sensitivity)"
      ],
      "execution_count": null,
      "outputs": [
        {
          "output_type": "stream",
          "text": [
            "0.930379746835443\n"
          ],
          "name": "stdout"
        }
      ]
    },
    {
      "cell_type": "code",
      "metadata": {
        "id": "eHRZBCBrQYFt"
      },
      "source": [
        "sum_sensitivity=0\n",
        "mean_sensitivity=0\n",
        "a=0\n",
        "for i in range(0,len(seg_tam_test)):\n",
        "  FP = len(np.where(Y_pred[i][0] - Y_val[i][0]  == -1)[0])\n",
        "  FN = len(np.where(Y_pred[i][0] - Y_val[i][0]  == 1)[0])\n",
        "  TP = len(np.where(Y_pred[i][0] + Y_val[i][0] == 2)[0])\n",
        "  TN = len(np.where(Y_pred[i][0] + Y_val[i][0] == 0)[0])\n",
        "  try:\n",
        "    sensitivity = (TP/(TP+FN))\n",
        "  except ZeroDivisionError:\n",
        "    sensitivity = 0\n",
        "  sum_sensitivity = sum_sensitivity + sensitivity\n",
        "mean_sensitivity = sum_sensitivity / len(seg_tam_test)"
      ],
      "execution_count": null,
      "outputs": []
    },
    {
      "cell_type": "code",
      "metadata": {
        "colab": {
          "base_uri": "https://localhost:8080/"
        },
        "id": "q-9olKZ3RiHE",
        "outputId": "4901ea6e-c4df-427d-a151-5e1c5ebce7b7"
      },
      "source": [
        "print(mean_sensitivity)"
      ],
      "execution_count": null,
      "outputs": [
        {
          "output_type": "stream",
          "text": [
            "0.373878436960123\n"
          ],
          "name": "stdout"
        }
      ]
    },
    {
      "cell_type": "code",
      "metadata": {
        "colab": {
          "base_uri": "https://localhost:8080/"
        },
        "id": "iU8mGJ8Wvsf7",
        "outputId": "9b43c80f-acf9-47c5-f04a-21b55bb5340d"
      },
      "source": [
        "sensitivity, specificity, accuracy = calculate_sensitivity_specificity(seg_tam_test[x][0], pred_tam[0][0])\n",
        "dice = compute_dice(seg_tam_test[x][0], pred_tam[0][0])\n",
        "print ('WT Sensitivity:', sensitivity)\n",
        "print ('WT Specificity:', specificity)\n",
        "print ('WT Accuracy:', accuracy)\n",
        "print ('WT Dice:', dice)\n",
        "sensitivity, specificity, accuracy = calculate_sensitivity_specificity(seg_ödemsiz_test[x][0], pred_ödemsiz[0][0])\n",
        "dice = compute_dice(seg_ödemsiz_test[x][0], pred_ödemsiz[0][0])\n",
        "print ('TC Sensitivity:', sensitivity)\n",
        "print ('TC Specificity:', specificity)\n",
        "print ('TC Accuracy:', accuracy)\n",
        "print ('TC Dice:', dice)\n",
        "sensitivity, specificity, accuracy = calculate_sensitivity_specificity(seg_geniş_test[x][0], pred_genis[0][0])\n",
        "dice = compute_dice(seg_geniş_test[x][0], pred_genis[0][0])\n",
        "print ('ET Sensitivity:', sensitivity)\n",
        "print ('ET Specificity:', specificity)\n",
        "print ('ET Accuracy:', accuracy)\n",
        "print ('ET Dice:', dice)"
      ],
      "execution_count": null,
      "outputs": [
        {
          "output_type": "stream",
          "text": [
            "WT Sensitivity: 0.9716923076923077\n",
            "WT Specificity: 0.032585096596136155\n",
            "WT Accuracy: 0.08557291666666667\n",
            "WT Dice: 0.971150926207106\n",
            "TC Sensitivity: 0.9064935064935065\n",
            "TC Specificity: 0.014978589530717469\n",
            "TC Accuracy: 0.0209375\n",
            "TC Dice: 0.9427083333333334\n",
            "ET Sensitivity: 0.0\n",
            "ET Specificity: 0.9100750829404575\n",
            "ET Accuracy: 0.9048611111111111\n",
            "ET Dice: 0.03529411764705882\n"
          ],
          "name": "stdout"
        }
      ]
    },
    {
      "cell_type": "code",
      "metadata": {
        "id": "3R4li-vHwyrx"
      },
      "source": [
        "def compute_dice(im1, im2, empty_score=1.0):\n",
        "    im1 = np.asarray(im1>0.5).astype(np.bool)\n",
        "    im2 = np.asarray(im2>0.5).astype(np.bool)\n",
        "\n",
        "    if im1.shape != im2.shape:\n",
        "        raise ValueError(\"Shape mismatch: im1 and im2 must have the same shape.\")\n",
        "\n",
        "    im_sum = im1.sum() + im2.sum()\n",
        "    if im_sum == 0:\n",
        "        return empty_score\n",
        "\n",
        "    intersection = np.logical_and(im1, im2)\n",
        "\n",
        "    return 2. * intersection.sum() / im_sum"
      ],
      "execution_count": null,
      "outputs": []
    },
    {
      "cell_type": "code",
      "metadata": {
        "id": "YVB4To678ni1"
      },
      "source": [
        "def calculate_sensitivity_specificity(y_test, y_pred_test):\n",
        "    # Note: More parameters are defined than necessary.\n",
        "    # This would allow return of other measures other than sensitivity and specificity\n",
        "\n",
        "    # Get true/false for whether a breach actually occurred\n",
        "    actual_pos = y_test == 1\n",
        "    actual_neg = y_test == 0\n",
        "\n",
        "    # Get true and false test (true test match actual, false tests differ from actual)\n",
        "    true_pos = (y_pred_test == 1) & (actual_pos)\n",
        "    false_pos = (y_pred_test == 1) & (actual_neg)\n",
        "    true_neg = (y_pred_test == 0) & (actual_neg)\n",
        "    false_neg = (y_pred_test == 0) & (actual_pos)\n",
        "\n",
        "    # Calculate accuracy\n",
        "    accuracy = np.mean(y_pred_test == y_test)\n",
        "\n",
        "    # Calculate sensitivity and specificity\n",
        "    sensitivity = np.sum(true_pos) / np.sum(actual_pos)\n",
        "    specificity = np.sum(true_neg) / np.sum(actual_neg)\n",
        "\n",
        "    return sensitivity, specificity, accuracy"
      ],
      "execution_count": null,
      "outputs": []
    },
    {
      "cell_type": "markdown",
      "metadata": {
        "id": "hWloFdnQJXuM"
      },
      "source": [
        "Tam Tümör"
      ]
    },
    {
      "cell_type": "code",
      "metadata": {
        "colab": {
          "base_uri": "https://localhost:8080/"
        },
        "id": "zhIK75ZtXhnL",
        "outputId": "b059828a-8f71-4ae2-c17d-f3d4faca39b6"
      },
      "source": [
        "sum_dice=0\n",
        "mean_dice=0\n",
        "for i in range(1,len(seg_tam_test)):\n",
        "  pred_tam = model_tam.predict(x_test[i-1:i,:,:,:])\n",
        "  pred_tam[pred_tam > 0.2] = 2\n",
        "  pred_tam[pred_tam != 2 ] = 0\n",
        "  dice = compute_dice(pred_tam[0,0,:,:],seg_tam_test[i,0,:,:])\n",
        "  sum_dice = sum_dice + dice\n",
        "mean_dice = sum_dice / len(seg_tam_test)\n",
        "print(mean_dice)"
      ],
      "execution_count": null,
      "outputs": [
        {
          "output_type": "stream",
          "text": [
            "0.8203716897057176\n"
          ],
          "name": "stdout"
        }
      ]
    },
    {
      "cell_type": "code",
      "metadata": {
        "colab": {
          "base_uri": "https://localhost:8080/"
        },
        "id": "ZpQ-CoPPCiln",
        "outputId": "c59c0b39-45d4-45c8-d3a0-411924386bb8"
      },
      "source": [
        "sum_sensitivity=0\n",
        "mean_sensitivity=0\n",
        "sum_specifity=0\n",
        "mean_specifity=0\n",
        "sum_accuracy=0\n",
        "mean_accuracy=0\n",
        "sum_dice=0\n",
        "mean_dice=0\n",
        "for i in range(0,len(seg_tam_test)):\n",
        "  pred_tam = model_tam.predict(np.expand_dims(x_test[i,:,:,:],axis=0))\n",
        "  pred_tam[pred_tam > 0.2] = 2\n",
        "  pred_tam[pred_tam != 2 ] = 0\n",
        "  dice = compute_dice(pred_tam[0,0,:,:],seg_tam_test[i,0,:,:])\n",
        "  sensitivity, specifity, accuracy = calculate_sensitivity_specificity(seg_tam_test[i][0], pred_tam[0][0])\n",
        "  sum_dice = sum_dice + dice\n",
        "  sum_sensitivity = sum_sensitivity + sensitivity\n",
        "  sum_specifity = sum_specifity + specifity\n",
        "  sum_accuracy = sum_accuracy + accuracy\n",
        "mean_dice = sum_dice / len(seg_tam_test)\n",
        "mean_sensitivity = sum_sensitivity / len(seg_tam_test)\n",
        "mean_specifity = sum_specifity / len(seg_tam_test)\n",
        "mean_accuracy = sum_accuracy / len(seg_tam_test)\n",
        "\n",
        "print(mean_dice, mean_sensitivity, mean_specifity, mean_accuracy)"
      ],
      "execution_count": null,
      "outputs": [
        {
          "output_type": "stream",
          "text": [
            "/usr/local/lib/python3.7/dist-packages/ipykernel_launcher.py:19: RuntimeWarning: invalid value encountered in long_scalars\n"
          ],
          "name": "stderr"
        },
        {
          "output_type": "stream",
          "text": [
            "0.8328462865161715 nan 0.9988931344029003 0.9761910078957416\n"
          ],
          "name": "stdout"
        }
      ]
    },
    {
      "cell_type": "markdown",
      "metadata": {
        "id": "zXCE4MJKJex1"
      },
      "source": [
        "Tümör Merkezi (Ödemsiz Tümör)"
      ]
    },
    {
      "cell_type": "code",
      "metadata": {
        "colab": {
          "base_uri": "https://localhost:8080/",
          "height": 231
        },
        "id": "wsfAMoGM-PD2",
        "outputId": "2f48b67f-7425-4c79-ceb1-b8fafeae636c"
      },
      "source": [
        "sum_sensitivity=0\n",
        "mean_sensitivity=0\n",
        "sum_specifity=0\n",
        "mean_specifity=0\n",
        "sum_accuracy=0\n",
        "mean_accuracy=0\n",
        "sum_dice=0\n",
        "mean_dice=0\n",
        "a=0\n",
        "for i in range(0,len(seg_tam_test)):\n",
        "  pred_tam = model_tam.predict(np.expand_dims(x_test[i,:,:,:],axis=0))\n",
        "  t1ce_tam = pred_tam[0] * t1ce_test[i]\n",
        "  expand_img = np.expand_dims(t1ce_tam,axis=0)\n",
        "  pred_ödemsiz = model_ödemsiz.predict(expand_img)\n",
        "  pred_ödemsiz[pred_ödemsiz > 0.2] = 1\n",
        "  pred_ödemsiz[pred_ödemsiz != 1 ] = 0\n",
        "  dice = compute_dice(pred_ödemsiz[0,0,:,:],seg_ödemsiz_test[i,0,:,:])\n",
        "  sensitivity, specifity, accuracy = calculate_sensitivity_specificity(seg_ödemsiz_test[i][0], pred_ödemsiz[0][0])\n",
        "  sum_dice = sum_dice + dice\n",
        "  if sensitivity != 'nan':\n",
        "    sum_sensitivity = sum_sensitivity + sensitivity\n",
        "    a=a+1\n",
        "\n",
        "  sum_specifity = sum_specifity + specifity\n",
        "  sum_accuracy = sum_accuracy + accuracy\n",
        "mean_dice = sum_dice / len(seg_ödemsiz_test)\n",
        "mean_sensitivity = sum_sensitivity / a\n",
        "mean_specifity = sum_specifity / len(seg_ödemsiz_test)\n",
        "mean_accuracy = sum_accuracy / len(seg_ödemsiz_test)\n",
        "\n",
        "print(mean_dice, mean_sensitivity, mean_specifity, mean_accuracy)"
      ],
      "execution_count": null,
      "outputs": [
        {
          "output_type": "error",
          "ename": "NameError",
          "evalue": "ignored",
          "traceback": [
            "\u001b[0;31m---------------------------------------------------------------------------\u001b[0m",
            "\u001b[0;31mNameError\u001b[0m                                 Traceback (most recent call last)",
            "\u001b[0;32m<ipython-input-1-0f3369a4507b>\u001b[0m in \u001b[0;36m<module>\u001b[0;34m()\u001b[0m\n\u001b[1;32m      8\u001b[0m \u001b[0mmean_dice\u001b[0m\u001b[0;34m=\u001b[0m\u001b[0;36m0\u001b[0m\u001b[0;34m\u001b[0m\u001b[0;34m\u001b[0m\u001b[0m\n\u001b[1;32m      9\u001b[0m \u001b[0ma\u001b[0m\u001b[0;34m=\u001b[0m\u001b[0;36m0\u001b[0m\u001b[0;34m\u001b[0m\u001b[0;34m\u001b[0m\u001b[0m\n\u001b[0;32m---> 10\u001b[0;31m \u001b[0;32mfor\u001b[0m \u001b[0mi\u001b[0m \u001b[0;32min\u001b[0m \u001b[0mrange\u001b[0m\u001b[0;34m(\u001b[0m\u001b[0;36m0\u001b[0m\u001b[0;34m,\u001b[0m\u001b[0mlen\u001b[0m\u001b[0;34m(\u001b[0m\u001b[0mseg_tam_test\u001b[0m\u001b[0;34m)\u001b[0m\u001b[0;34m)\u001b[0m\u001b[0;34m:\u001b[0m\u001b[0;34m\u001b[0m\u001b[0;34m\u001b[0m\u001b[0m\n\u001b[0m\u001b[1;32m     11\u001b[0m   \u001b[0mpred_tam\u001b[0m \u001b[0;34m=\u001b[0m \u001b[0mmodel_tam\u001b[0m\u001b[0;34m.\u001b[0m\u001b[0mpredict\u001b[0m\u001b[0;34m(\u001b[0m\u001b[0mnp\u001b[0m\u001b[0;34m.\u001b[0m\u001b[0mexpand_dims\u001b[0m\u001b[0;34m(\u001b[0m\u001b[0mx_test\u001b[0m\u001b[0;34m[\u001b[0m\u001b[0mi\u001b[0m\u001b[0;34m,\u001b[0m\u001b[0;34m:\u001b[0m\u001b[0;34m,\u001b[0m\u001b[0;34m:\u001b[0m\u001b[0;34m,\u001b[0m\u001b[0;34m:\u001b[0m\u001b[0;34m]\u001b[0m\u001b[0;34m,\u001b[0m\u001b[0maxis\u001b[0m\u001b[0;34m=\u001b[0m\u001b[0;36m0\u001b[0m\u001b[0;34m)\u001b[0m\u001b[0;34m)\u001b[0m\u001b[0;34m\u001b[0m\u001b[0;34m\u001b[0m\u001b[0m\n\u001b[1;32m     12\u001b[0m   \u001b[0mt1ce_tam\u001b[0m \u001b[0;34m=\u001b[0m \u001b[0mpred_tam\u001b[0m\u001b[0;34m[\u001b[0m\u001b[0;36m0\u001b[0m\u001b[0;34m]\u001b[0m \u001b[0;34m*\u001b[0m \u001b[0mt1ce_test\u001b[0m\u001b[0;34m[\u001b[0m\u001b[0mi\u001b[0m\u001b[0;34m]\u001b[0m\u001b[0;34m\u001b[0m\u001b[0;34m\u001b[0m\u001b[0m\n",
            "\u001b[0;31mNameError\u001b[0m: name 'seg_tam_test' is not defined"
          ]
        }
      ]
    },
    {
      "cell_type": "markdown",
      "metadata": {
        "id": "M3YZn8e_Jhi9"
      },
      "source": [
        "Genişleyen Tümör"
      ]
    },
    {
      "cell_type": "code",
      "metadata": {
        "colab": {
          "base_uri": "https://localhost:8080/"
        },
        "id": "JZXCD7L0JkAm",
        "outputId": "9ffaa3b2-e7d2-48dd-a8d1-0d2c3993c235"
      },
      "source": [
        "sum_sensitivity=0\n",
        "mean_sensitivity=0\n",
        "sum_specifity=0\n",
        "mean_specifity=0\n",
        "sum_accuracy=0\n",
        "mean_accuracy=0\n",
        "sum_dice=0\n",
        "mean_dice=0\n",
        "for i in range(0,len(seg_tam_test)):\n",
        "  pred_tam = model_tam.predict(np.expand_dims(x_test[i,:,:,:],axis=0))\n",
        "  t1ce_tam = pred_tam[0] * t1ce_test[i]\n",
        "  expand_img = np.expand_dims(t1ce_tam,axis=0)\n",
        "  pred_ödemsiz = model_ödemsiz.predict(expand_img)\n",
        "  t1ce_ödemsiz = pred_ödemsiz[0]*t1ce_test[i]\n",
        "  expand_img = np.expand_dims(t1ce_ödemsiz,axis=0)\n",
        "  pred_geniş = model_genis.predict(expand_img)\n",
        "  pred_geniş[pred_geniş > 0.2] = 4\n",
        "  pred_geniş[pred_geniş != 4 ] = 0\n",
        "  dice = compute_dice(pred_geniş[0,0,:,:],seg_geniş_test[i,0,:,:])\n",
        "  sensitivity, specifity, accuracy = calculate_sensitivity_specificity(seg_geniş_test[i][0], pred_geniş[0][0])\n",
        "  sum_dice = sum_dice + dice\n",
        "  sum_sensitivity = sum_sensitivity + sensitivity\n",
        "  sum_specifity = sum_specifity + specifity\n",
        "  sum_accuracy = sum_accuracy + accuracy\n",
        "mean_dice = sum_dice / len(seg_ödemsiz_test)\n",
        "mean_sensitivity = sum_sensitivity / len(seg_ödemsiz_test)\n",
        "mean_specifity = sum_specifity / len(seg_ödemsiz_test)\n",
        "mean_accuracy = sum_accuracy / len(seg_ödemsiz_test)\n",
        "\n",
        "print(mean_dice, mean_sensitivity, mean_specifity, mean_accuracy)"
      ],
      "execution_count": null,
      "outputs": [
        {
          "output_type": "stream",
          "text": [
            "/usr/local/lib/python3.7/dist-packages/ipykernel_launcher.py:19: RuntimeWarning: invalid value encountered in long_scalars\n"
          ],
          "name": "stderr"
        },
        {
          "output_type": "stream",
          "text": [
            "0.6750193786241216 nan 0.9999838162964488 0.9969173087899539\n"
          ],
          "name": "stdout"
        }
      ]
    },
    {
      "cell_type": "code",
      "metadata": {
        "colab": {
          "base_uri": "https://localhost:8080/"
        },
        "id": "JlTAIXDSQ690",
        "outputId": "ef1cf46d-6623-47ce-887d-72ce3d3df334"
      },
      "source": [
        "sum_dice=0\n",
        "mean_dice=0\n",
        "for i in range(1,len(seg_tam_test)):\n",
        "  pred_tam = model_tam.predict(np.expand_dims(x_test[i,:,:,:],axis=0))\n",
        "  t1ce_tam = pred_tam[0] * t1ce_test[i]\n",
        "  expand_img = np.expand_dims(t1ce_tam,axis=0)\n",
        "  pred_ödemsiz = model_ödemsiz.predict(expand_img)\n",
        "  t1ce_ödemsiz = pred_ödemsiz[0] * t1ce_test[i]\n",
        "  expand_img = np.expand_dims(t1ce_ödemsiz,axis=0)\n",
        "  pred_geniş = model_genis.predict(expand_img)\n",
        "  pred_geniş[pred_geniş > 0.2] = 4\n",
        "  pred_geniş[pred_geniş != 4 ] = 0\n",
        "  dice = compute_dice(pred_geniş[0,0,:,:],seg_geniş_test[i,0,:,:])\n",
        "  sum_dice = sum_dice + dice\n",
        "mean_dice = sum_dice / len(seg_geniş_test)\n",
        "print(mean_dice)"
      ],
      "execution_count": null,
      "outputs": [
        {
          "output_type": "stream",
          "text": [
            "0.6748481457474094\n"
          ],
          "name": "stdout"
        }
      ]
    }
  ]
}